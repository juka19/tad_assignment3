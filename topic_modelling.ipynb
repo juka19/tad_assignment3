{
 "cells": [
  {
   "cell_type": "code",
   "execution_count": 21,
   "metadata": {},
   "outputs": [],
   "source": [
    "import pandas as pd\n",
    "from bertopic import BERTopic\n",
    "from sklearn.feature_extraction.text import CountVectorizer\n",
    "import umap\n",
    "import umap\n",
    "import hdbscan\n",
    "from bokeh.plotting import figure, show, output_notebook\n",
    "from bokeh.models import LinearColorMapper, HoverTool, ColumnDataSource\n",
    "from bokeh.palettes import GnBu as palette\n",
    "from bokeh.transform import linear_cmap"
   ]
  },
  {
   "cell_type": "code",
   "execution_count": 50,
   "metadata": {},
   "outputs": [],
   "source": [
    "data = pd.read_csv('data\\\\cosponsor_recalculated.csv')\n",
    "data2 = pd.read_csv('data\\\\old_data\\\\all_bills.csv')\n",
    "\n",
    "data = pd.merge(data, data2, on = 'number', how='left')\n",
    "\n",
    "data = data[data['cosponsor_party'] == 'D']\n",
    "summaries = [str(sum) for sum in data.summary.to_list()]"
   ]
  },
  {
   "cell_type": "code",
   "execution_count": 51,
   "metadata": {},
   "outputs": [
    {
     "data": {
      "application/vnd.jupyter.widget-view+json": {
       "model_id": "6199b3d08f284041a725b93b10c24ebe",
       "version_major": 2,
       "version_minor": 0
      },
      "text/plain": [
       "Batches:   0%|          | 0/28 [00:00<?, ?it/s]"
      ]
     },
     "metadata": {},
     "output_type": "display_data"
    },
    {
     "name": "stderr",
     "output_type": "stream",
     "text": [
      "2022-12-01 01:59:02,403 - BERTopic - Transformed documents to Embeddings\n",
      "2022-12-01 01:59:05,777 - BERTopic - Reduced dimensionality\n",
      "2022-12-01 01:59:05,840 - BERTopic - Clustered reduced embeddings\n"
     ]
    },
    {
     "data": {
      "text/plain": [
       "<bertopic._bertopic.BERTopic at 0x19a900f92b0>"
      ]
     },
     "execution_count": 51,
     "metadata": {},
     "output_type": "execute_result"
    }
   ],
   "source": [
    "vectorizer = CountVectorizer(stop_words='english')\n",
    "model = BERTopic(verbose=True, vectorizer_model=vectorizer)\n",
    "\n",
    "model.fit(summaries)"
   ]
  },
  {
   "cell_type": "code",
   "execution_count": 7,
   "metadata": {},
   "outputs": [
    {
     "data": {
      "application/vnd.plotly.v1+json": {
       "config": {
        "plotlyServerURL": "https://plot.ly"
       },
       "data": [
        {
         "marker": {
          "color": "#D55E00"
         },
         "orientation": "h",
         "type": "bar",
         "x": [
          0.19135916055832222,
          0.20864441235738426,
          0.216192587919318,
          0.22011511507477555,
          0.2290966852266667
         ],
         "xaxis": "x",
         "y": [
          "facility  ",
          "located  ",
          "designates  ",
          "post  ",
          "postal  "
         ],
         "yaxis": "y"
        },
        {
         "marker": {
          "color": "#0072B2"
         },
         "orientation": "h",
         "type": "bar",
         "x": [
          0.023042320629495343,
          0.02598930826903277,
          0.026593397210422528,
          0.030071597273124927,
          0.03889251331465122
         ],
         "xaxis": "x2",
         "y": [
          "human  ",
          "shall  ",
          "act  ",
          "information  ",
          "trafficking  "
         ],
         "yaxis": "y2"
        },
        {
         "marker": {
          "color": "#CC79A7"
         },
         "orientation": "h",
         "type": "bar",
         "x": [
          0.029506942627996413,
          0.030708151477172096,
          0.03926017766367795,
          0.10252277116755767,
          0.12570433111906515
         ],
         "xaxis": "x3",
         "y": [
          "veteran  ",
          "program  ",
          "care  ",
          "veterans  ",
          "va  "
         ],
         "yaxis": "y3"
        },
        {
         "marker": {
          "color": "#E69F00"
         },
         "orientation": "h",
         "type": "bar",
         "x": [
          0.03545510945105986,
          0.04131062858856045,
          0.04833993859972983,
          0.06485426582615064,
          0.09122407042253647
         ],
         "xaxis": "x4",
         "y": [
          "park  ",
          "tribe  ",
          "national  ",
          "interior  ",
          "land  "
         ],
         "yaxis": "y4"
        },
        {
         "marker": {
          "color": "#56B4E9"
         },
         "orientation": "h",
         "type": "bar",
         "x": [
          0.026463345854813972,
          0.02652707077756302,
          0.03021348615133606,
          0.036239373414364416,
          0.03957703380557525
         ],
         "xaxis": "x5",
         "y": [
          "provided  ",
          "appropriations  ",
          "division  ",
          "funds  ",
          "sec  "
         ],
         "yaxis": "y5"
        },
        {
         "marker": {
          "color": "#009E73"
         },
         "orientation": "h",
         "type": "bar",
         "x": [
          0.027233794360750088,
          0.02740494101668429,
          0.03609120442904887,
          0.037445303485598484,
          0.051025379350341724
         ],
         "xaxis": "x6",
         "y": [
          "tsa  ",
          "airport  ",
          "faa  ",
          "sec  ",
          "shall  "
         ],
         "yaxis": "y6"
        },
        {
         "marker": {
          "color": "#F0E442"
         },
         "orientation": "h",
         "type": "bar",
         "x": [
          0.035472492700722225,
          0.04212286943321105,
          0.05511824868127165,
          0.055547451870163064,
          0.06499087532074507
         ],
         "xaxis": "x7",
         "y": [
          "sec  ",
          "project  ",
          "water  ",
          "engineers  ",
          "corps  "
         ],
         "yaxis": "y7"
        },
        {
         "marker": {
          "color": "#D55E00"
         },
         "orientation": "h",
         "type": "bar",
         "x": [
          0.14991017538169937,
          0.16326133885551372,
          0.191683551891618,
          0.24556368201222245,
          0.33153268896464955
         ],
         "xaxis": "x8",
         "y": [
          "outpatient  ",
          "designates  ",
          "veterans  ",
          "affairs  ",
          "clinic  "
         ],
         "yaxis": "y8"
        }
       ],
       "layout": {
        "annotations": [
         {
          "font": {
           "size": 16
          },
          "showarrow": false,
          "text": "Topic 0",
          "x": 0.0875,
          "xanchor": "center",
          "xref": "paper",
          "y": 1,
          "yanchor": "bottom",
          "yref": "paper"
         },
         {
          "font": {
           "size": 16
          },
          "showarrow": false,
          "text": "Topic 1",
          "x": 0.36250000000000004,
          "xanchor": "center",
          "xref": "paper",
          "y": 1,
          "yanchor": "bottom",
          "yref": "paper"
         },
         {
          "font": {
           "size": 16
          },
          "showarrow": false,
          "text": "Topic 2",
          "x": 0.6375000000000001,
          "xanchor": "center",
          "xref": "paper",
          "y": 1,
          "yanchor": "bottom",
          "yref": "paper"
         },
         {
          "font": {
           "size": 16
          },
          "showarrow": false,
          "text": "Topic 3",
          "x": 0.9125,
          "xanchor": "center",
          "xref": "paper",
          "y": 1,
          "yanchor": "bottom",
          "yref": "paper"
         },
         {
          "font": {
           "size": 16
          },
          "showarrow": false,
          "text": "Topic 4",
          "x": 0.0875,
          "xanchor": "center",
          "xref": "paper",
          "y": 0.4,
          "yanchor": "bottom",
          "yref": "paper"
         },
         {
          "font": {
           "size": 16
          },
          "showarrow": false,
          "text": "Topic 5",
          "x": 0.36250000000000004,
          "xanchor": "center",
          "xref": "paper",
          "y": 0.4,
          "yanchor": "bottom",
          "yref": "paper"
         },
         {
          "font": {
           "size": 16
          },
          "showarrow": false,
          "text": "Topic 6",
          "x": 0.6375000000000001,
          "xanchor": "center",
          "xref": "paper",
          "y": 0.4,
          "yanchor": "bottom",
          "yref": "paper"
         },
         {
          "font": {
           "size": 16
          },
          "showarrow": false,
          "text": "Topic 7",
          "x": 0.9125,
          "xanchor": "center",
          "xref": "paper",
          "y": 0.4,
          "yanchor": "bottom",
          "yref": "paper"
         }
        ],
        "height": 500,
        "hoverlabel": {
         "bgcolor": "white",
         "font": {
          "family": "Rockwell",
          "size": 16
         }
        },
        "showlegend": false,
        "template": {
         "data": {
          "bar": [
           {
            "error_x": {
             "color": "#2a3f5f"
            },
            "error_y": {
             "color": "#2a3f5f"
            },
            "marker": {
             "line": {
              "color": "white",
              "width": 0.5
             },
             "pattern": {
              "fillmode": "overlay",
              "size": 10,
              "solidity": 0.2
             }
            },
            "type": "bar"
           }
          ],
          "barpolar": [
           {
            "marker": {
             "line": {
              "color": "white",
              "width": 0.5
             },
             "pattern": {
              "fillmode": "overlay",
              "size": 10,
              "solidity": 0.2
             }
            },
            "type": "barpolar"
           }
          ],
          "carpet": [
           {
            "aaxis": {
             "endlinecolor": "#2a3f5f",
             "gridcolor": "#C8D4E3",
             "linecolor": "#C8D4E3",
             "minorgridcolor": "#C8D4E3",
             "startlinecolor": "#2a3f5f"
            },
            "baxis": {
             "endlinecolor": "#2a3f5f",
             "gridcolor": "#C8D4E3",
             "linecolor": "#C8D4E3",
             "minorgridcolor": "#C8D4E3",
             "startlinecolor": "#2a3f5f"
            },
            "type": "carpet"
           }
          ],
          "choropleth": [
           {
            "colorbar": {
             "outlinewidth": 0,
             "ticks": ""
            },
            "type": "choropleth"
           }
          ],
          "contour": [
           {
            "colorbar": {
             "outlinewidth": 0,
             "ticks": ""
            },
            "colorscale": [
             [
              0,
              "#0d0887"
             ],
             [
              0.1111111111111111,
              "#46039f"
             ],
             [
              0.2222222222222222,
              "#7201a8"
             ],
             [
              0.3333333333333333,
              "#9c179e"
             ],
             [
              0.4444444444444444,
              "#bd3786"
             ],
             [
              0.5555555555555556,
              "#d8576b"
             ],
             [
              0.6666666666666666,
              "#ed7953"
             ],
             [
              0.7777777777777778,
              "#fb9f3a"
             ],
             [
              0.8888888888888888,
              "#fdca26"
             ],
             [
              1,
              "#f0f921"
             ]
            ],
            "type": "contour"
           }
          ],
          "contourcarpet": [
           {
            "colorbar": {
             "outlinewidth": 0,
             "ticks": ""
            },
            "type": "contourcarpet"
           }
          ],
          "heatmap": [
           {
            "colorbar": {
             "outlinewidth": 0,
             "ticks": ""
            },
            "colorscale": [
             [
              0,
              "#0d0887"
             ],
             [
              0.1111111111111111,
              "#46039f"
             ],
             [
              0.2222222222222222,
              "#7201a8"
             ],
             [
              0.3333333333333333,
              "#9c179e"
             ],
             [
              0.4444444444444444,
              "#bd3786"
             ],
             [
              0.5555555555555556,
              "#d8576b"
             ],
             [
              0.6666666666666666,
              "#ed7953"
             ],
             [
              0.7777777777777778,
              "#fb9f3a"
             ],
             [
              0.8888888888888888,
              "#fdca26"
             ],
             [
              1,
              "#f0f921"
             ]
            ],
            "type": "heatmap"
           }
          ],
          "heatmapgl": [
           {
            "colorbar": {
             "outlinewidth": 0,
             "ticks": ""
            },
            "colorscale": [
             [
              0,
              "#0d0887"
             ],
             [
              0.1111111111111111,
              "#46039f"
             ],
             [
              0.2222222222222222,
              "#7201a8"
             ],
             [
              0.3333333333333333,
              "#9c179e"
             ],
             [
              0.4444444444444444,
              "#bd3786"
             ],
             [
              0.5555555555555556,
              "#d8576b"
             ],
             [
              0.6666666666666666,
              "#ed7953"
             ],
             [
              0.7777777777777778,
              "#fb9f3a"
             ],
             [
              0.8888888888888888,
              "#fdca26"
             ],
             [
              1,
              "#f0f921"
             ]
            ],
            "type": "heatmapgl"
           }
          ],
          "histogram": [
           {
            "marker": {
             "pattern": {
              "fillmode": "overlay",
              "size": 10,
              "solidity": 0.2
             }
            },
            "type": "histogram"
           }
          ],
          "histogram2d": [
           {
            "colorbar": {
             "outlinewidth": 0,
             "ticks": ""
            },
            "colorscale": [
             [
              0,
              "#0d0887"
             ],
             [
              0.1111111111111111,
              "#46039f"
             ],
             [
              0.2222222222222222,
              "#7201a8"
             ],
             [
              0.3333333333333333,
              "#9c179e"
             ],
             [
              0.4444444444444444,
              "#bd3786"
             ],
             [
              0.5555555555555556,
              "#d8576b"
             ],
             [
              0.6666666666666666,
              "#ed7953"
             ],
             [
              0.7777777777777778,
              "#fb9f3a"
             ],
             [
              0.8888888888888888,
              "#fdca26"
             ],
             [
              1,
              "#f0f921"
             ]
            ],
            "type": "histogram2d"
           }
          ],
          "histogram2dcontour": [
           {
            "colorbar": {
             "outlinewidth": 0,
             "ticks": ""
            },
            "colorscale": [
             [
              0,
              "#0d0887"
             ],
             [
              0.1111111111111111,
              "#46039f"
             ],
             [
              0.2222222222222222,
              "#7201a8"
             ],
             [
              0.3333333333333333,
              "#9c179e"
             ],
             [
              0.4444444444444444,
              "#bd3786"
             ],
             [
              0.5555555555555556,
              "#d8576b"
             ],
             [
              0.6666666666666666,
              "#ed7953"
             ],
             [
              0.7777777777777778,
              "#fb9f3a"
             ],
             [
              0.8888888888888888,
              "#fdca26"
             ],
             [
              1,
              "#f0f921"
             ]
            ],
            "type": "histogram2dcontour"
           }
          ],
          "mesh3d": [
           {
            "colorbar": {
             "outlinewidth": 0,
             "ticks": ""
            },
            "type": "mesh3d"
           }
          ],
          "parcoords": [
           {
            "line": {
             "colorbar": {
              "outlinewidth": 0,
              "ticks": ""
             }
            },
            "type": "parcoords"
           }
          ],
          "pie": [
           {
            "automargin": true,
            "type": "pie"
           }
          ],
          "scatter": [
           {
            "fillpattern": {
             "fillmode": "overlay",
             "size": 10,
             "solidity": 0.2
            },
            "type": "scatter"
           }
          ],
          "scatter3d": [
           {
            "line": {
             "colorbar": {
              "outlinewidth": 0,
              "ticks": ""
             }
            },
            "marker": {
             "colorbar": {
              "outlinewidth": 0,
              "ticks": ""
             }
            },
            "type": "scatter3d"
           }
          ],
          "scattercarpet": [
           {
            "marker": {
             "colorbar": {
              "outlinewidth": 0,
              "ticks": ""
             }
            },
            "type": "scattercarpet"
           }
          ],
          "scattergeo": [
           {
            "marker": {
             "colorbar": {
              "outlinewidth": 0,
              "ticks": ""
             }
            },
            "type": "scattergeo"
           }
          ],
          "scattergl": [
           {
            "marker": {
             "colorbar": {
              "outlinewidth": 0,
              "ticks": ""
             }
            },
            "type": "scattergl"
           }
          ],
          "scattermapbox": [
           {
            "marker": {
             "colorbar": {
              "outlinewidth": 0,
              "ticks": ""
             }
            },
            "type": "scattermapbox"
           }
          ],
          "scatterpolar": [
           {
            "marker": {
             "colorbar": {
              "outlinewidth": 0,
              "ticks": ""
             }
            },
            "type": "scatterpolar"
           }
          ],
          "scatterpolargl": [
           {
            "marker": {
             "colorbar": {
              "outlinewidth": 0,
              "ticks": ""
             }
            },
            "type": "scatterpolargl"
           }
          ],
          "scatterternary": [
           {
            "marker": {
             "colorbar": {
              "outlinewidth": 0,
              "ticks": ""
             }
            },
            "type": "scatterternary"
           }
          ],
          "surface": [
           {
            "colorbar": {
             "outlinewidth": 0,
             "ticks": ""
            },
            "colorscale": [
             [
              0,
              "#0d0887"
             ],
             [
              0.1111111111111111,
              "#46039f"
             ],
             [
              0.2222222222222222,
              "#7201a8"
             ],
             [
              0.3333333333333333,
              "#9c179e"
             ],
             [
              0.4444444444444444,
              "#bd3786"
             ],
             [
              0.5555555555555556,
              "#d8576b"
             ],
             [
              0.6666666666666666,
              "#ed7953"
             ],
             [
              0.7777777777777778,
              "#fb9f3a"
             ],
             [
              0.8888888888888888,
              "#fdca26"
             ],
             [
              1,
              "#f0f921"
             ]
            ],
            "type": "surface"
           }
          ],
          "table": [
           {
            "cells": {
             "fill": {
              "color": "#EBF0F8"
             },
             "line": {
              "color": "white"
             }
            },
            "header": {
             "fill": {
              "color": "#C8D4E3"
             },
             "line": {
              "color": "white"
             }
            },
            "type": "table"
           }
          ]
         },
         "layout": {
          "annotationdefaults": {
           "arrowcolor": "#2a3f5f",
           "arrowhead": 0,
           "arrowwidth": 1
          },
          "autotypenumbers": "strict",
          "coloraxis": {
           "colorbar": {
            "outlinewidth": 0,
            "ticks": ""
           }
          },
          "colorscale": {
           "diverging": [
            [
             0,
             "#8e0152"
            ],
            [
             0.1,
             "#c51b7d"
            ],
            [
             0.2,
             "#de77ae"
            ],
            [
             0.3,
             "#f1b6da"
            ],
            [
             0.4,
             "#fde0ef"
            ],
            [
             0.5,
             "#f7f7f7"
            ],
            [
             0.6,
             "#e6f5d0"
            ],
            [
             0.7,
             "#b8e186"
            ],
            [
             0.8,
             "#7fbc41"
            ],
            [
             0.9,
             "#4d9221"
            ],
            [
             1,
             "#276419"
            ]
           ],
           "sequential": [
            [
             0,
             "#0d0887"
            ],
            [
             0.1111111111111111,
             "#46039f"
            ],
            [
             0.2222222222222222,
             "#7201a8"
            ],
            [
             0.3333333333333333,
             "#9c179e"
            ],
            [
             0.4444444444444444,
             "#bd3786"
            ],
            [
             0.5555555555555556,
             "#d8576b"
            ],
            [
             0.6666666666666666,
             "#ed7953"
            ],
            [
             0.7777777777777778,
             "#fb9f3a"
            ],
            [
             0.8888888888888888,
             "#fdca26"
            ],
            [
             1,
             "#f0f921"
            ]
           ],
           "sequentialminus": [
            [
             0,
             "#0d0887"
            ],
            [
             0.1111111111111111,
             "#46039f"
            ],
            [
             0.2222222222222222,
             "#7201a8"
            ],
            [
             0.3333333333333333,
             "#9c179e"
            ],
            [
             0.4444444444444444,
             "#bd3786"
            ],
            [
             0.5555555555555556,
             "#d8576b"
            ],
            [
             0.6666666666666666,
             "#ed7953"
            ],
            [
             0.7777777777777778,
             "#fb9f3a"
            ],
            [
             0.8888888888888888,
             "#fdca26"
            ],
            [
             1,
             "#f0f921"
            ]
           ]
          },
          "colorway": [
           "#636efa",
           "#EF553B",
           "#00cc96",
           "#ab63fa",
           "#FFA15A",
           "#19d3f3",
           "#FF6692",
           "#B6E880",
           "#FF97FF",
           "#FECB52"
          ],
          "font": {
           "color": "#2a3f5f"
          },
          "geo": {
           "bgcolor": "white",
           "lakecolor": "white",
           "landcolor": "white",
           "showlakes": true,
           "showland": true,
           "subunitcolor": "#C8D4E3"
          },
          "hoverlabel": {
           "align": "left"
          },
          "hovermode": "closest",
          "mapbox": {
           "style": "light"
          },
          "paper_bgcolor": "white",
          "plot_bgcolor": "white",
          "polar": {
           "angularaxis": {
            "gridcolor": "#EBF0F8",
            "linecolor": "#EBF0F8",
            "ticks": ""
           },
           "bgcolor": "white",
           "radialaxis": {
            "gridcolor": "#EBF0F8",
            "linecolor": "#EBF0F8",
            "ticks": ""
           }
          },
          "scene": {
           "xaxis": {
            "backgroundcolor": "white",
            "gridcolor": "#DFE8F3",
            "gridwidth": 2,
            "linecolor": "#EBF0F8",
            "showbackground": true,
            "ticks": "",
            "zerolinecolor": "#EBF0F8"
           },
           "yaxis": {
            "backgroundcolor": "white",
            "gridcolor": "#DFE8F3",
            "gridwidth": 2,
            "linecolor": "#EBF0F8",
            "showbackground": true,
            "ticks": "",
            "zerolinecolor": "#EBF0F8"
           },
           "zaxis": {
            "backgroundcolor": "white",
            "gridcolor": "#DFE8F3",
            "gridwidth": 2,
            "linecolor": "#EBF0F8",
            "showbackground": true,
            "ticks": "",
            "zerolinecolor": "#EBF0F8"
           }
          },
          "shapedefaults": {
           "line": {
            "color": "#2a3f5f"
           }
          },
          "ternary": {
           "aaxis": {
            "gridcolor": "#DFE8F3",
            "linecolor": "#A2B1C6",
            "ticks": ""
           },
           "baxis": {
            "gridcolor": "#DFE8F3",
            "linecolor": "#A2B1C6",
            "ticks": ""
           },
           "bgcolor": "white",
           "caxis": {
            "gridcolor": "#DFE8F3",
            "linecolor": "#A2B1C6",
            "ticks": ""
           }
          },
          "title": {
           "x": 0.05
          },
          "xaxis": {
           "automargin": true,
           "gridcolor": "#EBF0F8",
           "linecolor": "#EBF0F8",
           "ticks": "",
           "title": {
            "standoff": 15
           },
           "zerolinecolor": "#EBF0F8",
           "zerolinewidth": 2
          },
          "yaxis": {
           "automargin": true,
           "gridcolor": "#EBF0F8",
           "linecolor": "#EBF0F8",
           "ticks": "",
           "title": {
            "standoff": 15
           },
           "zerolinecolor": "#EBF0F8",
           "zerolinewidth": 2
          }
         }
        },
        "title": {
         "font": {
          "color": "Black",
          "size": 22
         },
         "text": "<b>Topic Word Scores",
         "x": 0.5,
         "xanchor": "center",
         "yanchor": "top"
        },
        "width": 1000,
        "xaxis": {
         "anchor": "y",
         "domain": [
          0,
          0.175
         ],
         "showgrid": true
        },
        "xaxis2": {
         "anchor": "y2",
         "domain": [
          0.275,
          0.45
         ],
         "showgrid": true
        },
        "xaxis3": {
         "anchor": "y3",
         "domain": [
          0.55,
          0.7250000000000001
         ],
         "showgrid": true
        },
        "xaxis4": {
         "anchor": "y4",
         "domain": [
          0.825,
          1
         ],
         "showgrid": true
        },
        "xaxis5": {
         "anchor": "y5",
         "domain": [
          0,
          0.175
         ],
         "showgrid": true
        },
        "xaxis6": {
         "anchor": "y6",
         "domain": [
          0.275,
          0.45
         ],
         "showgrid": true
        },
        "xaxis7": {
         "anchor": "y7",
         "domain": [
          0.55,
          0.7250000000000001
         ],
         "showgrid": true
        },
        "xaxis8": {
         "anchor": "y8",
         "domain": [
          0.825,
          1
         ],
         "showgrid": true
        },
        "yaxis": {
         "anchor": "x",
         "domain": [
          0.6000000000000001,
          1
         ],
         "showgrid": true
        },
        "yaxis2": {
         "anchor": "x2",
         "domain": [
          0.6000000000000001,
          1
         ],
         "showgrid": true
        },
        "yaxis3": {
         "anchor": "x3",
         "domain": [
          0.6000000000000001,
          1
         ],
         "showgrid": true
        },
        "yaxis4": {
         "anchor": "x4",
         "domain": [
          0.6000000000000001,
          1
         ],
         "showgrid": true
        },
        "yaxis5": {
         "anchor": "x5",
         "domain": [
          0,
          0.4
         ],
         "showgrid": true
        },
        "yaxis6": {
         "anchor": "x6",
         "domain": [
          0,
          0.4
         ],
         "showgrid": true
        },
        "yaxis7": {
         "anchor": "x7",
         "domain": [
          0,
          0.4
         ],
         "showgrid": true
        },
        "yaxis8": {
         "anchor": "x8",
         "domain": [
          0,
          0.4
         ],
         "showgrid": true
        }
       }
      }
     },
     "metadata": {},
     "output_type": "display_data"
    }
   ],
   "source": [
    "model.visualize_barchart()"
   ]
  },
  {
   "cell_type": "code",
   "execution_count": 52,
   "metadata": {},
   "outputs": [],
   "source": [
    "embeds = model._extract_embeddings(summaries)"
   ]
  },
  {
   "cell_type": "code",
   "execution_count": 14,
   "metadata": {},
   "outputs": [
    {
     "data": {
      "text/plain": [
       "array(['Unnamed: 0_x', 'number', 'cosponsor_party', 'cosponsor_name',\n",
       "       'perc', 'bill.number', 'subjects', 'summary', 'policy_area',\n",
       "       'latest_action', 'cosponsor_D_perc', 'cosponsor_R_perc', 'date',\n",
       "       'session', 'Unnamed: 0.1', 'index', 'Unnamed: 0_y', 'congress',\n",
       "       'latestAction', 'originChamber', 'originChamberCode', 'title',\n",
       "       'type', 'updateDate', 'updateDateIncludingText', 'url'],\n",
       "      dtype=object)"
      ]
     },
     "execution_count": 14,
     "metadata": {},
     "output_type": "execute_result"
    }
   ],
   "source": [
    "data.columns.values"
   ]
  },
  {
   "cell_type": "code",
   "execution_count": 58,
   "metadata": {},
   "outputs": [],
   "source": [
    "from pickle import dump\n",
    "\n",
    "with open('data\\\\model.obj', 'wb') as fp:\n",
    "    dump(model, fp)"
   ]
  },
  {
   "cell_type": "code",
   "execution_count": 42,
   "metadata": {},
   "outputs": [],
   "source": [
    "from bokeh.palettes import Viridis256 as palette"
   ]
  },
  {
   "cell_type": "code",
   "execution_count": 53,
   "metadata": {},
   "outputs": [],
   "source": [
    "def visualize_embeddings(german_embeds, german_model):\n",
    "\n",
    "    umap_data = umap.UMAP(n_neighbors=15, n_components=2, min_dist=0.0, metric='cosine').fit_transform(german_embeds)\n",
    "    \n",
    "    result = pd.DataFrame(umap_data, columns=['x', 'y'])\n",
    "    \n",
    "    labels = [german_model.topic_mapper_.get_mappings()[i] for i in german_model.hdbscan_model.labels_]\n",
    "    result['labels'] = [german_model.topic_labels_[i] for i in labels]\n",
    "\n",
    "    datasource = ColumnDataSource(\n",
    "        data=dict(\n",
    "            x=result['x'].to_list(),\n",
    "            y=result['y'].to_list(),\n",
    "            title=data['title'].to_list(),\n",
    "            cosponsor_D_perc=data['cosponsor_D_perc'].to_list(),\n",
    "            policyarea=data['policy_area'].to_list(),\n",
    "            # bill=data['number'].to_list(),\n",
    "            session=data['session'].to_list(),\n",
    "            # party=data['partyabbrev'].to_list(),\n",
    "            cluster=result['labels'].to_list()\n",
    "        )\n",
    "    )\n",
    "    \n",
    "    color_dict = {\n",
    "        '90/Greens' : 'green',\n",
    "        'LINKE' : 'blueviolet',\n",
    "    }\n",
    "    \n",
    "    color_map = LinearColorMapper(low=min(data[\"cosponsor_D_perc\"]), high=max(data[\"cosponsor_D_perc\"]), high_color='blue', low_color='red')\n",
    "    \n",
    "    colormapper = linear_cmap(field_name = \"cosponsor_D_perc\", low=min(data[\"cosponsor_D_perc\"]), high=max(data[\"cosponsor_D_perc\"]), palette=palette)\n",
    "    \n",
    "    tooltips = [\n",
    "        ('Title', '@title'),\n",
    "        # ('Party', \"@party\"),\n",
    "        ('Session', '@session'),\n",
    "        # ('Bill', \"@bill\"),\n",
    "        ('Cluster', '@cluster')\n",
    "    ]\n",
    "    \n",
    "    plot_figure = figure(\n",
    "        title=\"UMAP Projection of US Congress bill summaries 115-117\",\n",
    "        width=800, \n",
    "        height=600,\n",
    "        tools=('pan, wheel_zoom, reset, hover'),\n",
    "        tooltips=tooltips\n",
    "    )\n",
    "    \n",
    "    plot_figure.circle(\n",
    "        'x', 'y', source=datasource,\n",
    "        # fill_color=dict(field='cosponsor_D_perc', transform=color_map),\n",
    "        color=colormapper,\n",
    "        line_color=\"grey\", line_alpha=0.6, fill_alpha=0.6, size=4\n",
    "    )\n",
    "\n",
    "    return plot_figure, datasource"
   ]
  },
  {
   "cell_type": "code",
   "execution_count": 31,
   "metadata": {},
   "outputs": [
    {
     "data": {
      "text/html": [
       "<style>\n",
       "        .bk-notebook-logo {\n",
       "            display: block;\n",
       "            width: 20px;\n",
       "            height: 20px;\n",
       "            background-image: url(data:image/png;base64,iVBORw0KGgoAAAANSUhEUgAAABQAAAAUCAYAAACNiR0NAAAABHNCSVQICAgIfAhkiAAAAAlwSFlzAAALEgAACxIB0t1+/AAAABx0RVh0U29mdHdhcmUAQWRvYmUgRmlyZXdvcmtzIENTNui8sowAAAOkSURBVDiNjZRtaJVlGMd/1/08zzln5zjP1LWcU9N0NkN8m2CYjpgQYQXqSs0I84OLIC0hkEKoPtiH3gmKoiJDU7QpLgoLjLIQCpEsNJ1vqUOdO7ppbuec5+V+rj4ctwzd8IIbbi6u+8f1539dt3A78eXC7QizUF7gyV1fD1Yqg4JWz84yffhm0qkFqBogB9rM8tZdtwVsPUhWhGcFJngGeWrPzHm5oaMmkfEg1usvLFyc8jLRqDOMru7AyC8saQr7GG7f5fvDeH7Ej8CM66nIF+8yngt6HWaKh7k49Soy9nXurCi1o3qUbS3zWfrYeQDTB/Qj6kX6Ybhw4B+bOYoLKCC9H3Nu/leUTZ1JdRWkkn2ldcCamzrcf47KKXdAJllSlxAOkRgyHsGC/zRday5Qld9DyoM4/q/rUoy/CXh3jzOu3bHUVZeU+DEn8FInkPBFlu3+nW3Nw0mk6vCDiWg8CeJaxEwuHS3+z5RgY+YBR6V1Z1nxSOfoaPa4LASWxxdNp+VWTk7+4vzaou8v8PN+xo+KY2xsw6une2frhw05CTYOmQvsEhjhWjn0bmXPjpE1+kplmmkP3suftwTubK9Vq22qKmrBhpY4jvd5afdRA3wGjFAgcnTK2s4hY0/GPNIb0nErGMCRxWOOX64Z8RAC4oCXdklmEvcL8o0BfkNK4lUg9HTl+oPlQxdNo3Mg4Nv175e/1LDGzZen30MEjRUtmXSfiTVu1kK8W4txyV6BMKlbgk3lMwYCiusNy9fVfvvwMxv8Ynl6vxoByANLTWplvuj/nF9m2+PDtt1eiHPBr1oIfhCChQMBw6Aw0UulqTKZdfVvfG7VcfIqLG9bcldL/+pdWTLxLUy8Qq38heUIjh4XlzZxzQm19lLFlr8vdQ97rjZVOLf8nclzckbcD4wxXMidpX30sFd37Fv/GtwwhzhxGVAprjbg0gCAEeIgwCZyTV2Z1REEW8O4py0wsjeloKoMr6iCY6dP92H6Vw/oTyICIthibxjm/DfN9lVz8IqtqKYLUXfoKVMVQVVJOElGjrnnUt9T9wbgp8AyYKaGlqingHZU/uG2NTZSVqwHQTWkx9hxjkpWDaCg6Ckj5qebgBVbT3V3NNXMSiWSDdGV3hrtzla7J+duwPOToIg42ChPQOQjspnSlp1V+Gjdged7+8UN5CRAV7a5EdFNwCjEaBR27b3W890TE7g24NAP/mMDXRWrGoFPQI9ls/MWO2dWFAar/xcOIImbbpA3zgAAAABJRU5ErkJggg==);\n",
       "        }\n",
       "    </style>\n",
       "    <div>\n",
       "        <a href=\"https://bokeh.org\" target=\"_blank\" class=\"bk-notebook-logo\"></a>\n",
       "        <span id=\"p1201\">Loading BokehJS ...</span>\n",
       "    </div>\n"
      ]
     },
     "metadata": {},
     "output_type": "display_data"
    },
    {
     "data": {
      "application/javascript": "(function(root) {\n  function now() {\n    return new Date();\n  }\n\n  const force = true;\n\n  if (typeof root._bokeh_onload_callbacks === \"undefined\" || force === true) {\n    root._bokeh_onload_callbacks = [];\n    root._bokeh_is_loading = undefined;\n  }\n\nconst JS_MIME_TYPE = 'application/javascript';\n  const HTML_MIME_TYPE = 'text/html';\n  const EXEC_MIME_TYPE = 'application/vnd.bokehjs_exec.v0+json';\n  const CLASS_NAME = 'output_bokeh rendered_html';\n\n  /**\n   * Render data to the DOM node\n   */\n  function render(props, node) {\n    const script = document.createElement(\"script\");\n    node.appendChild(script);\n  }\n\n  /**\n   * Handle when an output is cleared or removed\n   */\n  function handleClearOutput(event, handle) {\n    const cell = handle.cell;\n\n    const id = cell.output_area._bokeh_element_id;\n    const server_id = cell.output_area._bokeh_server_id;\n    // Clean up Bokeh references\n    if (id != null && id in Bokeh.index) {\n      Bokeh.index[id].model.document.clear();\n      delete Bokeh.index[id];\n    }\n\n    if (server_id !== undefined) {\n      // Clean up Bokeh references\n      const cmd_clean = \"from bokeh.io.state import curstate; print(curstate().uuid_to_server['\" + server_id + \"'].get_sessions()[0].document.roots[0]._id)\";\n      cell.notebook.kernel.execute(cmd_clean, {\n        iopub: {\n          output: function(msg) {\n            const id = msg.content.text.trim();\n            if (id in Bokeh.index) {\n              Bokeh.index[id].model.document.clear();\n              delete Bokeh.index[id];\n            }\n          }\n        }\n      });\n      // Destroy server and session\n      const cmd_destroy = \"import bokeh.io.notebook as ion; ion.destroy_server('\" + server_id + \"')\";\n      cell.notebook.kernel.execute(cmd_destroy);\n    }\n  }\n\n  /**\n   * Handle when a new output is added\n   */\n  function handleAddOutput(event, handle) {\n    const output_area = handle.output_area;\n    const output = handle.output;\n\n    // limit handleAddOutput to display_data with EXEC_MIME_TYPE content only\n    if ((output.output_type != \"display_data\") || (!Object.prototype.hasOwnProperty.call(output.data, EXEC_MIME_TYPE))) {\n      return\n    }\n\n    const toinsert = output_area.element.find(\".\" + CLASS_NAME.split(' ')[0]);\n\n    if (output.metadata[EXEC_MIME_TYPE][\"id\"] !== undefined) {\n      toinsert[toinsert.length - 1].firstChild.textContent = output.data[JS_MIME_TYPE];\n      // store reference to embed id on output_area\n      output_area._bokeh_element_id = output.metadata[EXEC_MIME_TYPE][\"id\"];\n    }\n    if (output.metadata[EXEC_MIME_TYPE][\"server_id\"] !== undefined) {\n      const bk_div = document.createElement(\"div\");\n      bk_div.innerHTML = output.data[HTML_MIME_TYPE];\n      const script_attrs = bk_div.children[0].attributes;\n      for (let i = 0; i < script_attrs.length; i++) {\n        toinsert[toinsert.length - 1].firstChild.setAttribute(script_attrs[i].name, script_attrs[i].value);\n        toinsert[toinsert.length - 1].firstChild.textContent = bk_div.children[0].textContent\n      }\n      // store reference to server id on output_area\n      output_area._bokeh_server_id = output.metadata[EXEC_MIME_TYPE][\"server_id\"];\n    }\n  }\n\n  function register_renderer(events, OutputArea) {\n\n    function append_mime(data, metadata, element) {\n      // create a DOM node to render to\n      const toinsert = this.create_output_subarea(\n        metadata,\n        CLASS_NAME,\n        EXEC_MIME_TYPE\n      );\n      this.keyboard_manager.register_events(toinsert);\n      // Render to node\n      const props = {data: data, metadata: metadata[EXEC_MIME_TYPE]};\n      render(props, toinsert[toinsert.length - 1]);\n      element.append(toinsert);\n      return toinsert\n    }\n\n    /* Handle when an output is cleared or removed */\n    events.on('clear_output.CodeCell', handleClearOutput);\n    events.on('delete.Cell', handleClearOutput);\n\n    /* Handle when a new output is added */\n    events.on('output_added.OutputArea', handleAddOutput);\n\n    /**\n     * Register the mime type and append_mime function with output_area\n     */\n    OutputArea.prototype.register_mime_type(EXEC_MIME_TYPE, append_mime, {\n      /* Is output safe? */\n      safe: true,\n      /* Index of renderer in `output_area.display_order` */\n      index: 0\n    });\n  }\n\n  // register the mime type if in Jupyter Notebook environment and previously unregistered\n  if (root.Jupyter !== undefined) {\n    const events = require('base/js/events');\n    const OutputArea = require('notebook/js/outputarea').OutputArea;\n\n    if (OutputArea.prototype.mime_types().indexOf(EXEC_MIME_TYPE) == -1) {\n      register_renderer(events, OutputArea);\n    }\n  }\n  if (typeof (root._bokeh_timeout) === \"undefined\" || force === true) {\n    root._bokeh_timeout = Date.now() + 5000;\n    root._bokeh_failed_load = false;\n  }\n\n  const NB_LOAD_WARNING = {'data': {'text/html':\n     \"<div style='background-color: #fdd'>\\n\"+\n     \"<p>\\n\"+\n     \"BokehJS does not appear to have successfully loaded. If loading BokehJS from CDN, this \\n\"+\n     \"may be due to a slow or bad network connection. Possible fixes:\\n\"+\n     \"</p>\\n\"+\n     \"<ul>\\n\"+\n     \"<li>re-rerun `output_notebook()` to attempt to load from CDN again, or</li>\\n\"+\n     \"<li>use INLINE resources instead, as so:</li>\\n\"+\n     \"</ul>\\n\"+\n     \"<code>\\n\"+\n     \"from bokeh.resources import INLINE\\n\"+\n     \"output_notebook(resources=INLINE)\\n\"+\n     \"</code>\\n\"+\n     \"</div>\"}};\n\n  function display_loaded() {\n    const el = document.getElementById(\"p1201\");\n    if (el != null) {\n      el.textContent = \"BokehJS is loading...\";\n    }\n    if (root.Bokeh !== undefined) {\n      if (el != null) {\n        el.textContent = \"BokehJS \" + root.Bokeh.version + \" successfully loaded.\";\n      }\n    } else if (Date.now() < root._bokeh_timeout) {\n      setTimeout(display_loaded, 100)\n    }\n  }\n\n  function run_callbacks() {\n    try {\n      root._bokeh_onload_callbacks.forEach(function(callback) {\n        if (callback != null)\n          callback();\n      });\n    } finally {\n      delete root._bokeh_onload_callbacks\n    }\n    console.debug(\"Bokeh: all callbacks have finished\");\n  }\n\n  function load_libs(css_urls, js_urls, callback) {\n    if (css_urls == null) css_urls = [];\n    if (js_urls == null) js_urls = [];\n\n    root._bokeh_onload_callbacks.push(callback);\n    if (root._bokeh_is_loading > 0) {\n      console.debug(\"Bokeh: BokehJS is being loaded, scheduling callback at\", now());\n      return null;\n    }\n    if (js_urls == null || js_urls.length === 0) {\n      run_callbacks();\n      return null;\n    }\n    console.debug(\"Bokeh: BokehJS not loaded, scheduling load and callback at\", now());\n    root._bokeh_is_loading = css_urls.length + js_urls.length;\n\n    function on_load() {\n      root._bokeh_is_loading--;\n      if (root._bokeh_is_loading === 0) {\n        console.debug(\"Bokeh: all BokehJS libraries/stylesheets loaded\");\n        run_callbacks()\n      }\n    }\n\n    function on_error(url) {\n      console.error(\"failed to load \" + url);\n    }\n\n    for (let i = 0; i < css_urls.length; i++) {\n      const url = css_urls[i];\n      const element = document.createElement(\"link\");\n      element.onload = on_load;\n      element.onerror = on_error.bind(null, url);\n      element.rel = \"stylesheet\";\n      element.type = \"text/css\";\n      element.href = url;\n      console.debug(\"Bokeh: injecting link tag for BokehJS stylesheet: \", url);\n      document.body.appendChild(element);\n    }\n\n    for (let i = 0; i < js_urls.length; i++) {\n      const url = js_urls[i];\n      const element = document.createElement('script');\n      element.onload = on_load;\n      element.onerror = on_error.bind(null, url);\n      element.async = false;\n      element.src = url;\n      console.debug(\"Bokeh: injecting script tag for BokehJS library: \", url);\n      document.head.appendChild(element);\n    }\n  };\n\n  function inject_raw_css(css) {\n    const element = document.createElement(\"style\");\n    element.appendChild(document.createTextNode(css));\n    document.body.appendChild(element);\n  }\n\n  const js_urls = [\"https://cdn.bokeh.org/bokeh/release/bokeh-3.0.2.min.js\", \"https://cdn.bokeh.org/bokeh/release/bokeh-gl-3.0.2.min.js\", \"https://cdn.bokeh.org/bokeh/release/bokeh-widgets-3.0.2.min.js\", \"https://cdn.bokeh.org/bokeh/release/bokeh-tables-3.0.2.min.js\", \"https://cdn.bokeh.org/bokeh/release/bokeh-mathjax-3.0.2.min.js\"];\n  const css_urls = [];\n\n  const inline_js = [    function(Bokeh) {\n      Bokeh.set_log_level(\"info\");\n    },\nfunction(Bokeh) {\n    }\n  ];\n\n  function run_inline_js() {\n    if (root.Bokeh !== undefined || force === true) {\n          for (let i = 0; i < inline_js.length; i++) {\n      inline_js[i].call(root, root.Bokeh);\n    }\nif (force === true) {\n        display_loaded();\n      }} else if (Date.now() < root._bokeh_timeout) {\n      setTimeout(run_inline_js, 100);\n    } else if (!root._bokeh_failed_load) {\n      console.log(\"Bokeh: BokehJS failed to load within specified timeout.\");\n      root._bokeh_failed_load = true;\n    } else if (force !== true) {\n      const cell = $(document.getElementById(\"p1201\")).parents('.cell').data().cell;\n      cell.output_area.append_execute_result(NB_LOAD_WARNING)\n    }\n  }\n\n  if (root._bokeh_is_loading === 0) {\n    console.debug(\"Bokeh: BokehJS loaded, going straight to plotting\");\n    run_inline_js();\n  } else {\n    load_libs(css_urls, js_urls, function() {\n      console.debug(\"Bokeh: BokehJS plotting callback run at\", now());\n      run_inline_js();\n    });\n  }\n}(window));",
      "application/vnd.bokehjs_load.v0+json": ""
     },
     "metadata": {},
     "output_type": "display_data"
    }
   ],
   "source": [
    "output_notebook()"
   ]
  },
  {
   "cell_type": "code",
   "execution_count": 54,
   "metadata": {},
   "outputs": [],
   "source": [
    "fig, dats = visualize_embeddings(embeds, model)"
   ]
  },
  {
   "cell_type": "code",
   "execution_count": 55,
   "metadata": {},
   "outputs": [],
   "source": [
    "test = dats.to_df()"
   ]
  },
  {
   "cell_type": "code",
   "execution_count": 57,
   "metadata": {},
   "outputs": [],
   "source": [
    "test.to_csv('data\\\\umap_projection_data.csv')"
   ]
  },
  {
   "cell_type": "code",
   "execution_count": 56,
   "metadata": {},
   "outputs": [
    {
     "data": {
      "text/html": [
       "\n",
       "  <div id=\"ee5b3b3b-c1c9-4519-a8eb-cb7afb48a295\" data-root-id=\"p1721\" style=\"display: contents;\"></div>\n"
      ]
     },
     "metadata": {},
     "output_type": "display_data"
    },
    {
     "data": {
      "application/javascript": "(function(root) {\n  function embed_document(root) {\n  const docs_json = {\"00972cc8-e4b4-44f1-bdb1-d403e7152bf2\":{\"version\":\"3.0.2\",\"title\":\"Bokeh Application\",\"defs\":[],\"roots\":[{\"type\":\"object\",\"name\":\"Figure\",\"id\":\"p1721\",\"attributes\":{\"width\":800,\"x_range\":{\"type\":\"object\",\"name\":\"DataRange1d\",\"id\":\"p1722\"},\"y_range\":{\"type\":\"object\",\"name\":\"DataRange1d\",\"id\":\"p1723\"},\"x_scale\":{\"type\":\"object\",\"name\":\"LinearScale\",\"id\":\"p1735\"},\"y_scale\":{\"type\":\"object\",\"name\":\"LinearScale\",\"id\":\"p1737\"},\"title\":{\"type\":\"object\",\"name\":\"Title\",\"id\":\"p1724\",\"attributes\":{\"text\":\"UMAP Projection of US Congress bill summaries 115-117\"}},\"renderers\":[{\"type\":\"object\",\"name\":\"GlyphRenderer\",\"id\":\"p1768\",\"attributes\":{\"data_source\":{\"type\":\"object\",\"name\":\"ColumnDataSource\",\"id\":\"p1716\",\"attributes\":{\"selected\":{\"type\":\"object\",\"name\":\"Selection\",\"id\":\"p1717\",\"attributes\":{\"indices\":[],\"line_indices\":[]}},\"selection_policy\":{\"type\":\"object\",\"name\":\"UnionRenderers\",\"id\":\"p1718\"},\"data\":{\"type\":\"map\",\"entries\":[[\"x\",[-3.5901830196380615,-3.594755172729492,-2.166321277618408,-3.2277486324310303,-4.669877052307129,-3.193953275680542,-3.457301378250122,-3.9303719997406006,4.47992467880249,-3.834507465362549,4.4655914306640625,-4.550937175750732,-3.947193145751953,-4.97790002822876,-4.922713756561279,4.447695732116699,-2.646365165710449,-2.164045572280884,-4.7435808181762695,-5.1964874267578125,1.436553716659546,1.4753557443618774,1.463640809059143,-5.379568099975586,-3.1000728607177734,-4.204305648803711,-4.207268238067627,4.4527506828308105,4.443635940551758,4.440496444702148,4.443553924560547,4.434662342071533,4.43715238571167,-4.0069780349731445,-4.71859073638916,4.439268589019775,4.443973541259766,10.750267028808594,10.634209632873535,-3.977297306060791,-4.595550060272217,-3.8375980854034424,-3.8597400188446045,-0.9056751728057861,-5.290472984313965,-4.7551655769348145,-3.2411818504333496,-3.4051616191864014,-5.2461628913879395,-3.769399881362915,-3.95302152633667,-2.6587817668914795,-5.712654113769531,-4.189192295074463,-3.706389904022217,-2.415221691131592,-3.4571805000305176,-2.076469898223877,-2.0697126388549805,-4.6526689529418945,-3.7859795093536377,-5.243006706237793,-5.693643569946289,11.543425559997559,-5.351365089416504,-5.368551254272461,-5.055018424987793,-4.521653175354004,-2.708670139312744,11.625323295593262,-4.281572341918945,-3.826262950897217,-5.38023042678833,-4.195706844329834,-2.8305463790893555,-3.282898426055908,-2.2343435287475586,-5.56270170211792,10.738579750061035,-3.1231186389923096,-4.5501389503479,-4.6799540519714355,-3.9607675075531006,-4.392139911651611,-1.9312289953231812,-1.8626399040222168,-5.427722930908203,-5.428419589996338,-1.1524450778961182,-1.9552079439163208,-5.094810485839844,-1.0676950216293335,-1.785274624824524,-2.776094913482666,-2.799243450164795,-1.247215986251831,-5.184157371520996,-1.2961686849594116,-1.3182740211486816,-4.595890045166016,-2.3930842876434326,-5.5662641525268555,-4.265332221984863,-4.510275840759277,-4.504194259643555,-5.490431785583496,-3.462766647338867,-3.4559152126312256,-5.221739292144775,11.401521682739258,11.394342422485352,-3.658165216445923,11.208380699157715,-4.214460372924805,-5.707970142364502,-2.1642820835113525,-3.9781055450439453,-4.2837443351745605,-4.401625156402588,-5.093783378601074,-4.833329200744629,-4.867373943328857,-4.609255790710449,-4.6096391677856445,11.190792083740234,11.121557235717773,-4.280906677246094,-3.2421319484710693,-4.09674072265625,-3.9663925170898438,-5.626501560211182,-5.321750640869141,-5.284700870513916,-4.690832614898682,-5.591569423675537,-1.7175999879837036,-1.7296671867370605,-1.7349824905395508,-2.6345887184143066,-4.556557655334473,-4.3637471199035645,-4.622843265533447,-3.052870512008667,-3.0531389713287354,-4.726191997528076,11.282259941101074,-0.7204926013946533,-2.393073797225952,-4.794668197631836,-1.046839952468872,11.220418930053711,-1.4593684673309326,-1.4653143882751465,-1.4690841436386108,-3.9762187004089355,-4.075103759765625,-4.073187828063965,-4.071476936340332,-4.655323505401611,-3.8754894733428955,10.7750883102417,1.4427471160888672,-3.3115274906158447,-2.8833982944488525,-4.3914971351623535,-1.846506118774414,-3.123206377029419,-4.017523288726807,-4.491460800170898,-3.8921871185302734,-5.1688923835754395,-5.118905544281006,-1.4179476499557495,-2.702249050140381,-3.139664888381958,10.733224868774414,10.712514877319336,-2.686072826385498,-2.89827561378479,-5.706696033477783,-2.958735704421997,-2.740525484085083,-1.7177531719207764,11.157447814941406,11.162520408630371,-3.9777612686157227,-3.9589171409606934,-2.9750936031341553,-2.9551398754119873,-1.9329317808151245,-2.649923801422119,-3.459155321121216,-1.1177798509597778,-1.1417642831802368,-4.982236385345459,-4.723571300506592,11.122804641723633,11.066837310791016,-4.6678361892700195,-4.709993362426758,-5.315526962280273,-3.0683388710021973,-2.581451892852783,-5.091017723083496,-3.2207226753234863,-0.6397601962089539,-0.6469828486442566,-2.2731990814208984,-4.099050998687744,-5.673269271850586,-1.125226616859436,11.520721435546875,-4.078874111175537,-1.4437212944030762,-1.1639050245285034,1.485390067100525,-5.580379486083984,-5.675207614898682,-1.9756507873535156,-4.416655540466309,11.214658737182617,11.253280639648438,-2.6104214191436768,-1.8005295991897583,-3.6984035968780518,-3.7155511379241943,-4.852285861968994,-2.034989595413208,11.56405258178711,-4.427369594573975,-2.7225024700164795,-5.369502067565918,-4.110626697540283,-4.3521246910095215,-2.2731621265411377,-4.092576026916504,-5.0923752784729,-0.6716262102127075,-4.110954761505127,-2.893934726715088,-4.2499213218688965,-1.9479957818984985,-4.957113742828369,-5.732857704162598,-5.317325115203857,-3.403317928314209,-2.193695306777954,-0.9020583033561707,-1.774959921836853,-3.733973979949951,-3.058227062225342,-4.55953311920166,-4.148842811584473,-1.8333066701889038,-4.252449035644531,-4.43711519241333,-2.8961055278778076,-4.587733745574951,-4.61798620223999,-1.1481258869171143,10.848999977111816,-4.192566394805908,-3.2478532791137695,11.560113906860352,10.973852157592773,10.940792083740234,-0.965674638748169,11.488759994506836,11.446361541748047,11.470830917358398,11.456551551818848,11.40084457397461,-3.8061139583587646,-3.8536932468414307,11.327350616455078,-3.429790735244751,-4.281055927276611,-4.297920227050781,-5.6009650230407715,-4.169642925262451,11.054788589477539,10.623462677001953,10.6179780960083,-0.6784560680389404,1.49579656124115,1.5246001482009888,-5.311275959014893,-3.7164251804351807,-3.661557912826538,-5.312801361083984,-4.136305809020996,-3.3988568782806396,-3.25541615486145,-5.716677665710449,-5.7334418296813965,-4.960789680480957,-3.7597060203552246,-3.1918935775756836,-1.0037158727645874,-5.733773231506348,1.3978673219680786,-4.652245998382568,-3.7968173027038574,-4.418231964111328,-3.077284812927246,-1.464867115020752,-2.902263879776001,-2.9307913780212402,-2.7272486686706543,-4.0215253829956055,-2.191642999649048,-4.647064685821533,11.060964584350586,-1.121024489402771,11.556291580200195,10.826144218444824,-2.4639689922332764,-5.692802906036377,-0.63692706823349,-2.497079610824585,-3.902757167816162,-3.8695359230041504,11.380707740783691,-3.5401835441589355,-3.5296056270599365,-1.6384226083755493,-0.7073728442192078,-4.073419094085693,1.3052537441253662,-3.826875686645508,-4.954951286315918,-4.492134094238281,-3.552926778793335,-3.567660093307495,-4.344852924346924,-3.9443604946136475,-3.1944169998168945,-3.2629380226135254,-3.1769049167633057,-2.1214444637298584,-4.087166786193848,-1.916737675666809,-3.9815759658813477,-3.984799385070801,-4.751540660858154,-4.410890102386475,-4.94313383102417,-5.024632930755615,-5.0273613929748535,-0.6734801530838013,-4.683248996734619,-1.319862961769104,1.4735119342803955,-2.5972540378570557,-2.586137056350708,-4.638360500335693,-2.9191031455993652,-3.081908941268921,-1.2154080867767334,-3.985585927963257,-2.2064969539642334,-4.2923264503479,11.066784858703613,-4.911744117736816,-2.1580841541290283,-4.280561923980713,11.631628036499023,11.784120559692383,11.444252967834473,-2.880373954772949,-3.5420048236846924,-4.446380138397217,-4.5143141746521,-3.033543109893799,-3.7356133460998535,-3.732442855834961,-2.909600257873535,-2.9417881965637207,-4.476941108703613,-1.5673308372497559,-3.6637580394744873,-4.947835445404053,-4.279391765594482,1.4522833824157715,-4.603704452514648,-2.297044277191162,-4.963850975036621,-0.6736629605293274,-5.665981769561768,10.780924797058105,-5.041757106781006,-5.073882579803467,11.331403732299805,-2.2329940795898438,-4.338364124298096,-5.1076555252075195,-1.8590525388717651,-5.05522346496582,-0.5739397406578064,-2.9364733695983887,-0.6620475649833679,-5.01018762588501,-4.58528470993042,11.354545593261719,-5.042732238769531,-5.049488544464111,-0.9898982644081116,11.421476364135742,-3.186959743499756,-2.918538808822632,-4.385874271392822,-2.1779980659484863,-2.5671169757843018,-4.314819812774658,-1.8603672981262207,-3.4829466342926025,-3.4979312419891357,-3.946265697479248,1.4613409042358398,-0.8836413621902466,-2.391045331954956,-3.3135228157043457,-2.4823575019836426,11.572260856628418,11.597222328186035,-1.3818926811218262,10.679719924926758,-3.2046239376068115,-4.5257039070129395,-4.3669753074646,-4.337220191955566,-3.600508451461792,-3.9863884449005127,-3.965949535369873,-1.0003647804260254,-4.609086036682129,-4.253150463104248,10.975624084472656,10.531445503234863,-3.031933307647705,-3.83963680267334,-1.3221499919891357,-1.3378554582595825,-3.2199950218200684,-1.3638930320739746,-2.510197162628174,-0.6190840005874634,-0.6286633610725403,-0.6078028082847595,11.324952125549316,-1.689998745918274,-1.1407374143600464,-1.9185073375701904,-4.276073455810547,-5.677692890167236,-1.2907963991165161,-4.708492279052734,10.904016494750977,10.7844820022583,-1.8338135480880737,-1.8896323442459106,-4.51680326461792,1.3095767498016357,-4.118330478668213,-4.61337947845459,-4.928056240081787,-5.665735721588135,-4.30505895614624,-3.833554744720459,-1.550920844078064,-0.6559335589408875,-0.659928023815155,-3.6465697288513184,-5.7554473876953125,-5.662499904632568,-3.39119291305542,-4.797451019287109,-3.195789098739624,-2.2689435482025146,-2.876469135284424,-1.3871535062789917,11.528809547424316,11.470945358276367,-2.7159478664398193,-2.754850149154663,-1.446244239807129,11.19974422454834,-5.115509033203125,-5.1328125,-4.68324089050293,-3.1818268299102783,-1.3977869749069214,-3.624924659729004,-0.8563494086265564,-4.751343727111816,-4.685055255889893,11.141158103942871,10.96308422088623,-3.0933637619018555,-3.9318737983703613,-0.6657650470733643,-1.380617618560791,-1.4132468700408936,-4.104310035705566,-4.289532661437988,-4.033919811248779,-2.742515802383423,10.466452598571777,10.724869728088379,-4.94768762588501,-4.1712775230407715,-2.2851080894470215,10.734217643737793,-4.914848804473877,-1.8508085012435913,-2.8612277507781982,-2.842639923095703,-5.348519325256348,-3.9999032020568848,-3.187274217605591,10.711359977722168,-0.707094132900238,-3.117084503173828,11.532477378845215,-3.4846928119659424,-5.078283309936523,-5.448070526123047,-0.7051880955696106,10.805903434753418,-0.7259134650230408,-3.5446577072143555,-2.048201560974121,-2.466421127319336,-3.268366575241089,-5.494618892669678,11.117266654968262,11.079392433166504,-3.2650527954101562,1.2590936422348022,-5.140025615692139,11.066987991333008,11.080212593078613,-3.4261515140533447,-3.4461519718170166,-1.7990769147872925,11.341903686523438,-4.585391044616699,-4.616791248321533,-3.6273763179779053,-4.999969482421875,-3.209456443786621,-4.67825174331665,-2.1066741943359375,11.433521270751953,11.048796653747559,-4.050058841705322,-2.5722427368164062,-3.329742908477783,11.029111862182617,-3.1609957218170166,-2.572260618209839,10.944552421569824,-2.9935059547424316,11.413629531860352,-4.889123439788818,-4.115993499755859,-2.3450167179107666,-2.490363359451294,-2.476764440536499,-4.939947128295898,10.66112995147705,-1.164622187614441,-4.2147088050842285,1.3072762489318848,-2.4979515075683594,-5.084842681884766,-4.478125095367432,-1.5692933797836304,-1.547324538230896,-4.50682258605957,11.255972862243652,10.825411796569824,-4.717686653137207,-5.542375087738037,11.293992042541504,-4.073727130889893,1.5078401565551758,-1.3537837266921997,-1.782734990119934,-1.2339919805526733,-5.678733825683594,-5.725901126861572,-4.771459102630615,-4.135754108428955,-1.377023696899414,-3.6751344203948975,-1.5264898538589478,10.652109146118164,-1.2239878177642822,11.631560325622559,-5.728518962860107,-0.8441287279129028,-2.8709332942962646,-2.4911983013153076,11.712986946105957,-1.6378090381622314,10.550979614257812,-2.918466806411743,10.726248741149902,-3.919734001159668,1.4588041305541992,11.576347351074219,-2.3320162296295166,-4.168549060821533,-3.5150513648986816,-4.868290424346924,-3.1630783081054688,-5.088143825531006,-2.1308515071868896,-1.6660960912704468,-1.18900465965271,11.119277954101562,-4.180696964263916,-4.215978622436523,-2.94221568107605,11.333525657653809,11.178566932678223,-4.056024074554443,-2.858391523361206,10.589462280273438,-4.362054347991943,-4.080667972564697,1.5130033493041992,-1.7236859798431396,-0.9734466075897217,11.604828834533691,-5.33832311630249,-4.051136016845703,-3.402588129043579,-4.353893756866455,-4.425329685211182,-5.3011088371276855,11.287359237670898,10.727482795715332,-5.484375953674316,1.5482070446014404,-3.3543641567230225,-1.782302737236023,-4.240281581878662,-4.281846523284912,-2.781445264816284,-3.183748483657837,-4.008479118347168,11.515945434570312,-4.375760555267334,-3.148618459701538,10.693861961364746,1.5064573287963867,-3.5285239219665527,-0.6598739624023438,11.276534080505371,-4.3720622062683105,-3.0730369091033936,-4.135491847991943,-2.7121381759643555,-3.1937599182128906,10.764083862304688,-1.4277315139770508,-1.4219624996185303,-4.10749626159668,10.600820541381836,-4.204059600830078,11.591398239135742,-2.074183225631714,-4.58730411529541,-1.6731499433517456,-4.031411647796631,11.396446228027344,11.47452449798584,-4.208978176116943,-0.849773645401001,-3.2201731204986572,10.940628051757812,-3.9482131004333496,-5.572864055633545,1.4674270153045654,-2.2867591381073,-0.9312454462051392,11.422504425048828,-0.5298659801483154,11.009074211120605,-4.3935017585754395,10.77453899383545,11.049639701843262,11.087817192077637,-3.2462618350982666,-1.754164457321167,-3.505859375,11.136764526367188,11.131385803222656,10.983963966369629,-2.8974711894989014,-5.058162689208984,10.328841209411621,-0.5957656502723694,-3.7682783603668213,10.994409561157227,11.034335136413574,11.370054244995117,-1.8123779296875,-5.176573753356934,10.852228164672852,-4.32949161529541,-2.5874197483062744,11.132558822631836,-2.728905439376831,11.086824417114258,-2.7332546710968018,-0.9498979449272156,10.937541961669922,-1.0060477256774902,-3.7814693450927734,11.445984840393066,-0.9903520345687866,10.801613807678223,10.6311616897583,10.680292129516602,10.497603416442871,10.501398086547852,1.5243669748306274,10.895904541015625,-3.355386734008789,-3.980499744415283,1.4937435388565063,10.696362495422363,11.055947303771973,-3.0043017864227295,-4.242704391479492,11.607468605041504,-5.547370433807373,-2.9407589435577393,11.399848937988281,-3.281226396560669,11.069933891296387,-5.00808572769165,-3.4792141914367676,-1.4093097448349,-4.182455539703369,10.740826606750488,-5.525840759277344,11.14278507232666,11.142879486083984,11.530868530273438,-3.2097933292388916,-3.5144684314727783,11.129253387451172,-1.8723034858703613,11.322789192199707,11.144389152526855,-4.324051856994629,10.912005424499512,-5.0107316970825195,-5.055673599243164,-4.624232292175293,11.700955390930176,11.53160285949707,-2.6747989654541016,-4.584990501403809,-2.3850514888763428,-5.687974452972412,11.319875717163086,10.759260177612305,-5.136073589324951,-5.643151760101318,-2.8907878398895264,-3.5120689868927,-4.041202545166016,11.644194602966309,-0.6243051290512085,-3.866379499435425,-4.302858352661133,10.762935638427734,-5.67886209487915,11.209990501403809,11.065072059631348,10.866726875305176,-4.645992755889893,11.412739753723145,-3.820093870162964,11.49968433380127,11.526680946350098,-2.4403076171875,10.779791831970215,10.803256034851074,11.438641548156738,11.71097183227539,-5.12708854675293,-2.204573392868042,10.851350784301758,-4.487844467163086,-3.187753200531006,11.711407661437988,-4.084874153137207,-5.320512294769287,-1.3499341011047363,10.534473419189453,11.538314819335938,-1.007265329360962,-4.300544738769531,11.336233139038086,11.239885330200195,-4.603846549987793,-1.3924914598464966,-4.9351654052734375,-4.005579948425293,-1.7377970218658447,-2.716470718383789,11.380632400512695,-2.9157309532165527,-2.8892874717712402,10.808220863342285,-4.978336334228516,11.243512153625488,10.978774070739746,-3.5172581672668457,11.51553726196289,-2.943056106567383,10.56403636932373,-4.314382076263428,-1.9606314897537231,-4.170515537261963,11.558573722839355,11.45633602142334,-4.216516971588135,10.641133308410645,-3.028815746307373,10.602994918823242,10.743073463439941,-4.036924362182617,-4.648368835449219,-3.4797801971435547,-2.8720250129699707,-4.958126068115234,11.052967071533203,-2.4970812797546387,-2.535621166229248,-5.04371976852417,-3.164710521697998,11.375367164611816,-1.821850061416626,-4.975889205932617,-3.211501121520996,10.70727825164795,10.704180717468262,-3.1328928470611572,-5.039182662963867,-3.9074349403381348,1.4802056550979614,-3.0933237075805664,-4.939264297485352,-4.024551868438721,-1.4229129552841187,11.459177017211914,-4.591214656829834,1.5113685131072998,-5.462708473205566,11.240617752075195,-0.9564517736434937,-3.1389482021331787,-1.122355341911316,-2.94800066947937,-3.940115451812744,-5.497851848602295,-1.5584735870361328,-4.033227920532227,10.648392677307129,1.4850629568099976,-4.609188079833984,-3.5570831298828125,-1.9996955394744873,-5.521003723144531]],[\"y\",[7.658373832702637,7.699090957641602,8.902572631835938,8.881369590759277,7.538813591003418,7.624170303344727,8.329341888427734,8.266748428344727,0.35280463099479675,7.796078681945801,0.3671969175338745,8.300190925598145,7.930003643035889,5.819606781005859,5.7764058113098145,0.3823198676109314,9.382192611694336,9.159732818603516,5.6769585609436035,6.011958599090576,6.5861945152282715,6.632227897644043,6.657617568969727,6.505619049072266,10.51883316040039,5.055840969085693,5.060331344604492,0.38016897439956665,0.3891548812389374,0.39199212193489075,0.3892548680305481,0.3974699378013611,0.3948547840118408,7.940488338470459,6.9567437171936035,0.3934217691421509,0.3887840807437897,6.528085708618164,6.997063159942627,10.474666595458984,7.581133842468262,7.768482685089111,7.736960411071777,7.16801643371582,5.557700157165527,8.26326847076416,10.252852439880371,9.722646713256836,6.08280086517334,9.123659133911133,10.465550422668457,6.952177047729492,9.027289390563965,5.103308200836182,8.214900016784668,9.856880187988281,9.055761337280273,8.401089668273926,8.399322509765625,7.551924228668213,9.10345458984375,6.203765869140625,9.027499198913574,7.213695526123047,6.525879383087158,6.545105934143066,7.112914562225342,9.755516052246094,9.950798988342285,7.346827030181885,3.9524805545806885,8.110864639282227,6.556723594665527,8.56944465637207,6.995636463165283,8.658167839050293,8.892263412475586,7.321339130401611,6.981185436248779,8.047800064086914,5.482797145843506,5.593227386474609,8.882083892822266,7.42125940322876,6.803208351135254,9.30526065826416,6.560390949249268,6.5600504875183105,7.545464038848877,8.46330738067627,9.2083158493042,6.715893745422363,8.83029842376709,6.93651819229126,6.963122367858887,7.34445333480835,6.590471267700195,7.070865631103516,7.071948051452637,8.79118537902832,6.535433769226074,7.6663103103637695,9.186868667602539,9.767716407775879,9.770613670349121,7.696537494659424,9.153070449829102,9.206907272338867,5.640347003936768,7.719979763031006,7.732872486114502,8.959586143493652,7.477707386016846,7.942703723907471,9.018324851989746,7.623607635498047,8.140557289123535,5.556543827056885,8.51700210571289,6.055752277374268,7.979605674743652,7.977656364440918,6.813718795776367,6.816201686859131,6.933952331542969,6.92164421081543,3.956838369369507,7.636717796325684,4.914344787597656,5.562038898468018,8.873538970947266,5.524232864379883,5.555838584899902,6.914525032043457,7.682615280151367,6.440146446228027,6.438292503356934,6.455074310302734,9.866705894470215,7.638160705566406,7.3536696434021,7.586306571960449,10.585268020629883,10.554951667785645,9.671662330627441,6.6045355796813965,7.506103038787842,6.534373760223389,7.027322769165039,7.46945333480835,6.913203716278076,8.646183967590332,8.6366548538208,8.636754989624023,10.49311637878418,10.620885848999023,10.618067741394043,10.611084938049316,7.594611644744873,8.536214828491211,6.422481060028076,6.655425071716309,8.168600082397461,8.87923526763916,8.320789337158203,9.162395477294922,8.91897201538086,9.453432083129883,9.724557876586914,5.454431533813477,6.083418846130371,5.960172653198242,7.15340518951416,9.966158866882324,10.535677909851074,7.143614292144775,6.13465690612793,6.937162399291992,3.803632974624634,9.078880310058594,3.866708755493164,9.63376522064209,6.795304298400879,7.370522975921631,7.327419281005859,9.950124740600586,9.964672088623047,9.982406616210938,9.962445259094238,9.11849308013916,9.942115783691406,9.74453067779541,7.78255558013916,7.626186847686768,6.814318656921387,9.726189613342285,7.295014381408691,7.2775983810424805,6.93280029296875,6.957809925079346,6.4595208168029785,10.559163093566895,7.2222161293029785,8.947786331176758,8.038533210754395,7.157750606536865,7.172333717346191,8.121499061584473,4.918945789337158,7.598814487457275,7.292226314544678,6.546579360961914,10.12923526763916,6.880508899688721,6.956020832061768,6.6585822105407715,7.721039295196533,7.611639022827148,8.868425369262695,9.637724876403809,6.602707386016846,6.658130645751953,9.870660781860352,9.164992332458496,5.0305280685424805,5.011037826538086,9.832789421081543,8.833736419677734,6.752166748046875,8.409770011901855,10.029187202453613,6.475929260253906,7.868643760681152,9.287030220031738,9.146944046020508,5.587585926055908,7.955153942108154,7.695767879486084,4.93477201461792,3.800565719604492,4.008392810821533,9.126543045043945,9.850110054016113,7.604140758514404,6.510639190673828,8.596521377563477,9.458150863647461,7.522535800933838,6.888481140136719,9.723746299743652,7.6254472732543945,6.866257667541504,6.3703293800354,9.213798522949219,7.450291156768799,9.679611206054688,7.446468353271484,8.221878051757812,8.137979507446289,7.474937438964844,6.076372146606445,8.11567497253418,8.59187126159668,6.93190860748291,5.8966474533081055,5.872998237609863,6.815487861633301,5.89683198928833,5.931811809539795,5.923664093017578,5.9324212074279785,5.952179431915283,8.196351051330566,8.184599876403809,7.73814058303833,8.642448425292969,3.9609856605529785,9.097886085510254,7.6529388427734375,5.502477169036865,6.016236782073975,6.250801086425781,6.213430404663086,7.472542762756348,6.642045497894287,6.654222011566162,6.457916736602783,8.00337028503418,7.996801853179932,6.267983436584473,9.208928108215332,10.425353050231934,10.44156551361084,7.868131160736084,7.907398223876953,8.593697547912598,10.124808311462402,8.42746353149414,6.818714141845703,7.62537145614624,6.727508544921875,8.212692260742188,7.95125150680542,8.89450454711914,9.625738143920898,6.841515064239502,3.801922082901001,3.834345817565918,9.155715942382812,4.905453681945801,7.644893646240234,5.521975040435791,7.185018062591553,7.489125728607178,6.577851295471191,6.54668664932251,9.591268539428711,9.012272834777832,7.565218925476074,8.69603443145752,7.772961616516113,7.755688190460205,6.6133623123168945,10.349447250366211,10.346761703491211,8.434252738952637,7.632263660430908,10.61671257019043,6.74573278427124,8.599495887756348,9.880455017089844,8.887043952941895,9.791285514831543,9.782037734985352,6.050173759460449,8.27495288848877,8.146110534667969,8.3485746383667,7.076638698577881,8.38106918334961,4.869389533996582,8.755589485168457,9.98074722290039,9.972020149230957,9.72282886505127,8.446548461914062,7.3744425773620605,7.75374174118042,5.7447428703308105,7.619202613830566,7.572579860687256,7.052919387817383,6.659149646759033,9.863316535949707,9.881181716918945,8.23551082611084,3.823699474334717,8.130455017089844,7.442176818847656,10.480603218078613,8.51839828491211,3.9433157444000244,7.255736351013184,9.808089256286621,8.938655853271484,3.9560041427612305,6.607540607452393,6.5805277824401855,6.431504249572754,3.790739059448242,10.39693546295166,8.13804817199707,8.1607666015625,8.228605270385742,10.581291198730469,10.567048072814941,3.8156285285949707,3.8492493629455566,8.25825309753418,7.875854969024658,9.772047996520996,9.83756160736084,3.9639525413513184,6.636195659637451,5.577781677246094,9.515128135681152,7.575321674346924,7.883247375488281,7.716030597686768,6.359851837158203,7.075796604156494,7.045711040496826,6.5054097175598145,8.881523132324219,10.070441246032715,6.034895896911621,8.886433601379395,8.662463188171387,7.64694356918335,3.8432881832122803,7.367484092712402,9.219433784484863,6.796075344085693,7.758570194244385,9.257064819335938,9.268158912658691,7.331819534301758,6.640888214111328,10.465330123901367,7.739412307739258,8.066387176513672,7.399783134460449,9.773216247558594,7.850459575653076,6.854521751403809,10.410704612731934,10.42914867401123,9.505553245544434,6.664695739746094,7.453185558319092,9.468490600585938,9.084592819213867,6.585233688354492,7.312686920166016,7.320696830749512,7.0143303871154785,6.3009352684021,8.998553276062012,9.75544261932373,8.384642601013184,8.976362228393555,9.397515296936035,4.85014533996582,4.832096576690674,7.207300662994385,6.851899147033691,8.423089027404785,7.04763650894165,6.756789207458496,10.576261520385742,10.063532829284668,8.311821937561035,8.321635246276855,8.074637413024902,8.355708122253418,7.0834479331970215,7.587106227874756,7.6562180519104,7.651752471923828,7.763367176055908,6.875256538391113,7.153719902038574,9.032011985778809,3.9603514671325684,8.960480690002441,7.53468132019043,9.228814125061035,6.780674457550049,7.157281875610352,9.065726280212402,9.009456634521484,8.162162780761719,6.447031021118164,9.272046089172363,5.585886478424072,5.743491172790527,7.6477508544921875,3.9279823303222656,9.71630573272705,6.942309379577637,7.544435024261475,7.144680023193359,9.371247291564941,9.060490608215332,8.989815711975098,8.95867919921875,5.702974796295166,9.849894523620605,8.046080589294434,3.782724142074585,8.423771858215332,6.613672733306885,6.28687047958374,7.749175548553467,9.694490432739258,7.579900741577148,6.624266624450684,9.65937328338623,7.463343620300293,9.01556396484375,7.055916786193848,8.384559631347656,8.730520248413086,7.455142974853516,8.940262794494629,8.52655029296875,6.963184833526611,6.891160011291504,9.57596206665039,9.944046974182129,7.794834613800049,7.029331207275391,6.9958906173706055,8.143139839172363,9.473261833190918,8.060684204101562,9.959578514099121,6.758036136627197,6.389917850494385,8.120688438415527,5.513614177703857,8.745445251464844,6.207406997680664,7.309434413909912,9.195721626281738,8.376925468444824,8.36502456665039,7.9654717445373535,8.052136421203613,9.638943672180176,7.082747459411621,7.121480464935303,10.44462776184082,6.5297112464904785,8.585892677307129,6.108242988586426,7.797653675079346,7.556768894195557,6.229956150054932,7.5151872634887695,9.077380180358887,8.737496376037598,6.613445281982422,9.895617485046387,9.12317180633545,6.231334209442139,6.99069881439209,9.734603881835938,6.395652770996094,8.974802017211914,6.911732196807861,6.549611568450928,9.687516212463379,9.640768051147461,6.900246620178223,6.524212837219238,8.376581192016602,8.393857955932617,9.360004425048828,6.497284412384033,7.239206790924072,5.600364685058594,8.95747184753418,6.865356922149658,6.119352340698242,4.903071403503418,8.665413856506348,8.203434944152832,6.344821453094482,8.10134506225586,9.150968551635742,5.8331427574157715,3.910353660583496,6.453929901123047,9.844382286071777,5.253241062164307,9.719353675842285,9.84744644165039,9.825416564941406,9.82104206085205,6.726165771484375,7.685633659362793,8.627340316772461,6.494412422180176,6.633284568786621,8.033831596374512,8.42480182647705,7.865235805511475,7.878880023956299,8.466354370117188,7.171438217163086,7.081984519958496,8.930516242980957,7.362481117248535,7.750240325927734,4.918920040130615,6.687782287597656,7.404562473297119,6.924587249755859,6.970414161682129,7.694665431976318,7.707162380218506,9.16800308227539,4.994195461273193,7.409816741943359,5.045197486877441,8.67887020111084,6.0525689125061035,7.001760005950928,6.72776460647583,7.825296878814697,7.47986364364624,3.777242660522461,8.695064544677734,6.842482089996338,7.417591094970703,6.613498687744141,3.822836399078369,6.845974445343018,4.831132888793945,6.67353630065918,7.452535152435303,9.71301555633545,7.93906307220459,9.08260440826416,9.897113800048828,8.949063301086426,7.1227707862854,9.167065620422363,6.9788336753845215,7.442625045776367,6.846896171569824,7.317713260650635,7.335693836212158,3.9158430099487305,6.9480671882629395,6.6593708992004395,7.979298114776611,9.059165000915527,6.759441375732422,9.165323257446289,10.109819412231445,6.67818021774292,6.624639987945557,7.842392444610596,6.436312198638916,7.734602451324463,5.519545555114746,9.241323471069336,5.197820663452148,7.317373275756836,6.291652202606201,6.812667369842529,6.6907196044921875,7.67083215713501,6.714498519897461,7.62160062789917,6.913749694824219,8.477740287780762,3.960432767868042,7.7483367919921875,8.139673233032227,8.27247142791748,6.947078704833984,8.609196662902832,9.387467384338379,6.670467853546143,6.680830478668213,9.49019718170166,7.689544677734375,6.22845458984375,9.004134178161621,8.25265884399414,9.41283893585205,6.928936004638672,9.330756187438965,6.883453369140625,7.5194478034973145,7.5569987297058105,4.939116954803467,6.769763469696045,7.928290843963623,6.765806674957275,8.998956680297852,7.619536876678467,7.354303359985352,7.836907863616943,6.803375244140625,6.711681365966797,9.249902725219727,7.263138771057129,9.107619285583496,6.832879066467285,8.158367156982422,7.770140171051025,6.624738693237305,8.967143058776855,6.854662895202637,6.439326286315918,7.725191593170166,6.205577373504639,8.46561336517334,6.149892330169678,6.759491920471191,6.638245105743408,7.139503479003906,8.36477279663086,10.380914688110352,6.695490837097168,6.038334846496582,6.547065258026123,7.78909969329834,9.202613830566406,7.033667087554932,7.626826763153076,10.03443717956543,5.9342570304870605,5.943915367126465,6.565437316894531,6.393744945526123,8.335427284240723,6.624969005584717,5.2151570320129395,9.902212142944336,6.141406059265137,7.743138790130615,6.916751384735107,7.743306636810303,7.185970783233643,6.9613471031188965,7.25673770904541,9.732521057128906,6.7576904296875,6.830460071563721,7.001715660095215,6.3945465087890625,7.00178861618042,6.999759674072266,6.925636291503906,6.7235846519470215,6.713531494140625,8.237896919250488,10.44113826751709,6.68574857711792,6.901896953582764,6.816346645355225,9.995457649230957,8.383484840393066,6.636610984802246,7.745933532714844,3.84806489944458,6.408077716827393,9.025290489196777,6.680810928344727,9.263304710388184,8.954313278198242,7.519351005554199,8.199447631835938,6.517406463623047,9.14375114440918,6.058935165405273,6.041151523590088,7.344913959503174,7.563109397888184,7.94549560546875,6.744021892547607,9.14242935180664,6.744605541229248,6.35702657699585,7.325628757476807,6.8840789794921875,5.844089984893799,5.911495685577393,5.520545482635498,6.662211894989014,6.791407108306885,6.962062358856201,8.513508796691895,6.535519123077393,8.991931915283203,7.3514180183410645,6.3894267082214355,5.9885358810424805,9.115324974060059,3.7961583137512207,10.306056022644043,9.704176902770996,6.690019130706787,7.608060359954834,9.982719421386719,7.385100364685059,6.880392074584961,7.443905830383301,6.14200496673584,6.6274871826171875,6.035177230834961,5.533474445343018,6.998402118682861,9.413435935974121,6.506608486175537,6.230439186096191,6.567967414855957,6.461637496948242,6.271343231201172,7.324374675750732,7.011102676391602,7.965969085693359,8.879253387451172,7.174877166748047,8.551547050476074,10.435154914855957,6.732417583465576,8.17331314086914,6.550736427307129,7.013044834136963,6.624822616577148,7.095052719116211,6.814392566680908,3.9362664222717285,6.123810768127441,6.22174072265625,7.729250907897949,7.521335124969482,9.814340591430664,4.85594367980957,6.9276556968688965,7.734536170959473,6.253349304199219,7.781498908996582,7.789978981018066,6.032999038696289,6.749268531799316,7.190126895904541,6.420165538787842,9.957956314086914,7.249825954437256,8.882467269897461,6.6585564613342285,7.177818298339844,8.760714530944824,8.049555778503418,7.346713066101074,6.861206531524658,8.347724914550781,6.413496971130371,7.013368606567383,6.48115873336792,6.3653059005737305,7.909632205963135,7.794805526733398,8.983966827392578,9.653154373168945,9.717988014221191,6.658855438232422,8.701458930969238,9.833593368530273,9.612473487854004,8.150918960571289,7.317253112792969,6.885886192321777,9.748379707336426,9.25183391571045,6.709737777709961,6.582822799682617,7.036190032958984,7.135384559631348,9.618072509765625,6.658233642578125,8.160991668701172,9.835247993469238,5.50940465927124,7.774365425109863,6.438579559326172,8.282155990600586,6.676157474517822,9.006420135498047,6.0750627517700195,6.828261375427246,9.673933029174805,7.819890975952148,3.862227439880371,7.884099006652832,9.035283088684082,7.6537981033325195,8.111686706542969,6.656132221221924,6.665759563446045,8.128127098083496,8.077624320983887,9.067481994628906,9.056536674499512]],[\"title\",[\"An Act to provide for reconciliation pursuant to titles II and V of the concurrent resolution on the budget for fiscal year 2018.\",\"A joint resolution approving the location of a memorial to commemorate and honor the members of the Armed Forces who served on active duty in support of Operation Desert Storm or Operation Desert Shield.\",\"Substance Use-Disorder Prevention that Promotes Opioid Recovery and Treatment for Patients and Communities Act\",\"A joint resolution providing for congressional disapproval under chapter 8 of title 5, United States Code, of the rule submitted by the Equal Employment Opportunity Commission relating to \\\"Update of Commission's Conciliation Procedures\\\".\",\"A joint resolution providing for congressional disapproval under chapter 8 of title 5, United States Code, of the rule submitted by the Environmental Protection Agency relating to \\\"Oil and Natural Gas Sector: Emission Standards for New, Reconstructed, and Modified Sources Review\\\".\",\"A joint resolution providing for congressional disapproval under chapter 8 of title 5, United States Code, of the rule submitted by the Office of the Comptroller of Currency relating to \\\"National Banks and Federal Savings Associations as Lenders\\\".\",\"Government Employee Fair Treatment Act of 2019\",\"Construction Consensus Procurement Improvement Act of 2021\",\"Providing for the appointment of Barbara Barrett as a citizen regent of the Board of Regents of the Smithsonian Institution.\",\"Further Additional Continuing Appropriations Act, 2019\",\"A joint resolution providing for the reappointment of Steve Case as a citizen regent of the Board of Regents of the Smithsonian Institution.\",\"Consolidated Appropriations Act, 2019\",\"A joint resolution joint resolution relating to increasing the debt limit.\",\"Black Hills National Cemetery Boundary Expansion Act\",\"A joint resolution providing for the appointment of Michael Govan as a citizen regent of the Board of Regents of the Smithsonian Institution.\",\"A joint resolution providing for the appointment of Roger W. Ferguson as a citizen regent of the Board of Regents of the Smithsonian Institution.\",\"Providing for congressional disapproval under chapter 8 of title 5, United States Code, of the rule submitted by the Social Security Administration relating to Implementation of the NICS Improvement Amendments Act of 2007.\",\"Providing for congressional disapproval under chapter 8 of title 5, United States Code, of the final rule submitted by Secretary of Health and Human Services relating to compliance with title X requirements by project recipients in selecting subrecipients.\",\"Fort Ontario Study Act\",\"John D. Dingell, Jr. Conservation, Management, and Recreation Act\",\"A joint resolution condemning the violence and domestic terrorist attack that took place during events between August 11 and August 12, 2017, in Charlottesville, Virginia, recognizing the first responders who lost their lives while monitoring the events, offering deepest condolences to the families and friends of those individuals who were killed and deepest sympathies and support to those individuals who were injured by the violence, expressing support for the Charlottesville community, rejecting White nationalists, White supremacists, the Ku Klux Klan, neo-Nazis, and other hate groups, and urging the President and the President's Cabinet to use all available resources to address the threats posed by those groups.\",\"To designate the National Pulse Memorial located at 1912 South Orange Avenue, Orlando, Florida, 32806, and for other purposes.\",\"A bill to designate the outstation of the Department of Veterans Affairs in North Ogden, Utah, as the Major Brent Taylor Vet Center Outstation.\",\"Columbia River In-Lieu and Treaty Fishing Access Sites Improvement Act\",\"Emmett Till Antilynching Act\",\"A joint resolution providing for the reappointment of Barbara M. Barrett as a citizen regent of the Board of Regents of the Smithsonian Institution.\",\"Requesting the Secretary of the Interior to authorize unique and one-time arrangements for displays on the National Mall and the Washington Monument during the period beginning on July 16, 2019 and ending on July 20, 2019.\",\"A joint resolution providing for the reappointment of John Fahey as a citizen regent of the Board of Regents of the Smithsonian Institution.\",\"Disapproving the rule submitted by the Department of Labor relating to savings arrangements established by States for non-governmental employees.\",\"South Florida Clean Coastal Waters Act of 2021\",\"A joint resolution providing for the appointment of Denise O'Leary as a citizen regent of the Board of Regents of the Smithsonian Institution.\",\"Disapproving the rule submitted by the Department of Labor relating to savings arrangements established by qualified State political subdivisions for non-governmental employees.\",\"A joint resolution providing for the reappointment of Risa Lavizzo-Mourey as a citizen regent of the Board of Regents of the Smithsonian Institution.\",\"Extension of Continuing Appropriations Act, 2022\",\"Granting the consent and approval of Congress for the Commonwealth of Virginia, the State of Maryland, and the District of Columbia to enter into a compact relating to the establishment of the Washington Metrorail Safety Commission.\",\"Providing for the reappointment of Michael M. Lynton as a citizen regent of the Board of Regents of the Smithsonian Institution.\",\"Providing for the appointment of Franklin D. Raines as a citizen regent of the Board of Regents of the Smithsonian Institution.\",\"To designate the facility of the United States Postal Service located at 810 South Pendleton Street in Easley, South Carolina, as the \\\"Private First Class Barrett Lyle Austin Post Office Building\\\".\",\"To designate the facility of the United States Postal Service located at 110 Johnson Street in Pickens, South Carolina, as the \\\"Specialist Four Charles Johnson Post Office\\\".\",\"Improving Rural Call Quality and Reliability Act of 2017\",\"Nuclear Energy Innovation Capabilities Act of 2017\",\"Further Additional Continuing Appropriations Act, 2021\",\"Extension of Continuing Appropriations Act, 2021\",\"VA Choice and Quality Employment Act of 2017\",\"Alex Diekmann Peak Designation Act of 2017\",\"Consolidated Appropriations Act, 2021\",\"Combat Online Predators Act\",\"FISA Amendments Reauthorization Act of 2017\",\"Desert Sage Youth Wellness Center Access Improvement Act\",\"Grant Reporting Efficiency and Agreements Transparency Act of 2019\",\"Pallone-Thune Telephone Robocall Abuse Criminal Enforcement and Deterrence Act\",\"Supporting Veterans in STEM Careers Act\",\"Advancing Education on Biosimilars Act of 2021\",\"National Memorial to Fallen Educators Act\",\"ARTS Act\",\"Elder Abuse Prevention and Prosecution Act\",\"EGO Act\",\"John Lewis NIMHD Research Endowment Revitalization Act of 2021\",\"Veterans' Compensation Cost-of-Living Adjustment Act of 2021\",\"Power And Security Systems (PASS) Act\",\"Federal Agency Mail Management Act of 2017\",\"Leech Lake Band of Ojibwe Reservation Restoration Act\",\"Trickett Wendler, Frank Mongiello, Jordan McLinn, and Matthew Bellina Right to Try Act of 2017\",\"To designate the facility of the United States Postal Service located at 500 West Main Street, Suite 102 in Tupelo, Mississippi, as the Colonel Carlyle Smitty Harris Post Office.\",\"PROGRESS for Indian Tribes Act\",\"Spokane Tribe of Indians of the Spokane Reservation Equitable Compensation Act\",\"Swan Lake Hydroelectric Project Boundary Correction Act\",\"Special Envoy to Monitor and Combat Anti-Semitism Act\",\"Savanna's Act\",\"Donna M. Doss Memorial Act of 2021\",\"Christa McAuliffe Commemorative Coin Act of 2019\",\"Consolidated Appropriations Act, 2017\",\"Indian Tribal Energy Development and Self-Determination Act Amendments of 2017\",\"Chemical Facility Anti-Terrorism Standards Program Extension Act\",\"Promoting Women in Entrepreneurship Act\",\"Esther Martinez Native American Languages Programs Reauthorization Act\",\"Medicaid Extenders Act of 2019\",\"To rename the Oyster Bay National Wildlife Refuge as the Congressman Lester Wolff Oyster Bay National Wildlife Refuge.\",\"To designate the facility of the United States Postal Service located at 1101 Charlotte Street in Georgetown, South Carolina, as the \\\"Joseph Hayne Rainey Memorial Post Office Building\\\".\",\"Paycheck Protection Program and Health Care Enhancement Act\",\"Martin Luther King, Jr. National Historical Park Act of 2017\",\"Brown v. Board of Education National Historical Park Expansion and Redesignation Act\",\"Congressional Budget Justification Transparency Act of 2021\",\"Modernizing Government Travel Act\",\"Recognizing Achievement in Classified School Employees Act\",\"Childhood Cancer Survivorship, Treatment, Access, and Research Act of 2018\",\"To designate the facility of the United States Postal Service located at 2700 Cullen Boulevard in Pearland, Texas, as the \\\"Endy Nddiobong Ekpanya Post Office Building\\\".\",\"Native American Business Incubators Program Act\",\"Blue Water Navy Vietnam Veterans Act of 2019\",\"FAA Reauthorization Act of 2018\",\"Protecting Patient Access to Emergency Medications Act of 2017\",\"Vietnam War Veterans Recognition Act of 2017\",\"Improving Access to Maternity Care Act\",\"Inspiring the Next Space Pioneers, Innovators, Researchers, and Explorers (INSPIRE) Women Act\",\"'Six Triple Eight' Congressional Gold Medal Act of 2021\",\"State Veterans Home Adult Day Health Care Improvement Act of 2017\",\"A bill to amend the Alyce Spotted Bear and Walter Soboleff Commission on Native Children Act to extend the deadline for a report by the Alyce Spotted Bear and Walter Soboleff Commission on Native Children, and for other purposes.\",\"Fair Access to Investment Research Act of 2017\",\"Wounded Veterans Recreation Act\",\"To provide for an exception to a limitation against appointment of persons as Secretary of Defense within seven years of relief from active duty as a regular commissioned officer of the Armed Forces.\",\"Northern Mariana Islands Economic Expansion Act\",\"Weather Research and Forecasting Innovation Act of 2017\",\"DHS SAVE Act\",\"Department of State Authorities Act, Fiscal Year 2017, Improvements Act\",\"Building Up Independent Lives and Dreams Act\",\"To remove the sunset provision of section 203 of Public Law 105-384, and for other purposes.\",\"To designate the Federal building and United States courthouse located at 719 Church Street in Nashville, Tennessee, as the \\\"Fred D. Thompson Federal Building and United States Courthouse\\\".\",\"Payment Integrity Information Act of 2019\",\"To designate a mountain in the John Muir Wilderness of the Sierra National Forest as \\\"Sky Point\\\".\",\"Iraq and Syria Genocide Relief and Accountability Act of 2018\",\"To redesignate the Federal building located at 167 North Main Street in Memphis, Tennessee as the \\\"Odell Horton Federal Building\\\".\",\"Presidential Transition Enhancement Act of 2019\",\"William T. Coleman, Jr. and Norman Y. Mineta Department of Transportation Headquarters Act\",\"A bill to provide for the availability of amounts for customer education initiatives and non-awards expenses of the Commodity Futures Trading Commission Whistleblower Program, and for other purposes.\",\"A bill to amend the Federal Food, Drug, and Cosmetic Act with respect to the scope of new chemical exclusivity.\",\"Senate Shared Employee Act\",\"TANF Extension Act of 2019\",\"Emancipation National Historic Trail Study Act\",\"National FFA Organization's Federal Charter Amendments Act\",\"A bill to establish a procedure for the conveyance of certain Federal property around the Dickinson Reservoir in the State of North Dakota.\",\"National Aeronautics and Space Administration Transition Authorization Act of 2017\",\"BRIGHT Act\",\"To extend the deadline for commencement of construction of a hydroelectric project.\",\"Justice for Uncompensated Survivors Today (JUST) Act of 2017\",\"To designate the facility of the United States Postal Service located at 324 West Saint Louis Street in Pacific, Missouri, as the \\\"Specialist Jeffrey L. White, Jr. Post Office\\\".\",\"Willie O'Ree Congressional Gold Medal Act\",\"President George H.W. Bush and First Spouse Barbara Bush Coin Act\",\"HBCU PARTNERS Act\",\"To authorize the Every Word We Utter Monument to establish a commemorative work in the District of Columbia and its environs, and for other purposes.\",\"Juneteenth National Independence Day Act\",\"Pesticide Registration Improvement Extension Act of 2018\",\"A bill to reinstate and extend the deadline for commencement of construction of a hydroelectric project involving the Gibson Dam.\",\"B-47 Ridge Designation Act\",\"A bill to repeal the rule issued by the Federal Highway Administration and the Federal Transit Administration entitled \\\"Metropolitan Planning Organization Coordination and Planning Area Reform\\\".\",\"American Fisheries Advisory Committee Act\",\"Asia-Pacific Economic Cooperation Business Travel Cards Act of 2017\",\"DHS Field Engagement Accountability Act\",\"Let Everyone Get Involved in Opportunities for National Service Act\",\"Rapid DNA Act of 2017\",\"Nuclear Energy Innovation and Modernization Act\",\"Advanced Air Mobility Coordination and Leadership Act\",\"EPS Improvement Act of 2017\",\"Protecting Young Victims from Sexual Abuse and Safe Sport Authorization Act of 2017\",\"U.S. Wants to Compete for a World Expo Act\",\"Taiwan Travel Act\",\"To designate the facility of the United States Postal Service located at 770 Ayrault Road in Fairport, New York, as the Louise and Bob Slaughter Post Office.\",\"A bill to amend the Veterans Access, Choice, and Accountability Act of 2014 to modify the termination date for the Veterans Choice Program, and for other purposes.\",\"Northern Mariana Islands Long-Term Legal Residents Relief Act\",\"To amend the Delaware Water Gap National Recreation Area Improvement Act to provide access to certain vehicles serving residents of municipalities adjacent to the Delaware Water Gap National Recreation Area, and for other purposes.\",\"Protecting Business Opportunities for Veterans Act of 2019\",\"A bill to designate the facility of the United States Postal Service located at 42 Main Street in Slatersville, Rhode Island, as the \\\"Specialist Matthew R. Turcotte Post Office\\\".\",\"FASTER Act of 2021\",\"ALS Disability Insurance Access Act of 2019\",\"A bill to make a technical correction to the ALS Disability Insurance Access Act of 2019.\",\"Kari's Law Act of 2017\",\"American Law Enforcement Heroes Act of 2017\",\"PRICE Act of 2021\",\"PIRATE Act\",\"Department of Energy Research and Innovation Act\",\"Continuing Appropriations Act, 2018 and Supplemental Appropriations for Disaster Relief Requirements Act, 2017\",\"To designate the facility of the United States Postal Service located at 1025 Nevin Avenue in Richmond, California, as the \\\"Harold D. McCraw, Sr., Post Office Building\\\".\",\"To designate the Department of Veterans Affairs health care center in Center Township, Butler County, Pennsylvania, as the \\\"Abie Abraham VA Clinic\\\".\",\"Protecting Medicare and American Farmers from Sequester Cuts Act\",\"Social Security Number Fraud Prevention Act of 2017\",\"To amend section 327 of the Robert T. Stafford Disaster Relief and Emergency Assistance Act to clarify that National Urban Search and Rescue Response System task forces may include Federal employees.\",\"Early Hearing Detection and Intervention Act of 2017\",\"Follow the Rules Act\",\"National Cybersecurity Preparedness Consortium Act of 2021\",\"Combating European Anti-Semitism Act of 2017\",\"National POW/MIA Flag Act\",\"Elkhorn Ranch and White River National Forest Conveyance Act of 2017\",\"Mount Hood Cooper Spur Land Exchange Clarification Act\",\"West Los Angeles VA Campus Improvement Act of 2021\",\"POWER Act\",\"PACT Act\",\"A bill to change the address of the postal facility designated in honor of Captain Humayun Khan.\",\"To designate the facility of the United States Postal Service located at 502 East Cotati Avenue in Cotati, California, as the \\\"Arturo L. Ibleto Post Office Building\\\".\",\"Building Blocks of STEM Act\",\"Merrill's Marauders Congressional Gold Medal Act\",\"Effective Prosecution of Possession of Biological Toxins and Agents Act of 2019\",\"Anwar Sadat Centennial Celebration Act\",\"First Step Act of 2018\",\"Support for Veterans in Effective Apprenticeships Act of 2019\",\"SOAR to Health and Wellness Act of 2018\",\"To designate the facility of the United States Postal Service located at 40 Fulton Street in Middletown, New York, as the \\\"Benjamin A. Gilman Post Office Building\\\".\",\"NIST Small Business Cybersecurity Act\",\"American Innovation $1 Coin Act\",\"Ashlynne Mike AMBER Alert in Indian Country Act\",\"To designate the facility of the United States Postal Service located at 229 Minnetonka Avenue South in Wayzata, Minnesota, as the Jim Ramstad Post Office.\",\"Emergency Medical Services for Children Program Reauthorization Act of 2019\",\"Debbie Smith Reauthorization Act of 2019\",\"PROTECT Our Children Act of 2017\",\"Commander John Scott Hannon Veterans Mental Health Care Improvement Act of 2019\",\"Protecting Moms Who Served Act of 2021\",\"A bill to facilitate construction of a bridge on certain property in Christian County, Missouri, and for other purposes.\",\"A bill to direct the Secretary of State to develop a strategy to regain observer status for Taiwan in the World Health Organization, and for other purposes.\",\"To designate the facility of the United States Postal Service located at 25 Route 111 in Smithtown, New York, as the \\\"Congressman Bill Carney Post Office\\\".\",\"To designate the facility of the United States Postal Service located at 1450 Montauk Highway in Mastic, New York, as the Army Specialist Thomas J. Wilwerth Post Office Building.\",\"A bill to designate the facility of the United States Postal Service located at 120 West Pike Street in Canonsburg, Pennsylvania, as the \\\"Police Officer Scott Bashioum Post Office Building\\\".\",\"Reviving America's Scenic Byways Act of 2019\",\"A bill to nullify the Supplemental Treaty Between the United States of America and the Confederated Tribes and Bands of Indians of Middle Oregon, concluded on November 15, 1865.\",\"Rodchenkov Anti-Doping Act of 2019\",\"Consider Teachers Act of 2021\",\"Methamphetamine Response Act of 2021\",\"Rebuilding Small Businesses After Disasters Act\",\"To facilitate the addition of park administration at the Coltsville National Historical Park, and for other purposes.\",\"A bill to amend title 38, United States Code, to clarify the grade and pay of podiatrists of the Department of Veterans Affairs.\",\"Fairness For Breastfeeding Mothers Act of 2019\",\"Global War on Terrorism War Memorial Act\",\"PROSWIFT Act\",\"Veteran Treatment Court Coordination Act of 2019\",\"To designate the facility of the United States Postal Service located at 877 East 1200 South in Orem, Utah, as the Jerry C. Washburn Post Office Building.\",\"Secure 5G and Beyond Act of 2020\",\"Hire Veteran Health Heroes Act of 2021\",\"Veterans Providing Healthcare Transition Improvement Act\",\"A bill to designate the community-based outpatient clinic of the Department of Veterans Affairs in Bozeman, Montana, as the \\\"Travis W. Atkins Department of Veterans Affairs Clinic\\\".\",\"National Sea Grant College Program Amendments Act of 2020\",\"Coordinated Ocean Observations and Research Act of 2020\",\"National Clinical Care Commission Act\",\"Jaime Zapata and Victor Avila Federal Officers and Employees Protection Act\",\"A bill to designate the facility of the United States Postal Service located at 4910 Brighton Boulevard in Denver, Colorado, as the \\\"George Sakato Post Office\\\".\",\"Firefighter Cancer Registry Act of 2018\",\"COVID-19 Hate Crimes Act\",\"TRANSPLANT Act of 2021\",\"Johnson-O'Malley Supplemental Indian Education Program Modernization Act\",\"Never Again Education Act\",\"Holding Foreign Companies Accountable Act\",\"Maximizing Outcomes through Better Investments in Lifesaving Equipment for (MOBILE) Health Care Act\",\"To designate the facility of the United States Postal Service located at 3493 Burnet Avenue in Cincinnati, Ohio, as the John H. Leahr and Herbert M. Heilbrun Post Office.\",\"FACE Act\",\"Not Invisible Act of 2019\",\"Thomasina E. Jordan Indian Tribes of Virginia Federal Recognition Act of 2017\",\"Extension of the Caribbean Basin Economic Recovery Act\",\"Protecting Religiously Affiliated Institutions Act of 2018\",\"Supporting and Treating Officers In Crisis Act of 2019\",\"Route 66 Centennial Commission Act\",\"Tropical Forest Conservation Reauthorization Act of 2018\",\"A bill to require the Comptroller General of the United States to conduct a study on disparities associated with race and ethnicity with respect to certain benefits administered by the Secretary of Veterans Affairs, and for other purposes.\",\"To authorize the National Emergency Medical Services Memorial Foundation to establish a commemorative work in the District of Columbia and its environs, and for other purposes.\",\"Chinese-American World War II Veteran Congressional Gold Medal Act\",\"Greatest Generation Commemorative Coin Act\",\"Autism Collaboration, Accountability, Research, Education, and Support Act of 2019\",\"RENACER Act\",\"Digital Coast Act\",\"To repeal the Act entitled \\\"An Act to confer jurisdiction on the State of Iowa over offenses committed by or against Indians on the Sac and Fox Indian Reservation\\\".\",\"A bill to amend section 1214 of title 5, United States Code, to provide for stays during a period that the Merit Systems Protection Board lacks a quorum.\",\"Supporting Grandparents Raising Grandchildren Act\",\"Department of Veterans Affairs Accountability and Whistleblower Protection Act of 2017\",\"Colonel John M. McHugh Tuition Fairness for Survivors Act of 2021\",\"Federal Rotational Cyber Workforce Program Act of 2021\",\"Joint Consolidation Loan Separation Act\",\"To amend section 203 of the Federal Power Act.\",\"Divisional Realignment for the Eastern District of Arkansas Act of 2019\",\"Scarlett's Sunshine on Sudden Unexpected Death Act\",\"To reauthorize the West Valley demonstration project, and for other purposes.\",\"Women, Peace, and Security Act of 2017\",\"Stop Student Debt Relief Scams Act of 2019\",\"Elie Wiesel Genocide and Atrocities Prevention Act of 2018\",\"Consolidated Appropriations Act, 2020\",\"No Hero Left Untreated Act\",\"To designate the facility of the United States Postal Service located at 1 League in Irvine, California, as the \\\"Tuskegee Airman Lieutenant Colonel Robert J. Friend Memorial Post Office Building\\\".\",\"National Flood Insurance Program Extension Act of 2018\",\"Puerto Rico Recovery Accuracy in Disclosures Act of 2021\",\"A bill to designate the facility of the United States Postal Service located at 1715 Linnerud Drive in Sun Prairie, Wisconsin, as the \\\"Fire Captain Cory Barr Post Office Building\\\".\",\"Solid Start Act of 2022\",\"To designate the facility of the United States Postal Service located at 404 South Boulder Highway in Henderson, Nevada, as the Henderson Veterans Memorial Post Office Building.\",\"Veterans' Compensation Cost-of-Living Adjustment Act of 2019\",\"To designate the facility of the United States Postal Service located at 306 River Street in Tilden, Texas, as the \\\"Tilden Veterans Post Office\\\".\",\"To designate the facility of the United States Postal Service located at 9155 Schaefer Road, Converse, Texas, as the \\\"Converse Veterans Post Office Building\\\".\",\"To designate the facility of the United States Postal Service located at 901 N. Francisco Avenue, Mission, Texas, as the \\\"Mission Veterans Post Office Building\\\".\",\"To designate the facility of the United States Postal Service located at 122 W. Goodwin Street, Pleasanton, Texas, as the \\\"Pleasanton Veterans Post Office\\\".\",\"To designate the facility of the United States Postal Service located at 400 N. Main Street, Encinal, Texas, as the \\\"Encinal Veterans Post Office\\\".\",\"Congenital Heart Futures Reauthorization Act of 2017\",\"Target Practice and Marksmanship Training Support Act\",\"A bill to designate the United States courthouse located at 1501 North 6th Street in Harrisburg, Pennsylvania, as the \\\"Sylvia H. Rambo United States Courthouse\\\", and for other purposes.\",\"To provide for the appointment of members of the Board of Directors of the Office of Compliance to replace members whose terms expire during 2017, and for other purposes.\",\"Naismith Memorial Basketball Hall of Fame Commemorative Coin Act\",\"Securing our Agriculture and Food Act\",\"Young Fishermen's Development Act\",\"400 Years of African-American History Commission Act\",\"To designate the facility of the United States Postal Service located at 11158 Highway 146 North in Hardin, Texas, as the \\\"Lucas Lowe Memorial Post Office\\\".\",\"To designate the facility of the United States Postal Service located at 6531 Van Nuys Boulevard in Van Nuys, California, as the Marilyn Monroe Post Office.\",\"To designate the facility of the United States Postal Service located at 13507 Van Nuys Boulevard in Pacoima, California, as the Ritchie Valens Post Office Building.\",\"Enhancing Veteran Care Act\",\"To name the Department of Veterans Affairs community-based outpatient clinic in Gaylord, Michigan, as the Navy Corpsman Steve Andrews Department of Veterans Affairs Health Care Clinic.\",\"A bill to redesignate certain clinics of the Department of Veterans Affairs located in Montana.\",\"Oregon Tribal Economic Development Act\",\"Continuing Appropriations Amendments Act, 2018\",\"Promoting Physical Activity for Americans Act\",\"Western Oregon Tribal Fairness Act\",\"Organization of American States Legislative Engagement Act of 2020\",\"Abolish Human Trafficking Act of 2017\",\"Trafficking Victims Protection Act of 2017\",\"Preventing Maternal Deaths Act of 2018\",\"Alaska Tourism Restoration Act\",\"American Rescue Plan Act of 2021\",\"Defending the Integrity of Voting Systems Act\",\"Never Forget the Heroes: James Zadroga, Ray Pfeifer, and Luis Alvarez Permanent Authorization of the September 11th Victim Compensation Fund Act\",\"Veterans' Compensation Cost-of-Living Adjustment Act of 2017\",\"Great Lakes Environmental Sensitivity Index Act of 2020\",\"To name the Department of Veterans Affairs community-based outpatient clinic in Pago Pago, American Samoa, the Faleomavaega Eni Fa'aua'a Hunkin VA Clinic.\",\"To make technical corrections to the Guam World War II Loyalty Recognition Act.\",\"An Act to amend the Homeland Security Act of 2002 to require the Secretary of Homeland Security to issue Department of Homeland Security-wide guidance and develop training programs as part of the Department of Homeland Security Blue Campaign, and for other purposes.\",\"Pandemic and All-Hazards Preparedness and Advancing Innovation Act of 2019\",\"Due Process Protections Act\",\"Jobs for Our Heroes Act\",\"Hidden Figures Congressional Gold Medal Act\",\"Ghost Army Congressional Gold Medal Act\",\"Competitive Health Insurance Reform Act of 2020\",\"Fallen Warrior Battlefield Cross Memorial Act\",\"To make technical corrections to the computation of average pay under Public Law 110\\u2013279.\",\"Gateway Arch National Park Designation Act\",\"To designate the facility of the United States Postal Service located at 132 North Loudoun Street, Suite 1 in Winchester, Virginia, as the Patsy Cline Post Office.\",\"PAWS for Veterans Therapy Act\",\"To designate the facility of the United States Postal Service located at 3033 203rd Street in Olympia Fields, Illinois, as the Captain Robert L. Martin Post Office.\",\"To designate the facility of the United States Postal Service located at 3585 South Vermont Avenue in Los Angeles, California, as the \\\"Marvin Gaye Post Office\\\".\",\"COPS Counseling Act\",\"Orange Book Transparency Act of 2020\",\"To direct the Secretary of Veterans Affairs to submit to Congress a report on the use of cameras in medical facilities of the Department of Veterans Affairs.\",\"Protecting America's First Responders Act of 2021\",\"Modernizing Recreational Fisheries Management Act of 2018\",\"Further Extension of Continuing Appropriations Act, 2021\",\"To designate the facility of the United States Postal Service located at 200 Israel Road Southeast in Tumwater, Washington, as the Eva G. Hewitt Post Office.\",\"No Human Trafficking on Our Roads Act\",\"Combating Human Trafficking in Commercial Vehicles Act\",\"STANDUP Act of 2021\",\"VA Prescription Data Accountability Act 2017\",\"Orrin G. Hatch-Bob Goodlatte Music Modernization Act\",\"To amend title 28, United States Code, to add Flagstaff and Yuma to the list of locations in which court shall be held in the judicial district for the State of Arizona.\",\"Protecting Girls' Access to Education in Vulnerable Settings Act\",\"Hizballah International Financing Prevention Amendments Act of 2018\",\"National Defense Authorization Act for Fiscal Year 2022\",\"Strengthening State and Local Cyber Crime Fighting Act of 2017\",\"Bob Dole Congressional Gold Medal Act\",\"Javier Vega, Jr. Memorial Act of 2017\",\"Consolidated Appropriations Act, 2018\",\"COVID-19 Bankruptcy Relief Extension Act of 2021\",\"VOCA Fix to Sustain the Crime Victims Fund Act of 2021\",\"Global Health Innovation Act of 2017\",\"Supporting the Foundation for the National Institutes of Health and the Reagan-Udall Foundation for the Food and Drug Administration Act\",\"To authorize the National Medal of Honor Museum Foundation to establish a commemorative work in the District of Columbia and its environs, and for other purposes.\",\"Dr. Lorna Breen Health Care Provider Protection Act\",\"A bill to rename a waterway in the State of New York as the \\\"Joseph Sanford Jr. Channel\\\".\",\"IoT Cybersecurity Improvement Act of 2020\",\"Taiwan Allies International Protection and Enhancement Initiative (TAIPEI) Act of 2019\",\"FEMA Accountability, Modernization and Transparency Act of 2017\",\"A bill to permit States to transfer certain funds from the clean water revolving fund of a State to the drinking water revolving fund of the State in certain circumstances, and for other purposes.\",\"One Small Step to Protect Human Heritage in Space Act\",\"John Muir National Historic Site Expansion Act\",\"To direct the Secretary of Veterans Affairs to submit certain reports relating to medical evidence submitted in support of claims for benefits under the laws administered by the Secretary.\",\"To direct the Secretary of Energy to review and update a report on the energy and environmental benefits of the re-refining of used lubricating oil.\",\"Protecting Affordable Mortgages for Veterans Act of 2019\",\"A bill to designate the community-based outpatient clinic of the Department of Veterans Affairs planned to be built in Oahu, Hawaii, as the \\\"Daniel Kahikina Akaka Department of Veterans Affairs Community-Based Outpatient Clinic\\\".\",\"SAFER Act of 2017\",\"FTC Collaboration Act of 2021\",\"National Earthquake Hazards Reduction Program Reauthorization Act of 2018\",\"Rosie the Riveter Congressional Gold Medal Act of 2019\",\"PPP Extension Act of 2021\",\"Vet Center Eligibility Expansion Act\",\"Broadband DATA Act\",\"Helping American Victims Afflicted by Neurological Attacks Act of 2021\",\"National Purple Heart Hall of Honor Commemorative Coin Act\",\"To designate the facility of the United States Postal Service located at 35 Tulip Avenue in Floral Park, New York, as the Lieutenant Michael R. Davidson Post Office Building.\",\"Hong Kong Human Rights and Democracy Act of 2019\",\"Medicaid Services Investment and Accountability Act of 2019\",\"Harriet Tubman Bicentennial Commemorative Coin Act\",\"To designate the facility of the United States Postal Service located at 66 Grove Court in Elgin, Illinois, as the Corporal Alex Martinez Memorial Post Office Building.\",\"To designate the facility of the United States Postal Service located at 907 Fourth Avenue in Lake Odessa, Michigan, as the \\\"Donna Sauers Besko Post Office\\\".\",\"To designate the facility of the United States Postal Service located at 4514 Williamson Trail in Liberty, Pennsylvania, as the \\\"Staff Sergeant Ryan Scott Ostrom Post Office\\\".\",\"Larry Doby Congressional Gold Medal Act\",\"Trafficking Victims Protection Reauthorization Act of 2017\",\"Allow States and Victims to Fight Online Sex Trafficking Act of 2017\",\"Further Consolidated Appropriations Act, 2020\",\"To prevent across-the-board direct spending cuts, and for other purposes.\",\"Whistleblower Protection Coordination Act\",\"Secure Federal LEASEs Act\",\"Reciprocal Access to Tibet Act of 2018\",\"United States Army Rangers Veterans of World War II Congressional Gold Medal Act\",\"Bipartisan Budget Act of 2018\",\"Major Medical Facility Authorization Act of 2021\",\"K-12 Cybersecurity Act of 2021\",\"Nicaragua Human Rights and Anticorruption Act of 2018\",\"Circulating Collectible Coin Redesign Act of 2020\",\"To designate the Manhattan Campus of the New York Harbor Health Care System of the Department of Veterans Affairs as the Margaret Cochran Corbin Campus of the New York Harbor Health Care System.\",\"African American Civil Rights Network Act of 2017\",\"Intercountry Adoption Information Act of 2019\",\"Great American Outdoors Act\",\"Henrietta Lacks Enhancing Cancer Research Act of 2019\",\"Save Our Seas 2.0 Act\",\"To designate the facility of the United States Postal Service located at 1730 18th Street in Bakersfield, California, as the \\\"Merle Haggard Post Office Building\\\".\",\"Ceiling Fan Energy Conservation Harmonization Act\",\"Colorado River Drought Contingency Plan Authorization Act\",\"To designate the facility of the United States Postal Service located at 17 East Main Street in Herington, Kansas, as the Captain Emil J. Kapaun Post Office Building.\",\"A bill to provide for a 2-week extension of the Medicaid community mental health services demonstration program, and for other purposes.\",\"North Korean Human Rights Reauthorization Act of 2017\",\"A bill to establish a procedure for the conveyance of certain Federal property around the Jamestown Reservoir in the State of North Dakota, and for other purposes.\",\"BOLD Infrastructure for Alzheimer's Act\",\"Keep Kids Fed Act of 2022\",\"Veterans and Family Information Act\",\"USS Indianapolis Congressional Gold Medal Act\",\"Dr. Kate Hendricks Thomas SERVICE Act\",\"Protecting America's Food and Agriculture Act of 2019\",\"To reinstate and extend the deadline for commencement of construction of a hydroelectric project involving Jennings Randolph Dam.\",\"A bill to designate the Federal Office Building located at 308 W. 21st Street in Cheyenne, Wyoming, as the \\\"Louisa Swain Federal Office Building\\\", and for other purposes.\",\"INTERDICT Act\",\"To designate the facility of the United States Postal Service located at 170 Manhattan Avenue in Buffalo, New York, as the \\\"Indiana Hunt-Martin Post Office Building\\\".\",\"Veterans Treatment Court Improvement Act of 2018\",\"To designate the facility of the United States Postal Service located at 7722 South Main Street in Pine Plains, New York, as the Senior Chief Petty Officer Shannon M. Kent Post Office.\",\"Amy, Vicky, and Andy Child Pornography Victim Assistance Act of 2018\",\"Economic Growth, Regulatory Relief, and Consumer Protection Act\",\"Additional Supplemental Appropriations for Disaster Relief Act, 2019\",\"Commission on the Social Status of Black Men and Boys Act\",\"Missing Persons and Unidentified Remains Act of 2019\",\"CHARGE Act\",\"To amend title 38, United States Code, to reduce the credit hour requirement for the Edith Nourse Rogers STEM Scholarship program of the Department of Veterans Affairs.\",\"Frederick Douglass Trafficking Victims Prevention and Protection Reauthorization Act of 2018\",\"National Integrated Drought Information System Reauthorization Act of 2018\",\"Supply Chain Security Training Act of 2021\",\"To designate the community living center of the Department of Veterans Affairs in Butler Township, Butler County, Pennsylvania, as the \\\"Sergeant Joseph George Kusick VA Community Living Center\\\".\",\"TEAM Veteran Caregivers Act\",\"Law Enforcement Mental Health and Wellness Act of 2017\",\"All Circuit Review Act\",\"KIWI Act\",\"A bill to designate the health care center of the Department of Veterans Affairs in Tallahassee, Florida, as the Sergeant Ernest I. \\\"Boots\\\" Thomas VA Clinic, and for other purposes.\",\"To designate the facility of the United States Postal Service located at 201 West Cherokee Street in Brookhaven, Mississippi, as the Deputy Donald William Durr, Corporal Zach Moak, and Patrolman James White Memorial Post Office Building.\",\"Veterans Benefits and Transition Act of 2018\",\"To designate the facility of the United States Postal Service located at 2635 Napa Street in Vallejo, California, as the \\\"Janet Capello Post Office Building\\\".\",\"Criminal Antitrust Anti-Retaliation Act of 2019\",\"Sam Farr and Nick Castle Peace Corps Reform Act of 2018\",\"Additional Supplemental Appropriations for Disaster Relief Requirements Act, 2017\",\"Global Food Security Reauthorization Act of 2017\",\"GAO-IG Act\",\"State Offices of Rural Health Reauthorization Act of 2018\",\"To designate the September 11th National Memorial Trail Route, and for other purposes.\",\"Veterans Appeals Improvement and Modernization Act of 2017\",\"To extend a project of the Federal Energy Regulatory Commission involving the Cannonsville Dam.\",\"CREW Act\",\"To designate the facility of the United States Postal Service located at 259 Nassau Street, Suite 2 in Princeton, New Jersey, as the \\\"Dr. John F. Nash, Jr. Post Office\\\".\",\"To designate the facility of the United States Postal Service located at 2800 South Adams Street in Tallahassee, Florida, as the \\\"D. Edwina Stephens Post Office\\\".\",\"Empowering Olympic, Paralympic, and Amateur Athletes Act of 2020\",\"Connected Government Act\",\"Small Business Investment Opportunity Act of 2017\",\"Support for Suicide Prevention Coordinators Act\",\"Family Farmer Relief Act of 2019\",\"National Suicide Hotline Improvement Act of 2018\",\"Strengthening Career and Technical Education for the 21st Century Act\",\"Whole Veteran Act\",\"VA MISSION Act of 2018\",\"Veterans' Care Quality Transparency Act\",\"A bill to designate the Federal building and United States courthouse located at 200 West 2nd Street in Dayton, Ohio, as the \\\"Walter H. Rice Federal Building and United States Courthouse\\\".\",\"To reauthorize the Bulletproof Vest Partnership Grant Program.\",\"To permit the Secretary of Veterans Affairs to establish a grant program to conduct cemetery research and produce educational materials for the Veterans Legacy Program.\",\"Action for Dental Health Act of 2018\",\"Women's Suffrage Centennial Commemorative Coin Act\",\"FDA Reauthorization Act of 2017\",\"Sgt. Ketchum Rural Veterans Mental Health Act of 2021\",\"Eastern European Security Act\",\"To designate the facility of the United States Postal Service located at 575 Dexter Street in Central Falls, Rhode Island, as the Elizabeth Buffum Chace Post Office.\",\"To designate the facility of the United States Postal Service located at 25 New Chardon Street Lobby in Boston, Massachusetts, as the \\\"John Fitzgerald Kennedy Post Office\\\".\",\"Sickle Cell Disease and Other Heritable Blood Disorders Research, Surveillance, Prevention, and Treatment Act of 2018\",\"School-Based Allergies and Asthma Management Program Act\",\"Consolidated Appropriations Act, 2022\",\"Neil A. Armstrong Test Facility Act\",\"Securing American Nonprofit Organizations Against Terrorism Act of 2019\",\"Blackwell School National Historic Site Act\",\"Amache National Historic Site Act\",\"CENOTE Act of 2018\",\"The American Legion 100th Anniversary Commemorative Coin Act\",\"State and Local Government Cybersecurity Act of 2021\",\"THRIVE Act\",\"Making Advances in Mammography and Medical Options for Veterans Act\",\"To amend title 38, United States Code, to clarify the role of doctors of podiatric medicine in the Department of Veterans Affairs, and for other purposes.\",\"AI Training Act\",\"Know the Lowest Price Act of 2018\",\"Patient Right to Know Drug Prices Act\",\"Marrakesh Treaty Implementation Act\",\"Little Rock Central High School National Historic Site Boundary Modification Act\",\"Better Cybercrime Metrics Act\",\"Friendly Airports for Mothers Improvement Act\",\"Stephen Michael Gleason Congressional Gold Medal Act\",\"National Suicide Hotline Designation Act of 2020\",\"To designate the facility of the United States Postal Service located at 520 Carter Street in Fairview, Illinois, as the \\\"Sgt. Douglas J. Riney Post Office\\\".\",\"To designate the facility of the United States Postal Service located at 514 Broadway Street in Pekin, Illinois, as the \\\"Lance Corporal Jordan S. Bastean Post Office\\\".\",\"Veterans Small Business Enhancement Act of 2018\",\"Child Care Protection Improvement Act of 2020\",\"Strengthening Oversight for Veterans Act of 2021\",\"A bill to designate the facility of the United States Postal Service located at 4558 Broadway in New York, New York, as the \\\"Stanley Michels Post Office Building\\\".\",\"A bill to prohibit the commercial export of covered munitions items to the Hong Kong Police Force.\",\"Drone Advisory Committee for the 21st Century Act\",\"Asia Reassurance Initiative Act of 2018\",\"USAID Branding Modernization Act\",\"Law Enforcement Suicide Data Collection Act\",\"RBIC Advisers Relief Act of 2018\",\"SEA Act of 2018\",\"Zimbabwe Democracy and Economic Recovery Amendment Act of 2018\",\"National Defense Authorization Act for Fiscal Year 2018\",\"To designate the facility of the United States Postal Service located at 30 East Somerset Street in Raritan, New Jersey, as the \\\"Gunnery Sergeant John Basilone Post Office\\\".\",\"To designate the facility of the United States Postal Service located at 207 Glenside Avenue in Wyncote, Pennsylvania, as the \\\"Staff Sergeant Peter Taub Post Office Building\\\".\",\"Justice Against Corruption on K Street Act of 2018\",\"IOGAN Act\",\"VA Transparency & Trust Act of 2021\",\"Bipartisan Safer Communities Act\",\"Honoring American Veterans in Extreme Need Act of 2019\",\"To extend the program of block grants to States for temporary assistance for needy families and related programs through September 30, 2019.\",\"Anti-Terrorism Clarification Act of 2018\",\"Supplemental Impact Aid Flexibility Act\",\"Victims of Child Abuse Act Reauthorization Act of 2018\",\"To designate the facility of the United States Postal Service located at 1401 1st Street North in Winter Haven, Florida, as the Althea Margaret Daily Mills Post Office Building.\",\"To designate the facility of the United States Postal Service located at 390 West 5th Street in San Bernardino, California, as the \\\"Jack H. Brown Post Office Building\\\".\",\"National Oceanic and Atmospheric Administration Commissioned Officer Corps Amendments Act of 2020\",\"Frederick Douglass Bicentennial Commission Act\",\"TBI and PTSD Law Enforcement Training Act\",\"To designate the facility of the United States Postal Service located at 13308 Midland Road in Poway, California, as the Ray Chavez Post Office Building.\",\"America's Water Infrastructure Act of 2018\",\"PREEMIE Reauthorization Act of 2018\",\"Federal Personal Property Management Act of 2018\",\"TSP Modernization Act of 2017\",\"America's Conservation Enhancement Act\",\"Further Continuing Appropriations Act, 2020, and Further Health Extenders Act of 2019\",\"Courthouse Ethics and Transparency Act\",\"Postal Service Reform Act of 2022\",\"A bill to amend title 38, United States Code, to modify the limitation on pay for certain high-level employees and officers of the Department of Veterans Affairs.\",\"Eliminating Limits to Justice for Child Sex Abuse Victims Act of 2022\",\"To designate the facility of the United States Postal Service located at 1114 North 2nd Street in Chillicothe, Illinois, as the \\\"Sr. Chief Ryan Owens Post Office Building\\\".\",\"Financial Stability Oversight Council Insurance Member Continuity Act\",\"Modernizing Access to Our Public Land Act\",\"Endangered Salmon Predation Prevention Act\",\"Veterans Care Financial Protection Act of 2017\",\"To designate the facility of the United States Postal Service located at 8520 Michigan Avenue in Whittier, California, as the Jose Ramos Post Office Building.\",\"Improving Safety and Security for Veterans Act of 2019\",\"Taxpayer First Act\",\"Expanding Findings for Federal Opioid Research and Treatment Act\",\"Bridging the Gap for New Americans Act\",\"CyberTipline Modernization Act of 2018\",\"Safe Sleep for Babies Act of 2021\",\"To designate the facility of the United States Postal Service located at 13683 James Madison Highway in Palmyra, Virginia, as the \\\"U.S. Navy Seaman Dakota Kyle Rigsby Post Office\\\".\",\"To designate the facility of the United States Postal Service located at 180 McCormick Road in Charlottesville, Virginia, as the \\\"Captain Humayun Khan Post Office\\\".\",\"Civil Rights Cold Case Records Collection Act of 2018\",\"Vera C. Rubin Observatory Designation Act\",\"Temporary Reauthorization and Study of the Emergency Scheduling of Fentanyl Analogues Act\",\"To designate the facility of the United States Postal Service located at 114 Mill Street in Hookstown, Pennsylvania, as the \\\"Staff Sergeant Dylan Elchin Post Office Building\\\".\",\"A bill to designate the facility of the United States Postal Service located at 413 Washington Avenue in Belleville, New Jersey, as the \\\"Private Henry Svehla Post Office Building\\\".\",\"Securely Expediting Clearances Through Reporting Transparency Act of 2018\",\"To designate the facility of the United States Postal Service located at 1905 15th Street in Boulder, Colorado, as the \\\"Officer Eric H. Talley Post Office Building\\\".\",\"Harry W. Colmery Veterans Educational Assistance Act of 2017\",\"To designate the facility of the United States Postal Service located at 915 Center Avenue in Payette, Idaho, as the \\\"Harmon Killebrew Post Office Building\\\".\",\"A bill to designate the facility of the United States Postal Service located at 120 12th Street Lobby in Columbus, Georgia, as the \\\"Richard W. Williams, Jr., Chapter of the Triple Nickles (555th P.I.A.) Post Office\\\".\",\"Emergency Security Supplemental Appropriations Act, 2021\",\"FITARA Enhancement Act of 2017\",\"Restore the Harmony Way Bridge Act\",\"Women's Entrepreneurship and Economic Empowerment Act of 2018\",\"Julius Rosenwald and the Rosenwald Schools Act of 2020\",\"Sustaining Excellence in Medicaid Act of 2019\",\"A bill to designate the facility of the United States Postal Service located at 311 West Wisconsin Avenue in Tomahawk, Wisconsin, as the \\\"Einar 'Sarge' H. Ingman, Jr. Post Office Building\\\".\",\"To designate the facility of the United States Postal Service located at 340 Wetmore Avenue in Grand River, Ohio, as the Lance Corporal Andy Ace Nowacki Post Office.\",\"A bill to obtain and direct the placement in the Capitol or on the Capitol Grounds of a statue to honor Associate Justice of the Supreme Court of the United States Sandra Day O'Connor and a statue to honor Associate Justice of the Supreme Court of the United States Ruth Bader Ginsburg.\",\"Wounded Officers Recovery Act of 2017\",\"National Guard and Reservists Debt Relief Extension Act of 2019\",\"To designate the facility of the United States Postal Service located at 2509 George Mason Drive in Virginia Beach, Virginia, as the Ryan Keith Cox Post Office Building.\",\"Small Business Reorganization Act of 2019\",\"Crisis Stabilization and Community Reentry Act of 2020\",\"To designate the facility of the United States Postal Service located at 1750 McCulloch Boulevard North in Lake Havasu City, Arizona, as the Lake Havasu City Combat Veterans Memorial Post Office Building.\",\"To award four congressional gold medals to the United States Capitol Police and those who protected the U.S. Capitol on January 6, 2021.\",\"To designate the facility of the United States Postal Service located at 5186 Benito Street in Montclair, California, as the Paul Eaton Post Office Building.\",\"Sanctioning the Use of Civilians as Defenseless Shields Act\",\"Republic of Texas Legation Memorial Act\",\"Missing Children's Assistance Act of 2018\",\"Cybersecurity and Infrastructure Security Agency Act of 2018\",\"Homicide Victims' Families' Rights Act of 2021\",\"Countering America's Adversaries Through Sanctions Act\",\"To designate the facility of the United States Postal Service located at 225 North Main Street in Spring Lake, North Carolina, as the \\\"Howard B. Pate, Jr. Post Office\\\".\",\"Honoring our PACT Act of 2022\",\"Capitol Police Emergency Assistance Act of 2021\",\"A bill to redesignate a facility of the National Aeronautics and Space Administration.\",\"REAL ID Act Modification for Freely Associated States Act\",\"To amend the Nutria Eradication and Control Act of 2003 to include California in the program, and for other purposes.\",\"Emergency Supplemental Appropriations for Humanitarian Assistance and Security at the Southern Border Act, 2019\",\"A bill to designate the facility of the United States Postal Service located at 20 Ferry Road in Saunderstown, Rhode Island, as the \\\"Captain Matthew J. August Post Office\\\".\",\"Major Medical Facility Authorization Act of 2020\",\"STORM Act\",\"To designate the facility of the United States Postal Service located at 66 Meserole Avenue in Brooklyn, New York, as the Joseph R. Lentol Post Office.\",\"A bill to designate the facility of the United States Postal Service located at 105 Duff Street in Macon, Missouri, as the \\\"Arla W. Harrell Post Office\\\".\",\"AGOA and MCA Modernization Act\",\"A bill to redesignate Hobe Sound National Wildlife Refuge as the Nathaniel P. Reed Hobe Sound National Wildlife Refuge, and for other purposes.\",\"To designate the United States courthouse located at 323 East Chapel Hill Street in Durham, North Carolina, as the \\\"John Hervey Wheeler United States Courthouse\\\".\",\"Fallen Journalists Memorial Act\",\"To name the Department of Veterans Affairs community-based outpatient clinic in Columbus, Georgia, as the Robert S. Poydasheff VA Clinic.\",\"Department of Veterans Affairs Expiring Authorities Act of 2018\",\"A bill to authorize the Secretary of Veterans Affairs to treat certain programs of education converted to distance learning by reason of emergencies and health-related situations in the same manner as programs of education pursued at educational institutions, and for other purposes.\",\"Ryan Kules and Paul Benne Specially Adaptive Housing Improvement Act of 2019\",\"Save Our Seas Act of 2018\",\"To designate the facility of the United States Postal Service located at 39 West Main Street, in Honeoye Falls, New York, as the \\\"CW4 Christian J. Koch Memorial Post Office\\\".\",\"Ukraine Democracy Defense Lend-Lease Act of 2022\",\"Commission To Study the Potential Creation of a National Museum of Asian Pacific American History and Culture Act\",\"A bill to amend title 38, United States Code, to authorize the Secretary of Veterans Affairs to transfer the name of property of the Department of Veterans Affairs designated by law to other property of the Department.\",\"Museum and Library Services Act of 2018\",\"Accelerating Access to Critical Therapies for ALS Act\",\"To designate the facility of the United States Postal Service located at 223 West Chalan Santo Papa in Hagatna, Guam, as the \\\"Atanasio Taitano Perez Post Office\\\".\",\"To amend title 38, United States Code, to authorize the Secretary of Veterans Affairs to furnish assistance for adaptations of residences of veterans in rehabilitation programs under chapter 31 of such title, and for other purposes.\",\"To designate the facility of the United States Postal Service located at 200 East Main Street in Maroa, Illinois, as the \\\"Jeremy L. Ridlen Post Office\\\".\",\"Ocean Shipping Reform Act of 2022\",\"Department of Veterans Affairs Website Accessibility Act of 2019\",\"Greg LeMond Congressional Gold Medal Act\",\"Safeguarding America's First Responders Act of 2020\",\"To designate the facility of the United States Postal Service located at 202 Trumbull Street in Saint Clair, Michigan, as the \\\"Corporal Jeffrey Robert Standfest Post Office Building\\\".\",\"A bill to amend the Servicemembers Civil Relief Act to extend lease protections for servicemembers under stop movement orders in response to a local, national, or global emergency, and for other purposes.\",\"To designate the facility of the United States Postal Service located at 1100 Kings Road in Jacksonville, Florida, as the \\\"Rutledge Pearson Post Office Building\\\".\",\"Harlem Hellfighters Congressional Gold Medal Act\",\"To designate the facility of the United States Postal Service located at 1300 Main Street in Belmar, New Jersey, as the \\\"Dr. Walter S. McAfee Post Office Building\\\".\",\"75th Anniversary of World War II Commemoration Act\",\"To designate the medical center of the Department of Veterans Affairs in San Diego, California, as the Jennifer Moreno Department of Veterans Affairs Medical Center, and to support the designation of a component of such medical center in honor of Kathleen Bruyere.\",\"To designate the facility of the United States Postal Service located at 415 North Main Street in Henning, Tennessee, as the \\\"Paula Croom Robinson and Judy Spray Memorial Post Office Building\\\".\",\"Promoting Alzheimer's Awareness to Prevent Elder Abuse Act\",\"A bill to provide for the application of certain provisions of the Secure Rural Schools and Community Self-Determination Act of 2000 for fiscal year 2021.\",\"Secret Service Recruitment and Retention Act of 2018\",\"Uyghur Human Rights Policy Act of 2020\",\"Congressional Accountability Act of 1995 Reform Act\",\"A bill to amend the Klamath Basin Water Supply Enhancement Act of 2000 to make certain technical corrections.\",\"RAISE Family Caregivers Act\",\"Forever GI Bill Housing Payment Fulfillment Act of 2018\",\"Department of Veterans Affairs Expiring Authorities Act of 2017\",\"To designate the facility of the United States Postal Service located at 430 Main Street in Clermont, Georgia, as the \\\"Zack T. Addington Post Office\\\".\",\"Disaster Tax Relief and Airport and Airway Extension Act of 2017\",\"Bankruptcy Threshold Adjustment and Technical Corrections Act\",\"9/11 Heroes Medal of Valor Act of 2017\",\"To designate the facility of the United States Postal Service located at 117 West Poythress Street in Hopewell, Virginia, as the Reverend Curtis West Harris Post Office Building.\",\"To designate the facility of the United States Postal Service located at 511 West 165th Street in New York, New York, as the Normandia Maldonado Post Office Building.\",\"Bipartisan Budget Act of 2019\",\"ONDCP Technical Corrections Act of 2019\",\"To designate the facility of the United States Postal Service located at 100 Mathe Avenue in Interlachen, Florida, as the \\\"Robert H. Jenkins, Jr. Post Office\\\".\",\"United States Commission on International Religious Freedom Reauthorization Act of 2022.\",\"Secure Equipment Act of 2021\",\"An Act to name the Department of Veterans Affairs community-based outpatient clinic in Statesboro, Georgia, the Ray Hendrix Department of Veterans Affairs Clinic.\",\"VALOR Act\",\"Protection and Advocacy for Voting Access Program Inclusion Act\",\"To designate the facility of the United States Postal Service located at 12711 East Jefferson Avenue in Detroit, Michigan, as the Aretha Franklin Post Office Building.\",\"Keep America's Refuges Operational Act\",\"United States Semiquincentennial Commission Amendments Act of 2020\",\"Protecting Access to the Courts for Taxpayers Act\",\"Smithsonian National Zoological Park Central Parking Facility Authorization Act\",\"GLRI Act of 2019\",\"Gila River Indian Community Federal Rights-of-Way, Easements and Boundary Clarification Act\",\"To designate the facility of the United States Postal Service located at 602 Pacific Avenue in Bremerton, Washington, as the John Henry Turpin Post Office Building.\",\"To designate the facility of the United States Postal Service located at 1415 West Oak Street, in Kissimmee, Florida, as the \\\"Borinqueneers Post Office Building\\\".\",\"Protect and Restore America's Estuaries Act\",\"A bill to designate the clinic of the Department of Veterans Affairs in Bend, Oregon, as the \\\"Robert D. Maxwell Department of Veterans Affairs Clinic\\\".\",\"RLF Act\",\"Veterans Rapid Retraining Assistance Program Restoration and Recovery Act of 2022\",\"Emergency Aid for Returning Americans Affected by Coronavirus Act\",\"Negro Leagues Baseball Centennial Commemorative Coin Act\",\"Spurring Business in Communities Act of 2017\",\"A bill to extend the authority for commitments for the paycheck protection program and separate amounts authorized for other loans under section 7(a) of the Small Business Act, and for other purposes.\",\"RECA Extension Act of 2022\",\"A bill to designate the facility of the United States Postal Service located at 104 East Main Street in Port Washington, Wisconsin, as the \\\"Joseph G. Demler Post Office\\\".\",\"A bill to extend the Chemical Facility Anti-Terrorism Standards Program of the Department of Homeland Security, and for other purposes.\",\"Supreme Court Police Parity Act of 2022\",\"To designate the facility of the United States Postal Service located at 6223 Maple Street, in Omaha, Nebraska, as the \\\"Petty Officer 1st Class Charles Jackson French Post Office\\\".\",\"To name the Department of Veterans Affairs community-based outpatient clinic in Aurora, Colorado, as the Lieutenant Colonel John W. Mosley VA Clinic.\",\"Foundations for Evidence-Based Policymaking Act of 2018\",\"Identifying Barriers and Best Practices Study Act\",\"To designate the facility of the United States Postal Service located at 321 South 1st Street in Montrose, Colorado, as the Sergeant David Kinterknecht Post Office.\",\"PAW Act\",\"Protecting Nonprofits from Catastrophic Cash Flow Strain Act of 2020\",\"Vehicular Terrorism Prevention Act of 2018\",\"Women in Aerospace Education Act\",\"Reauthorizing Security for Supreme Court Justices Act of 2019\",\"To designate the facility of the United States Postal Service located at 445 Main Street in Laceyville, Pennsylvania, as the Melinda Gene Piccotti Post Office.\",\"To designate the facility of the United States Postal Service located at 123 Bridgeton Pike in Mullica Hill, New Jersey, as the \\\"James C. 'Billy' Johnson Post Office Building\\\".\",\"Department of Veterans Affairs Expiring Authorities Act of 2019\",\"Admiral Lloyd R. \\\"Joe\\\" Vasey Pacific War Commemorative Display Establishment Act\",\"To designate the facility of the United States Postal Service located at 201 Tom Hall Street in Fort Mill, South Carolina, as the \\\"J. Elliott Williams Post Office Building\\\".\",\"Miscellaneous Tariff Bill Act of 2018\",\"To designate the facility of the United States Postal Service located at 200 West North Street in Normal, Illinois, as the \\\"Sgt. Josh Rodgers Post Office\\\".\",\"Supporting Older Americans Act of 2020\",\"Supreme Court Security Funding Act of 2022\",\"Protecting Families of Fallen Servicemembers Act\",\"Continuing Appropriations Act, 2020, and Health Extenders Act of 2019\",\"To designate the facility of the United States Postal Service located at 99 Macombs Place in New York, New York, as the \\\"Tuskegee Airmen Post Office Building\\\".\",\"An act to designate the facility of the United States Postal Service located at 3s101 Rockwell Street in Warrenville, Illinois, as the \\\"Corporal Jeffrey Allen Williams Post Office Building\\\".\",\"Homeland Security for Children Act\",\"Correcting Miscalculations in Veterans' Pensions Act\",\"Ending Forced Arbitration of Sexual Assault and Sexual Harassment Act of 2021\",\"To designate the facility of the United States Postal Service located at 6 Doyers Street in New York, New York, as the \\\"Mabel Lee Memorial Post Office\\\".\",\"Malala Yousafzai Scholarship Act\",\"To make technical amendments to certain marine fish conservation statutes, and for other purposes.\",\"To designate the health care system of the Department of Veterans Affairs in Lexington, Kentucky, as the \\\"Lexington VA Health Care System\\\" and to make certain other designations.\",\"Strengthening Protections for Social Security Beneficiaries Act of 2018\",\"Virginia Beach Strong Act\",\"To designate the facility of the United States Postal Service located at 108 West Schick Road in Bloomingdale, Illinois, as the \\\"Bloomingdale Veterans Memorial Post Office Building\\\".\",\"VA Electronic Health Record Transparency Act of 2021\",\"To designate the facility of the United States Postal Service located at 1900 Corporate Drive in Birmingham, Alabama, as the \\\"Lance Corporal Thomas E. Rivers, Jr. Post Office Building\\\".\",\"United States Fire Administration, AFG, and SAFER Program Reauthorization Act of 2017\",\"To designate the facility of the United States Postal Service located at 21701 Stevens Creek Boulevard in Cupertino, California, as the Petty Officer 2nd Class (SEAL) Matthew G. Axelson Post Office Building.\",\"A bill to designate the facility of the United States Postal Service located at 440 Arapahoe Street in Thermopolis, Wyoming, as the \\\"Robert L. Brown Post Office\\\".\",\"To designate the facility of the United States Postal Service located at 515 Hope Street in Bristol, Rhode Island, as the \\\"First Sergeant P. Andrew McKenna Jr. Post Office\\\".\",\"Global Malnutrition Prevention and Treatment Act of 2021\",\"Advancing Research to Prevent Suicide Act\",\"Department of Homeland Security Blue Campaign Authorization Act\",\"To designate the facility of the United States Postal Service located at 111 Market Street in Saugerties, New York, as the \\\"Maurice D. Hinchey Post Office Building\\\".\",\"To designate the facility of the United States Postal Service located at 8585 Criterion Drive in Colorado Springs, Colorado, as the Chaplain (Capt.) Dale Goetz Memorial Post Office Building.\",\"To designate the facility of the United States Postal Service located at 171 South Maple Street in Dana, Indiana, as the Ernest Ernie T. Pyle Post Office.\",\"Small Business 7(a) Lending Oversight Reform Act of 2018\",\"DHS Opioid Detection Resilience Act of 2019\",\"A bill to designate the airport traffic control tower located at Piedmont Triad International Airport in Greensboro, North Carolina, as the \\\"Senator Kay Hagan Airport Traffic Control Tower\\\".\",\"VA Tele-Hearing Modernization Act\",\"To extend the Undertaking Spam, Spyware, And Fraud Enforcement With Enforcers beyond Borders Act of 2006, and for other purposes.\",\"A bill to extend by 19 days the authorization for the special assessment for the Domestic Trafficking Victims' Fund.\",\"To designate the facility of the United States Postal Service located at 1305 U.S. Highway 90 West in Castroville, Texas, as the Lance Corporal Rhonald Dain Rairdan Post Office.\",\"To designate the facility of the United States Postal Service located at 8320 13th Avenue in Brooklyn, New York, as the Mother Frances Xavier Cabrini Post Office Building.\",\"Citizenship for Children of Military Members and Civil Servants Act\",\"DELTA Act\",\"To designate the facility of the United States Postal Service located at 567 East Franklin Street in Oviedo, Florida, as the \\\"Sergeant First Class Alwyn Crendall Cashe Post Office Building\\\".\",\"Kennedy-King National Commemorative Site Act\",\"Justice Served Act of 2018\",\"To designate the facility of the United States Postal Service located at 2201 E. Maple Street in North Canton, Ohio, as the Lance Cpl. Stacy Annie Dryden Post Office.\",\"One Stop Shop for Small Business Compliance Act of 2021\",\"To designate the facility of the United States Postal Service located at 9801 Apollo Drive in Upper Marlboro, Maryland, as the \\\"Wayne K. Curry Post Office Building\\\".\",\"SBIR and STTR Extension Act of 2022\",\"Veterans Cemetery Benefit Correction Act\",\"To designate the facility of the United States Postal Service located at 816 East Salisbury Parkway in Salisbury, Maryland, as the \\\"Sgt. Maj. Wardell B. Turner Post Office Building\\\".\",\"Department of Veterans Affairs Contracting Preference Consistency Act of 2020\",\"STB Information Security Improvement Act\",\"To designate the facility of the United States Postal Service located at 1075 North Tustin Street in Orange, California, as the \\\"Specialist Trevor A. Win'E Post Office\\\".\",\"Veterans' Compensation Cost-of-Living Adjustment Act of 2018\",\"To designate the facility of the United States Postal Service located at 511 East Walnut Street in Columbia, Missouri, as the \\\"Spc. Sterling William Wyatt Post Office Building\\\".\",\"To designate the facility of the United States Postal Service located at 15 East Market Street in Leesburg, Virginia, as the Norman Duncan Post Office Building.\",\"To designate the facility of the United States Postal Service located at 1201 Sycamore Square Drive in Midlothian, Virginia, as the Dorothy Braden Bruce Post Office Building.\",\"To amend the Fentanyl Sanctions Act, to modify certain deadlines relating to the Commission on Combating Synthetic Opioid Trafficking.\",\"To designate the facility of the United States Postal Service located at 2505 Derita Avenue in Charlotte, North Carolina, as the Julius L. Chambers Civil Rights Memorial Post Office.\",\"To designate the Department of Veterans Affairs community-based outpatient clinic in Gilbert, Arizona, as the Staff Sergeant Alexander W. Conrad Veterans Affairs Health Care Clinic.\",\"To designate the facility of the United States Postal Service located at 14 Walnut Street in Bordentown, New Jersey, as the Clara Barton Post Office Building.\",\"Bankruptcy Administration Improvement Act of 2020\",\"Secure and Trusted Communications Networks Act of 2019\",\"To name the Department of Veterans Affairs community-based outpatient clinic in Youngstown, Ohio, as the Carl Nunziato VA Clinic.\",\"To designate the facility of the United States Postal Service located at 3703 North Main Street in Farmville, North Carolina, as the Walter B. Jones, Jr. Post Office.\",\"To designate the facility of the United States Postal Service located at 9930 Conroy Windermere Road in Windermere, Florida, as the Officer Robert German Post Office Building.\",\"Ashanti Alert Act of 2018\",\"Emergency Repatriation Assistance for Returning Americans Act\",\"To designate the facility of the United States Postal Service located at 476 East Main Street in Galesburg, Illinois, as the Senior Airman Daniel Miller Post Office Building.\",\"DESCEND Act of 2020\",\"To award posthumously a Congressional Gold Medal, in commemoration to the servicemembers who perished in Afghanistan on August 26, 2021, during the evacuation of citizens of the United States and Afghan allies at Hamid Karzai International Airport, and for other purposes.\",\"To designate the facility of the United States Postal Service located at 701 6th Street in Hawthorne, Nevada, as the \\\"Sergeant Kenneth Eric Bostic Post Office\\\".\",\"Representative Payee Fraud Prevention Act of 2019\",\"To designate the facility of the United States Postal Service located at 1234 Saint Johns Place in Brooklyn, New York, as the \\\"Major Robert Odell Owens Post Office\\\".\",\"Securing America's Ports Act\",\"To amend section 442 of title 18, United States Code, to exempt certain interests in mutual funds, unit investment trusts, employee benefit plans, and retirement plans from conflict of interest limitations for the Government Publishing Office.\",\"Department of Veterans Affairs Expiring Authorities Act of 2021\",\"Extending Government Funding and Delivering Emergency Assistance Act\",\"To designate the facility of the United States Postal Service located at 115 Nicol Avenue in Thomasville, Alabama, as the \\\"Postmaster Robert Ingram Post Office\\\".\",\"Reese's Law\",\"To repeal section 2141 of the Revised Statutes to remove the prohibition on certain alcohol manufacturing on Indian lands.\",\"To designate the facility of the United States Postal Service located at 315 Addicks Howell Road in Houston, Texas, as the Deputy Sandeep Singh Dhaliwal Post Office Building.\",\"To designate the facility of the United States Postal Service located at 1325 Autumn Avenue in Memphis, Tennessee, as the \\\"Judge Russell B. Sugarmon Post Office Building\\\".\",\"FUTURE Act\",\"Inflation Reduction Act of 2022\",\"To designate the facility of the United States Postal Service located at 100 Crosby Street in Mansfield, Louisiana, as the Dr. C.O. Simpkins, Sr., Post Office.\",\"Dr. Benjy Frances Brooks Children's Hospital GME Support Reauthorization Act of 2018\",\"To designate the facility of the United States Postal Service located at 116 Main Street in Dansville, New York, as the \\\"Staff Sergeant Alexandria Gleason-Morrow Post Office Building\\\".\",\"To designate the facility of the United States Postal Service located at 25 2nd Avenue in Brentwood, New York, as the \\\"Army Specialist Jose L. Ruiz Post Office Building\\\".\",\"Surface Transportation Extension Act \\r\\nof 2021\",\"To designate the facility of the United States Postal Service located at 599 East Genesse Street in Fayetteville, New York, as the George H. Bacel Post Office Building.\",\"Rocky Mountain National Park Boundary Modification Act\",\"Rocky Mountain National Park Ownership Correction Act\",\"Jimmy Carter National Historical Park Redesignation Act\",\"To designate the facility of the United States Postal Service located at 108 North Macon Street in Bevier, Missouri, as the \\\"SO2 Navy SEAL Adam Olin Smith Post Office\\\".\",\"To designate the facility of the United States Postal Service located at 4801 West Van Giesen Street in West Richland, Washington, as the \\\"Sergeant Dietrich Schmieman Post Office Building\\\".\",\"Innovations in Mentoring, Training, and Apprenticeships Act\",\"John S. McCain National Defense Authorization Act for Fiscal Year 2019\",\"REMOTE Act\",\"Animal Drug and Animal Generic Drug User Fee Amendments of 2018\",\"To designate the facility of the United States Postal Service located at 3900 Crown Road Southwest in Atlanta, Georgia, as the \\\"John R. Lewis Post Office Building\\\".\",\"To designate the facility of the United States Postal Service located at 305 Northwest 5th Street in Oklahoma City, Oklahoma, as the Clara Luper Post Office Building.\",\"Flatside Wilderness Enhancement Act\",\"Safeguarding Therapeutics Act\",\"Merchant Mariners of World War II Congressional Gold Medal Act of 2020\",\"Shadow Wolves Enhancement Act\",\"Transportation Worker Identification Credential Accountability Act of 2018\",\"To designate the facility of the United States Postal Service located at 108 West D Street in Alpha, Illinois, as the \\\"Captain Joshua E. Steele Post Office\\\".\",\"Patient Advocate Tracker Act\",\"21st Century Integrated Digital Experience Act\",\"Further Surface Transportation Extension Act of 2021\",\"To designate the facility of the United States Postal Service located at 2650 North Doctor Martin Luther King Jr. Drive in Milwaukee, Wisconsin, shall be known and designated as the \\\"Vel R. Phillips Post Office Building\\\".\",\"Strengthening Coastal Communities Act of 2018\",\"To designate the facility of the United States Postal Service located at 9609 South University Boulevard in Highlands Ranch, Colorado, as the \\\"Deputy Sheriff Zackari Spurlock Parrish, III, Post Office Building\\\".\",\"To designate the facility of the United States Postal Service located at 90 North 4th Avenue in Brighton, Colorado, as the \\\"Detective Heath McDonald Gumm Post Office\\\".\",\"To designate the facility of the United States Postal Service located at 1801 Town and Country Drive in Norco, California, as the \\\"Lance Corporal Kareem Nikoui Memorial Post Office Building\\\".\",\"Weir Farm National Historical Park Redesignation Act\",\"To designate the facility of the United States Postal Service located at 530 Claremont Avenue in Ashland, Ohio, as the \\\"Bill Harris Post Office\\\".\",\"Information Technology Modernization Centers of Excellence Program Act\",\"To designate the facility of the United States Postal Service located at 1355 North Meridian Road in Harristown, Illinois, as the \\\"Logan S. Palmer Post Office\\\".\",\"To designate the facility of the United States Postal Service located at 108 West Maple Street in Holly, Michigan, as the Holly Veterans Memorial Post Office.\",\"Northern Mariana Islands U.S. Workforce Act of 2018\",\"Mary Ann Shadd Cary Post Office Dedication Act\",\"To designate the facility of the United States Postal Service located at 4150 Chicago Avenue in Riverside, California, as the Woodie Rucker-Hughes Post Office Building.\",\"To designate the facility of the United States Postal Service located at 14955 West Bell Road in Surprise, Arizona, as the Marc Lee Memorial Post Office Building.\",\"To designate the facility of the United States Postal Service located at 325 South Michigan Avenue in Howell, Michigan, as the \\\"Sergeant Donald Burgett Post Office Building\\\".\",\"Multinational Species Conservation Funds Semipostal Stamp Reauthorization Act of 2021\",\"To amend title XIX of the Social Security Act to delay the reduction in Federal medical assistance percentage for Medicaid personal care services furnished without an electronic visit verification system, and for other purposes.\",\"To designate the facility of the United States Postal Service located at 51 Willow Street in Lynn, Massachusetts, as the \\\"Thomas P. Costin, Jr. Post Office Building\\\".\",\"Coronavirus Preparedness and Response Supplemental Appropriations Act, 2020\",\"Strengthening the Opposition to Female Genital Mutilation Act of 2020\",\"To designate the facility of the United States Postal Service located at 362 North Ross Street in Beaverton, Michigan, as the \\\"Colonel Alfred Asch Post Office\\\".\",\"Further Extending Government Funding \\r\\nAct\",\"Tribal Social Security Fairness Act of 2018\",\"To amend title 5, United States Code, to clarify the sources of the authority to issue regulations regarding certifications and other criteria applicable to legislative branch employees under Wounded Warriors Federal Leave Act.\",\"To designate the facility of the United States Postal Service located at 1585 Yanceyville Street, Greensboro, North Carolina, as the J. Howard Coble Post Office Building.\",\"To designate the facility of the United States Postal Service located at 5707 South Cass Avenue in Westmont, Illinois, as the \\\"James William Robinson Jr. Memorial Post Office Building\\\".\",\"Veterans' Compensation Cost-of-Living Adjustment Act of 2020\",\"1921 Silver Dollar Coin Anniversary Act\",\"To designate the facility of the United States Postal Service located at 3025 Woodgate Road in Montrose, Colorado, as the \\\"Sergeant David Kinterknecht Post Office\\\".\",\"To designate the facility of the United States Postal Service located at 241 N 4th Street in Grand Junction, Colorado, as the \\\"Deputy Sheriff Derek Geer Post Office Building\\\".\",\"National Quantum Initiative Act\",\"PRC for Native Veterans Act\",\"To ensure that goods made with forced labor in the Xinjiang Uyghur Autonomous Region of the People\\u2019s Republic of China do not enter the United States market, and for other purposes.\",\"9/11 Memorial Act\",\"Student Veteran Coronavirus Response Act of 2020\",\"Small Business Runway Extension Act of 2018\",\"To designate the facility of the United States Postal Service located at 322 Main Street in Oakville, Connecticut, as the \\\"Oakville Veterans Memorial Post Office\\\".\",\"7(a) Real Estate Appraisal Harmonization Act\",\"Small Business ACE Act\",\"To designate the facility of the United States Postal Service located at 2801 Mitchell Road in Ceres, California, as the \\\"Lance Corporal Juana Navarro Arellano Post Office Building\\\".\",\"To amend title 23, United States Code, to extend the deadline for promulgation of regulations under the tribal transportation self-governance program.\",\"To designate the facility of the United States Postal Service located at 509 Fairhope Avenue in Fairhope, Alabama, as the William Jack Jackson Edwards III Post Office Building.\",\"Frank Leone Post Office Act\",\"Combating Pandemic Scams Act of 2020\",\"To designate the facility of the United States Postal Service located at 1110 West Market Street in Athens, Alabama, as the \\\"Judge James E. Horton, Jr. Post Office Building\\\".\",\"To deem an urban Indian organization and employees thereof to be a part of the Public Health Service for the purposes of certain claims for personal injury, and for other purposes.\",\"To designate the facility of the United States Postal Service located at 501 South Kirkman Road in Orlando, Florida, as the \\\"Napoleon 'Nap' Ford Post Office Building\\\".\",\"To reauthorize the New Jersey Coastal Heritage Trail Route, and for other purposes.\",\"Traumatic Brain Injury Program Reauthorization Act of 2018\",\"Further Additional Extending Government Funding Act\",\"To designate the facility of the United States Postal Service located at 530 East Main Street in Johnson City, Tennessee, as the \\\"Major Homer L. Pease Post Office\\\".\",\"To designate the facility of the United States Postal Service located at 4301 Northeast 4th Street in Renton, Washington, as the \\\"James Marshall 'Jimi' Hendrix Post Office Building\\\".\",\"PEPFAR Extension Act of 2018\",\"To designate the facility of the United States Postal Service located at 44160 State Highway 299 East Suite 1 in McArthur, California, as the \\\"Janet Lucille Oilar Post Office\\\".\",\"SUCCESS Act\",\"To designate the facility of the United States Postal Service located at 7521 Paula Drive in Tampa, Florida, as the \\\"Major Andreas O'Keeffe Post Office Building\\\".\",\"To designate the facility of the United States Postal Service located at 35 West Main Street in Frisco, Colorado, as the \\\"Patrick E. Mahany, Jr., Post Office Building\\\".\",\"Making continuing appropriations for fiscal year 2023, and for other purposes.\",\"To rename the Stop Trading on Congressional Knowledge Act of 2012 in honor of Representative Louise McIntosh Slaughter.\",\"Secret Service Overtime Pay Extension Act\",\"United States Parole Commission Extension Act of 2018\",\"Russia and Belarus SDR Exchange Prohibition Act of 2022\",\"To designate the facility of the United States Postal Service located at 10 Miller Street in Plattsburgh, New York, as the \\\"Ross Bouyea Post Office Building\\\".\",\"Public Safety Officer Support Act of 2022\",\"Juvenile Justice Reform Act of 2018\",\"Ending Importation of Russian Oil Act\",\"Paycheck Protection Program Flexibility Act of 2020\",\"To designate the facility of the United States Postal Service located at 111 James Street in Reidsville, Georgia, as the Senator Jack Hill Post Office Building.\",\"Johnny Isakson and David P. Roe, M.D. Veterans Health Care and Benefits Improvement Act of 2020\",\"Suspending Normal Trade Relations with Russia and Belarus Act\",\"To amend the Federal Election Campaign Act of 1971 to extend through 2023 the authority of the Federal Election Commission to impose civil money penalties on the basis of a schedule of penalties established and published by the Commission.\",\"To designate the facility of the United States Postal Service located at 226 West Main Street in Lake City, South Carolina, as the \\\"Postmaster Frazier B. Baker Post Office\\\".\",\"To amend Public Law 115-217 to change the address of the postal facility designated by such Public Law in honor of Sergeant First Class Alwyn Crendall Cashe, and for other purposes.\",\"Patents for Humanity Program Improvement Act\",\"Water Infrastructure Improvement Act\",\"Strengthening and Enhancing Cyber-capabilities by Utilizing Risk Exposure Technology Act\",\"To designate the medical center of the Department of Veterans Affairs in Ann Arbor, Michigan, as the Lieutenant Colonel Charles S. Kettles Department of Veterans Affairs Medical Center.\",\"PPP and Bank Fraud Enforcement Harmonization Act of 2022\",\"Hong Kong Autonomy Act\",\"Peace Corps Commemorative Work Extension Act\",\"Fiscal Year 2022 Veterans Affairs Major Medical Facility Authorization Act\",\"To designate the facility of the United States Postal Service located at 101 South 16th Street in Clarinda, Iowa, as the Jessie Field Shambaugh Post Office Building.\",\"Additional Ukraine Supplemental Appropriations Act, 2022\",\"To designate the outpatient clinic of the Department of Veterans Affairs in Ventura, California, as the \\\"Captain Rosemary Bryant Mariner Outpatient Clinic\\\".\",\"Access to Baby Formula Act of 2022\",\"To designate the facility of the United States Postal Service located at 3519 East Walnut Street in Pearland, Texas, as the Tom Reid Post Office Building.\",\"Veterans' Compensation Cost-of-Living Adjustment Act of 2022\",\"To amend the Health Information Technology for Economic and Clinical Health Act to require the Secretary of Health and Human Services to consider certain recognized security practices of covered entities and business associates when making certain determinations, and for other purposes.\",\"Veterans COMPACT Act of 2020\",\"To authorize the President to posthumously award the Medal of Honor to Alwyn C. Cashe for acts of valor during Operation Iraqi Freedom.\",\"Continuing Appropriations Act, 2021 and Other Extensions Act\",\"Formula Act\",\"Servicemembers and Veterans Initiative Act of 2020\",\"Impact Aid Coronavirus Relief Act\",\"To designate the facility of the United States Postal Service located at 4755 Southeast Dixie Highway in Port Salerno, Florida, as the Joseph Bullock Post Office Building.\",\"To designate the clinic of the Department of Veterans Affairs in Mishawaka, Indiana, as the \\\"Jackie Walorski VA Clinic\\\".\",\"National Landslide Preparedness Act\",\"Further Continuing Appropriations Act, 2021, and Other Extensions Act\",\"Lifespan Respite Care Reauthorization Act of 2020\",\"Bulk Infant Formula to Retail Shelves Act\"]],[\"cosponsor_D_perc\",[0.0,0.0,0.375,0.0,0.952380952380952,1.0,0.952380952380952,1.0,1.0,0.0,0.5,0.0,0.0,0.0,0.0,0.5,0.0083333333333333,0.0068027210884353,0.5,0.5,0.0,0.0,0.0,1.0,0.994475138121547,0.5,0.5,0.5,0.5,0.5,0.5,0.5,0.5,0.0,0.875,0.5,0.5,0.166666666666667,0.166666666666667,0.428571428571428,0.428571428571428,0.0,0.0,0.5,1.0,0.75,1.0,0.416666666666667,1.0,0.466666666666667,0.51219512195122,0.5,0.0,0.75,0.666666666666667,0.733333333333333,0.285714285714286,0.333333333333333,0.333333333333333,1.0,1.0,1.0,0.0444444444444444,0.333333333333333,0.6,1.0,1.0,0.666666666666667,0.678571428571429,0.666666666666667,0.451219512195122,0.321428571428571,0.142857142857143,0.428571428571428,0.818181818181818,0.8,0.0,0.769230769230769,0.166666666666667,0.0,0.933333333333333,0.428571428571428,0.25,0.6,0.754385964912281,0.60377358490566,1.0,1.0,0.616,0.333333333333333,0.52,1.0,0.5,0.235294117647059,0.235294117647059,0.647058823529412,0.666666666666667,0.75,0.75,0.0,0.0,0.166666666666667,0.5,0.0,0.0,1.0,0.333333333333333,0.333333333333333,0.711111111111111,0.125,0.125,1.0,0.5,0.5,0.5,0.0,0.0,0.945454545454545,0.0,1.0,0.571428571428571,0.571428571428571,0.0,0.0,0.25,0.25,0.261538461538461,0.571428571428571,0.870967741935484,0.689655172413793,1.0,1.0,1.0,0.333333333333333,0.666666666666667,0.457142857142857,0.457142857142857,0.457142857142857,0.291666666666667,0.444444444444444,1.0,0.333333333333333,0.655172413793103,0.655172413793103,0.358024691358025,0.91025641025641,0.6,0.0,1.0,0.35,1.0,0.553846153846154,0.553846153846154,0.666666666666667,0.275862068965517,0.444444444444444,0.444444444444444,0.444444444444444,0.4,0.222222222222222,0.745098039215686,0.294117647058823,0.714285714285714,0.424242424242424,0.5,0.666666666666667,0.545454545454545,0.333333333333333,0.5,0.428571428571428,0.5,1.0,0.0,0.454545454545454,0.768,1.0,0.788461538461538,0.5,0.44,0.666666666666667,0.58,0.6,0.333333333333333,0.692307692307692,0.692307692307692,0.666666666666667,0.666666666666667,0.666666666666667,0.666666666666667,0.631578947368421,0.458333333333333,0.5,0.653846153846154,0.714285714285714,1.0,0.333333333333333,0.807692307692308,0.807692307692308,0.666666666666667,0.666666666666667,1.0,0.75,0.75,0.0,0.333333333333333,1.0,1.0,1.0,0.40251572327044,0.0,0.725925925925926,0.333333333333333,0.4,1.0,0.666666666666667,1.0,0.6,0.666666666666667,0.5,0.533333333333333,1.0,1.0,1.0,0.739130434782609,0.704,0.704,0.25,0.5,0.266666666666667,0.4,0.5,0.8,0.653846153846154,0.666666666666667,0.476190476190476,0.5,0.888888888888889,1.0,0.875,0.696969696969697,0.532,0.734104046242775,0.666666666666667,0.5,0.333333333333333,0.5,0.666666666666667,0.184210526315789,0.75,0.666666666666667,0.333333333333333,0.25,0.25,0.8,1.0,0.5,0.5,0.5,0.5,0.339285714285714,0.788461538461538,0.527027027027027,0.75,0.0,0.5,0.5,0.571428571428571,0.285714285714286,0.285714285714286,0.285714285714286,0.285714285714286,0.285714285714286,0.0555555555555555,0.0555555555555555,0.0,1.0,0.76,0.5,0.916666666666667,0.886792452830189,0.371428571428571,0.88,0.88,0.666666666666667,0.538461538461538,1.0,1.0,0.0,0.0,0.0,0.5,0.451612903225806,0.461538461538462,0.0,0.0,0.0,0.5,0.788,0.75,0.0,0.8,0.666666666666667,0.375,0.666666666666667,0.5,0.6,0.856,0.536231884057971,0.529411764705882,0.214285714285714,0.5,1.0,0.6,0.344,0.722222222222222,0.819444444444444,0.7,0.923076923076923,0.333333333333333,0.722222222222222,0.833333333333333,0.833333333333333,0.666666666666667,0.5,0.333333333333333,0.5625,0.545454545454545,0.28125,0.5,0.888888888888889,0.461538461538462,0.5,0.0555555555555555,0.0555555555555555,0.5,0.45,0.0,0.605263157894737,0.578947368421053,0.0,0.588235294117647,0.819277108433735,0.538461538461538,0.538461538461538,0.285714285714286,1.0,1.0,0.6,0.952380952380952,0.5,0.571428571428571,0.0,0.0,0.470588235294118,0.470588235294118,0.666666666666667,0.884,0.702970297029703,0.5,0.477611940298507,0.555555555555556,0.744,0.769230769230769,0.472727272727273,0.375,0.744,0.705882352941177,0.428571428571428,0.294117647058823,0.468,0.75,0.576,0.576,1.0,0.0,0.0,0.5,0.5,0.5,0.0,0.333333333333333,0.4,0.898809523809524,0.769230769230769,0.944444444444444,0.5,0.642857142857143,0.884615384615385,0.666666666666667,0.717391304347826,0.638888888888889,0.638888888888889,0.333333333333333,0.0,0.5,1.0,0.654545454545455,0.333333333333333,0.0,0.661764705882353,0.714285714285714,0.333333333333333,1.0,0.666666666666667,0.722222222222222,0.722222222222222,0.622641509433962,0.82051282051282,0.461538461538462,0.48,0.0,0.153846153846154,0.666666666666667,0.0,0.333333333333333,0.551724137931034,0.551724137931034,0.5,0.294117647058823,0.555555555555556,0.34375,0.0,0.285714285714286,0.333333333333333,0.333333333333333,0.5,0.73469387755102,0.777777777777778,0.709677419354839,0.625,0.615384615384615,0.625,0.823529411764706,0.823529411764706,0.423076923076923,0.777777777777778,0.0,0.545454545454545,0.384615384615385,0.5,0.5,0.4,0.4,0.666666666666667,0.460869565217391,0.275,0.5,1.0,1.0,0.0,0.653846153846154,0.0,0.843373493975904,0.48,0.666666666666667,0.621621621621622,0.666666666666667,1.0,1.0,0.833333333333333,0.872340425531915,0.428571428571428,1.0,0.826923076923077,1.0,0.857142857142857,1.0,0.464,0.5,0.0,0.6,1.0,0.0,0.533333333333333,0.583333333333333,0.769230769230769,0.333333333333333,0.6,0.5,0.486111111111111,0.575757575757576,0.588235294117647,0.588235294117647,0.8,0.6,0.5,1.0,0.529411764705882,0.0,0.454545454545454,0.666666666666667,0.428571428571428,1.0,0.5,1.0,1.0,0.636363636363636,0.235294117647059,1.0,0.0,0.833333333333333,0.921052631578947,0.921052631578947,0.0,0.363636363636364,0.333333333333333,0.476190476190476,0.461538461538462,0.72,1.0,0.388888888888889,0.769230769230769,0.865384615384615,1.0,0.75,0.75,0.75,0.555555555555556,0.0,0.571428571428571,0.568627450980392,1.0,0.666666666666667,0.611111111111111,0.620689655172414,0.727272727272727,0.8,0.666666666666667,0.865384615384615,0.0,0.714285714285714,0.64,0.4,0.5,1.0,0.4,0.4,0.666666666666667,0.8,0.666666666666667,0.470588235294118,1.0,1.0,1.0,0.702479338842975,0.333333333333333,0.0,0.0,0.333333333333333,0.576923076923077,0.5,0.813953488372093,0.444444444444444,1.0,0.266666666666667,0.842105263157895,0.578125,0.333333333333333,0.6,0.666666666666667,0.666666666666667,0.625,0.0,0.882352941176471,0.423076923076923,0.545454545454545,0.444444444444444,0.882352941176471,0.882352941176471,0.6,0.25,1.0,0.571428571428571,1.0,0.6,0.857142857142857,0.0,1.0,1.0,0.6,0.692307692307692,0.0,0.75,0.0,0.181818181818182,0.918367346938776,0.384615384615385,1.0,0.533333333333333,0.5,0.666666666666667,0.666666666666667,0.3,0.975,0.0,0.863636363636364,0.608,0.0,0.333333333333333,0.764705882352941,0.483870967741935,0.5,0.9,0.545454545454545,0.538461538461538,0.4375,0.384615384615385,0.668,0.636363636363636,0.6,0.788461538461538,0.25,0.407407407407407,0.6,0.333333333333333,0.484375,0.333333333333333,1.0,0.619469026548673,0.8,0.5,0.307692307692308,0.0,0.0,0.818181818181818,0.6,0.769230769230769,1.0,0.0,0.423076923076923,0.5,0.5,0.307692307692308,0.5,0.75,0.5,0.294117647058823,1.0,1.0,0.5,0.551020408163265,0.2,0.666666666666667,0.384615384615385,0.769230769230769,1.0,0.666666666666667,0.0,1.0,0.74,1.0,0.8,0.666666666666667,1.0,0.4,1.0,0.333333333333333,1.0,0.333333333333333,0.4,0.666666666666667,0.0,0.56,0.333333333333333,0.714285714285714,0.5,0.529411764705882,0.0,0.0,0.811111111111111,0.166666666666667,0.1,0.647058823529412,0.44,0.0,0.0,0.0,0.653846153846154,0.647058823529412,1.0,0.25,0.68,0.689655172413793,0.53125,0.0,0.2,0.546666666666667,0.75,0.588235294117647,0.727272727272727,0.166666666666667,0.125,0.865384615384615,0.5,1.0,0.647058823529412,0.8125,0.333333333333333,0.703703703703704,0.666666666666667,0.25,0.636363636363636,0.25,0.666666666666667,0.0,0.5,0.371428571428571,0.371428571428571,0.769230769230769,0.538461538461538,0.439024390243902,0.384615384615385,0.703703703703704,0.333333333333333,0.266666666666667,0.75,0.857142857142857,0.0,0.0909090909090909,1.0,0.5,0.5,0.74,0.8,0.285714285714286,0.6,0.6,0.166666666666667,0.166666666666667,0.625,0.909090909090909,0.6,0.333333333333333,0.2,0.375,0.461538461538462,0.5,1.0,0.705882352941177,0.5,0.248,0.666666666666667,0.0,0.844827586206897,0.666666666666667,0.0,0.0,0.0,0.0,0.757575757575758,0.4,0.4,0.125,1.0,0.0,0.2,0.493333333333333,0.68,0.68,0.0,0.807692307692308,0.0,0.0,0.307692307692308,0.285714285714286,0.666666666666667,0.285714285714286,1.0,0.833333333333333,0.6,0.872,0.0,1.0,0.5,0.0,0.333333333333333,0.666666666666667,0.588235294117647,0.434426229508197,0.4,0.0,0.285714285714286,0.333333333333333,0.5,0.5,0.807692307692308,0.0,0.285714285714286,0.333333333333333,0.647058823529412,0.5,1.0,0.882352941176471,0.86,0.625,0.333333333333333,0.931034482758621,0.666666666666667,1.0,0.0,0.5,0.333333333333333,0.0,0.666666666666667,1.0,0.272727272727273,0.647058823529412,0.5,0.476190476190476,0.5,0.5,0.416666666666667,0.5,0.0,0.46,0.877551020408163,0.5,1.0,0.0,1.0,0.703703703703704,0.0,0.166666666666667,0.545454545454545,0.6,0.166666666666667,0.6,0.384615384615385,0.7,0.6,0.0,0.25,0.6,0.538461538461538,0.75,0.6,0.4,0.333333333333333,1.0,0.0,0.666666666666667,1.0,0.153846153846154,0.68,0.625,1.0,1.0,0.651162790697674,0.384615384615385,0.5,0.461538461538462,1.0,0.0,0.0,0.333333333333333,0.5,0.6,0.5,0.5,0.363636363636364,0.0,0.666666666666667,0.875,0.0,0.788461538461538,0.984496124031008,0.382352941176471,0.5,0.5,0.0,0.0,0.0,0.535714285714286,0.714285714285714,0.5,0.5,0.0491803278688524,1.0,0.0,0.0,0.9]],[\"policyarea\",[\"Taxation\",\"Taxation\",\"Health\",\"Labor and Employment\",\"Environmental Protection\",\"Finance and Financial Sector\",\"Government Operations and Politics\",\"Government Operations and Politics\",\"Government Operations and Politics\",\"Economics and Public Finance\",\"Government Operations and Politics\",\"Economics and Public Finance\",\"Economics and Public Finance\",\"Public Lands and Natural Resources\",\"Public Lands and Natural Resources\",\"Government Operations and Politics\",\"Crime and Law Enforcement\",\"Health\",\"Public Lands and Natural Resources\",\"Public Lands and Natural Resources\",\"Armed Forces and National Security\",\"Armed Forces and National Security\",\"Armed Forces and National Security\",\"Native Americans\",\"Crime and Law Enforcement\",\"Science, Technology, Communications\",\"Science, Technology, Communications\",\"Government Operations and Politics\",\"Government Operations and Politics\",\"Government Operations and Politics\",\"Government Operations and Politics\",\"Government Operations and Politics\",\"Government Operations and Politics\",\"Economics and Public Finance\",\"Transportation and Public Works\",\"Government Operations and Politics\",\"Government Operations and Politics\",\"Government Operations and Politics\",\"Government Operations and Politics\",\"Science, Technology, Communications\",\"Energy\",\"Economics and Public Finance\",\"Economics and Public Finance\",\"Armed Forces and National Security\",\"Public Lands and Natural Resources\",\"Economics and Public Finance\",\"Crime and Law Enforcement\",\"Armed Forces and National Security\",\"Native Americans\",\"Government Operations and Politics\",\"Science, Technology, Communications\",\"Science, Technology, Communications\",\"Health\",\"Education\",\"Commerce\",\"Crime and Law Enforcement\",\"Government Operations and Politics\",\"Health\",\"Health\",\"Energy\",\"Government Operations and Politics\",\"Public Lands and Natural Resources\",\"Health\",\"Government Operations and Politics\",\"Native Americans\",\"Native Americans\",\"Public Lands and Natural Resources\",\"International Affairs\",\"Native Americans\",\"Government Operations and Politics\",\"Finance and Financial Sector\",\"Economics and Public Finance\",\"Native Americans\",\"Emergency Management\",\"Science, Technology, Communications\",\"Native Americans\",\"Health\",\"Public Lands and Natural Resources\",\"Government Operations and Politics\",\"Economics and Public Finance\",\"Public Lands and Natural Resources\",\"Public Lands and Natural Resources\",\"Economics and Public Finance\",\"Government Operations and Politics\",\"Education\",\"Health\",\"Native Americans\",\"Native Americans\",\"Armed Forces and National Security\",\"Transportation and Public Works\",\"Health\",\"Armed Forces and National Security\",\"Health\",\"Science, Technology, Communications\",\"Science, Technology, Communications\",\"Armed Forces and National Security\",\"Native Americans\",\"Public Lands and Natural Resources\",\"Public Lands and Natural Resources\",\"Armed Forces and National Security\",\"Immigration\",\"Science, Technology, Communications\",\"Emergency Management\",\"International Affairs\",\"International Affairs\",\"Public Lands and Natural Resources\",\"Government Operations and Politics\",\"Government Operations and Politics\",\"Public Lands and Natural Resources\",\"Government Operations and Politics\",\"Government Operations and Politics\",\"Government Operations and Politics\",\"Government Operations and Politics\",\"Finance and Financial Sector\",\"Health\",\"Congress\",\"Social Welfare\",\"Public Lands and Natural Resources\",\"Congress\",\"Public Lands and Natural Resources\",\"Science, Technology, Communications\",\"Science, Technology, Communications\",\"Energy\",\"Energy\",\"Government Operations and Politics\",\"Government Operations and Politics\",\"Finance and Financial Sector\",\"Education\",\"Public Lands and Natural Resources\",\"Civil Rights and Liberties, Minority Issues\",\"Environmental Protection\",\"Public Lands and Natural Resources\",\"Public Lands and Natural Resources\",\"Transportation and Public Works\",\"Public Lands and Natural Resources\",\"Armed Forces and National Security\",\"Armed Forces and National Security\",\"Armed Forces and National Security\",\"Crime and Law Enforcement\",\"Energy\",\"Transportation and Public Works\",\"Energy\",\"Crime and Law Enforcement\",\"Crime and Law Enforcement\",\"International Affairs\",\"Government Operations and Politics\",\"Armed Forces and National Security\",\"Immigration\",\"Public Lands and Natural Resources\",\"Armed Forces and National Security\",\"Government Operations and Politics\",\"Social Welfare\",\"Social Welfare\",\"Social Welfare\",\"Science, Technology, Communications\",\"Science, Technology, Communications\",\"Science, Technology, Communications\",\"Science, Technology, Communications\",\"Energy\",\"Economics and Public Finance\",\"Government Operations and Politics\",\"Armed Forces and National Security\",\"Health\",\"Government Operations and Politics\",\"Emergency Management\",\"Health\",\"Government Operations and Politics\",\"Science, Technology, Communications\",\"International Affairs\",\"Government Operations and Politics\",\"Public Lands and Natural Resources\",\"Public Lands and Natural Resources\",\"Armed Forces and National Security\",\"Crime and Law Enforcement\",\"Crime and Law Enforcement\",\"Government Operations and Politics\",\"Government Operations and Politics\",\"Science, Technology, Communications\",\"Armed Forces and National Security\",\"Crime and Law Enforcement\",\"International Affairs\",\"Crime and Law Enforcement\",\"Labor and Employment\",\"Government Operations and Politics\",\"Government Operations and Politics\",\"Science, Technology, Communications\",\"Science, Technology, Communications\",\"Crime and Law Enforcement\",\"Crime and Law Enforcement\",\"Health\",\"Crime and Law Enforcement\",\"Crime and Law Enforcement\",\"Armed Forces and National Security\",\"Armed Forces and National Security\",\"Transportation and Public Works\",\"International Affairs\",\"Government Operations and Politics\",\"Government Operations and Politics\",\"Transportation and Public Works\",\"Transportation and Public Works\",\"Native Americans\",\"Crime and Law Enforcement\",\"Education\",\"Crime and Law Enforcement\",\"Commerce\",\"Armed Forces and National Security\",\"Armed Forces and National Security\",\"Government Operations and Politics\",\"Public Lands and Natural Resources\",\"Science, Technology, Communications\",\"Crime and Law Enforcement\",\"Government Operations and Politics\",\"Science, Technology, Communications\",\"Armed Forces and National Security\",\"Armed Forces and National Security\",\"Armed Forces and National Security\",\"Public Lands and Natural Resources\",\"Public Lands and Natural Resources\",\"Health\",\"Crime and Law Enforcement\",\"Government Operations and Politics\",\"Government Operations and Politics\",\"Crime and Law Enforcement\",\"Health\",\"Education\",\"Education\",\"Finance and Financial Sector\",\"Health\",\"Government Operations and Politics\",\"Emergency Management\",\"Native Americans\",\"Native Americans\",\"Foreign Trade and International Finance\",\"Crime and Law Enforcement\",\"Crime and Law Enforcement\",\"Transportation and Public Works\",\"International Affairs\",\"Armed Forces and National Security\",\"Public Lands and Natural Resources\",\"Armed Forces and National Security\",\"Finance and Financial Sector\",\"Health\",\"International Affairs\",\"Public Lands and Natural Resources\",\"Native Americans\",\"Government Operations and Politics\",\"Families\",\"Armed Forces and National Security\",\"Armed Forces and National Security\",\"Government Operations and Politics\",\"Education\",\"Energy\",\"Law\",\"Health\",\"Energy\",\"International Affairs\",\"Education\",\"Economics and Public Finance\",\"Economics and Public Finance\",\"Armed Forces and National Security\",\"Government Operations and Politics\",\"Finance and Financial Sector\",\"Law\",\"Government Operations and Politics\",\"Government Operations and Politics\",\"Government Operations and Politics\",\"Armed Forces and National Security\",\"Government Operations and Politics\",\"Government Operations and Politics\",\"Government Operations and Politics\",\"Government Operations and Politics\",\"Government Operations and Politics\",\"Public Lands and Natural Resources\",\"Public Lands and Natural Resources\",\"Government Operations and Politics\",\"Congress\",\"Finance and Financial Sector\",\"Emergency Management\",\"Public Lands and Natural Resources\",\"Civil Rights and Liberties, Minority Issues\",\"Government Operations and Politics\",\"Government Operations and Politics\",\"Government Operations and Politics\",\"Armed Forces and National Security\",\"Armed Forces and National Security\",\"Armed Forces and National Security\",\"Native Americans\",\"Economics and Public Finance\",\"Economics and Public Finance\",\"Native Americans\",\"International Affairs\",\"Crime and Law Enforcement\",\"Crime and Law Enforcement\",\"Transportation and Public Works\",\"Transportation and Public Works\",\"Economics and Public Finance\",\"Crime and Law Enforcement\",\"Law\",\"Armed Forces and National Security\",\"Public Lands and Natural Resources\",\"Armed Forces and National Security\",\"Armed Forces and National Security\",\"Crime and Law Enforcement\",\"Health\",\"Crime and Law Enforcement\",\"Transportation and Public Works\",\"Science, Technology, Communications\",\"Armed Forces and National Security\",\"Health\",\"Armed Forces and National Security\",\"Congress\",\"Public Lands and Natural Resources\",\"Government Operations and Politics\",\"Armed Forces and National Security\",\"Government Operations and Politics\",\"Government Operations and Politics\",\"Crime and Law Enforcement\",\"Health\",\"Armed Forces and National Security\",\"Crime and Law Enforcement\",\"Economics and Public Finance\",\"Economics and Public Finance\",\"Government Operations and Politics\",\"Transportation and Public Works\",\"Transportation and Public Works\",\"Health\",\"Armed Forces and National Security\",\"Commerce\",\"Law\",\"International Affairs\",\"International Affairs\",\"Armed Forces and National Security\",\"Crime and Law Enforcement\",\"Crime and Law Enforcement\",\"Immigration\",\"Economics and Public Finance\",\"Law\",\"Crime and Law Enforcement\",\"International Affairs\",\"Health\",\"Armed Forces and National Security\",\"Health\",\"Government Operations and Politics\",\"Government Operations and Politics\",\"International Affairs\",\"Emergency Management\",\"Environmental Protection\",\"Science, Technology, Communications\",\"Public Lands and Natural Resources\",\"Armed Forces and National Security\",\"Energy\",\"Housing and Community Development\",\"Armed Forces and National Security\",\"Crime and Law Enforcement\",\"Crime and Law Enforcement\",\"Emergency Management\",\"Labor and Employment\",\"Commerce\",\"Armed Forces and National Security\",\"Science, Technology, Communications\",\"Government Operations and Politics\",\"Finance and Financial Sector\",\"Government Operations and Politics\",\"International Affairs\",\"Health\",\"Finance and Financial Sector\",\"Government Operations and Politics\",\"Government Operations and Politics\",\"Government Operations and Politics\",\"Sports and Recreation\",\"International Affairs\",\"Economics and Public Finance\",\"Economics and Public Finance\",\"Health\",\"Government Operations and Politics\",\"Government Operations and Politics\",\"Armed Forces and National Security\",\"Armed Forces and National Security\",\"Economics and Public Finance\",\"Armed Forces and National Security\",\"Education\",\"International Affairs\",\"Finance and Financial Sector\",\"Armed Forces and National Security\",\"Public Lands and Natural Resources\",\"International Affairs\",\"Public Lands and Natural Resources\",\"Health\",\"Environmental Protection\",\"Government Operations and Politics\",\"Water Resources Development\",\"Water Resources Development\",\"Government Operations and Politics\",\"Health\",\"International Affairs\",\"Public Lands and Natural Resources\",\"Health\",\"Agriculture and Food\",\"Armed Forces and National Security\",\"Armed Forces and National Security\",\"Armed Forces and National Security\",\"Agriculture and Food\",\"Energy\",\"Government Operations and Politics\",\"Foreign Trade and International Finance\",\"Foreign Trade and International Finance\",\"Armed Forces and National Security\",\"Government Operations and Politics\",\"Crime and Law Enforcement\",\"Finance and Financial Sector\",\"Emergency Management\",\"Civil Rights and Liberties, Minority Issues\",\"Crime and Law Enforcement\",\"Government Operations and Politics\",\"Armed Forces and National Security\",\"International Affairs\",\"International Affairs\",\"Government Operations and Politics\",\"Armed Forces and National Security\",\"Armed Forces and National Security\",\"Crime and Law Enforcement\",\"Government Operations and Politics\",\"Immigration\",\"Government Operations and Politics\",\"Government Operations and Politics\",\"Armed Forces and National Security\",\"Government Operations and Politics\",\"Commerce\",\"International Affairs\",\"Economics and Public Finance\",\"International Affairs\",\"Government Operations and Politics\",\"Public Lands and Natural Resources\",\"Public Lands and Natural Resources\",\"Armed Forces and National Security\",\"Energy\",\"Government Operations and Politics\",\"Government Operations and Politics\",\"Government Operations and Politics\",\"Sports and Recreation\",\"Government Operations and Politics\",\"Armed Forces and National Security\",\"Armed Forces and National Security\",\"Finance and Financial Sector\",\"Science, Technology, Communications\",\"Labor and Employment\",\"Armed Forces and National Security\",\"Armed Forces and National Security\",\"Armed Forces and National Security\",\"Government Operations and Politics\",\"Crime and Law Enforcement\",\"Armed Forces and National Security\",\"Health\",\"Finance and Financial Sector\",\"Health\",\"Armed Forces and National Security\",\"International Affairs\",\"Government Operations and Politics\",\"Government Operations and Politics\",\"Health\",\"Health\",\"Economics and Public Finance\",\"Science, Technology, Communications\",\"Emergency Management\",\"Public Lands and Natural Resources\",\"Public Lands and Natural Resources\",\"Transportation and Public Works\",\"Finance and Financial Sector\",\"Emergency Management\",\"Armed Forces and National Security\",\"Armed Forces and National Security\",\"Armed Forces and National Security\",\"Government Operations and Politics\",\"Health\",\"Health\",\"Commerce\",\"Public Lands and Natural Resources\",\"Crime and Law Enforcement\",\"Transportation and Public Works\",\"Sports and Recreation\",\"Science, Technology, Communications\",\"Government Operations and Politics\",\"Government Operations and Politics\",\"Commerce\",\"Families\",\"Armed Forces and National Security\",\"Government Operations and Politics\",\"International Affairs\",\"Transportation and Public Works\",\"International Affairs\",\"International Affairs\",\"Crime and Law Enforcement\",\"Finance and Financial Sector\",\"Armed Forces and National Security\",\"International Affairs\",\"Armed Forces and National Security\",\"Government Operations and Politics\",\"Government Operations and Politics\",\"Government Operations and Politics\",\"Science, Technology, Communications\",\"Armed Forces and National Security\",\"Finance and Financial Sector\",\"Finance and Financial Sector\",\"Social Welfare\",\"Crime and Law Enforcement\",\"Education\",\"Crime and Law Enforcement\",\"Government Operations and Politics\",\"Government Operations and Politics\",\"Science, Technology, Communications\",\"Civil Rights and Liberties, Minority Issues\",\"Health\",\"Government Operations and Politics\",\"Water Resources Development\",\"Health\",\"Government Operations and Politics\",\"Government Operations and Politics\",\"Public Lands and Natural Resources\",\"Economics and Public Finance\",\"Law\",\"Government Operations and Politics\",\"Armed Forces and National Security\",\"Crime and Law Enforcement\",\"Government Operations and Politics\",\"Finance and Financial Sector\",\"Public Lands and Natural Resources\",\"Animals\",\"Armed Forces and National Security\",\"Government Operations and Politics\",\"Armed Forces and National Security\",\"Taxation\",\"Science, Technology, Communications\",\"Immigration\",\"Crime and Law Enforcement\",\"Commerce\",\"Government Operations and Politics\",\"Government Operations and Politics\",\"Civil Rights and Liberties, Minority Issues\",\"Science, Technology, Communications\",\"Crime and Law Enforcement\",\"Government Operations and Politics\",\"Government Operations and Politics\",\"Government Operations and Politics\",\"Government Operations and Politics\",\"Armed Forces and National Security\",\"Government Operations and Politics\",\"Congress\",\"Congress\",\"Government Operations and Politics\",\"Transportation and Public Works\",\"International Affairs\",\"Public Lands and Natural Resources\",\"Health\",\"Government Operations and Politics\",\"Government Operations and Politics\",\"Congress\",\"Congress\",\"Finance and Financial Sector\",\"Government Operations and Politics\",\"Finance and Financial Sector\",\"Crime and Law Enforcement\",\"Government Operations and Politics\",\"Congress\",\"Government Operations and Politics\",\"International Affairs\",\"Public Lands and Natural Resources\",\"Crime and Law Enforcement\",\"Crime and Law Enforcement\",\"Crime and Law Enforcement\",\"International Affairs\",\"Government Operations and Politics\",\"Armed Forces and National Security\",\"Congress\",\"Science, Technology, Communications\",\"Transportation and Public Works\",\"Environmental Protection\",\"Immigration\",\"Armed Forces and National Security\",\"Armed Forces and National Security\",\"Emergency Management\",\"Government Operations and Politics\",\"Government Operations and Politics\",\"International Affairs\",\"Public Lands and Natural Resources\",\"Government Operations and Politics\",\"Public Lands and Natural Resources\",\"Armed Forces and National Security\",\"Armed Forces and National Security\",\"Armed Forces and National Security\",\"Armed Forces and National Security\",\"Environmental Protection\",\"Environmental Protection\",\"International Affairs\",\"Arts, Culture, Religion\",\"Armed Forces and National Security\",\"Arts, Culture, Religion\",\"Health\",\"Government Operations and Politics\",\"Armed Forces and National Security\",\"Government Operations and Politics\",\"Transportation and Public Works\",\"Armed Forces and National Security\",\"Sports and Recreation\",\"Crime and Law Enforcement\",\"Government Operations and Politics\",\"Armed Forces and National Security\",\"Government Operations and Politics\",\"Armed Forces and National Security\",\"Government Operations and Politics\",\"Armed Forces and National Security\",\"Armed Forces and National Security\",\"Government Operations and Politics\",\"Crime and Law Enforcement\",\"Public Lands and Natural Resources\",\"Government Operations and Politics\",\"International Affairs\",\"Congress\",\"Water Resources Development\",\"Health\",\"Armed Forces and National Security\",\"Armed Forces and National Security\",\"Government Operations and Politics\",\"Taxation\",\"Taxation\",\"Health\",\"Government Operations and Politics\",\"Government Operations and Politics\",\"Economics and Public Finance\",\"Government Operations and Politics\",\"Government Operations and Politics\",\"International Affairs\",\"Science, Technology, Communications\",\"Armed Forces and National Security\",\"Armed Forces and National Security\",\"Government Operations and Politics\",\"Government Operations and Politics\",\"Public Lands and Natural Resources\",\"Government Operations and Politics\",\"Law\",\"Science, Technology, Communications\",\"Environmental Protection\",\"Native Americans\",\"Government Operations and Politics\",\"Government Operations and Politics\",\"Environmental Protection\",\"Armed Forces and National Security\",\"Commerce\",\"Armed Forces and National Security\",\"Social Welfare\",\"Finance and Financial Sector\",\"Commerce\",\"Commerce\",\"Labor and Employment\",\"Government Operations and Politics\",\"Emergency Management\",\"Government Operations and Politics\",\"Government Operations and Politics\",\"Armed Forces and National Security\",\"Government Operations and Politics\",\"Armed Forces and National Security\",\"Government Operations and Politics\",\"Emergency Management\",\"Labor and Employment\",\"Emergency Management\",\"Science, Technology, Communications\",\"Crime and Law Enforcement\",\"Government Operations and Politics\",\"Armed Forces and National Security\",\"Armed Forces and National Security\",\"Armed Forces and National Security\",\"Government Operations and Politics\",\"Foreign Trade and International Finance\",\"Government Operations and Politics\",\"Social Welfare\",\"Taxation\",\"Armed Forces and National Security\",\"Economics and Public Finance\",\"Government Operations and Politics\",\"Government Operations and Politics\",\"Emergency Management\",\"Government Operations and Politics\",\"Law\",\"Government Operations and Politics\",\"International Affairs\",\"Public Lands and Natural Resources\",\"Armed Forces and National Security\",\"Social Welfare\",\"Taxation\",\"Government Operations and Politics\",\"Armed Forces and National Security\",\"Government Operations and Politics\",\"Emergency Management\",\"Government Operations and Politics\",\"Government Operations and Politics\",\"Government Operations and Politics\",\"International Affairs\",\"Health\",\"Crime and Law Enforcement\",\"Government Operations and Politics\",\"Government Operations and Politics\",\"Government Operations and Politics\",\"Commerce\",\"Crime and Law Enforcement\",\"Transportation and Public Works\",\"Armed Forces and National Security\",\"Commerce\",\"Government Operations and Politics\",\"Government Operations and Politics\",\"Government Operations and Politics\",\"Immigration\",\"International Affairs\",\"Government Operations and Politics\",\"Public Lands and Natural Resources\",\"Crime and Law Enforcement\",\"Government Operations and Politics\",\"Commerce\",\"Government Operations and Politics\",\"Commerce\",\"Armed Forces and National Security\",\"Government Operations and Politics\",\"Armed Forces and National Security\",\"Transportation and Public Works\",\"Government Operations and Politics\",\"Armed Forces and National Security\",\"Government Operations and Politics\",\"Government Operations and Politics\",\"Government Operations and Politics\",\"Government Operations and Politics\",\"Government Operations and Politics\",\"Armed Forces and National Security\",\"Government Operations and Politics\",\"Finance and Financial Sector\",\"Science, Technology, Communications\",\"Armed Forces and National Security\",\"Government Operations and Politics\",\"Government Operations and Politics\",\"Crime and Law Enforcement\",\"Social Welfare\",\"Government Operations and Politics\",\"Public Lands and Natural Resources\",\"Armed Forces and National Security\",\"Government Operations and Politics\",\"Government Operations and Politics\",\"Government Operations and Politics\",\"Immigration\",\"Crime and Law Enforcement\",\"Armed Forces and National Security\",\"Economics and Public Finance\",\"Government Operations and Politics\",\"Commerce\",\"Government Operations and Politics\",\"Government Operations and Politics\",\"Government Operations and Politics\",\"Taxation\",\"Economics and Public Finance\",\"Government Operations and Politics\",\"Health\",\"Government Operations and Politics\",\"Government Operations and Politics\",\"Transportation and Public Works\",\"Government Operations and Politics\",\"Public Lands and Natural Resources\",\"Public Lands and Natural Resources\",\"Public Lands and Natural Resources\",\"Government Operations and Politics\",\"Government Operations and Politics\",\"Science, Technology, Communications\",\"Armed Forces and National Security\",\"Armed Forces and National Security\",\"Health\",\"Government Operations and Politics\",\"Government Operations and Politics\",\"Public Lands and Natural Resources\",\"Health\",\"Armed Forces and National Security\",\"Immigration\",\"Transportation and Public Works\",\"Government Operations and Politics\",\"Armed Forces and National Security\",\"Government Operations and Politics\",\"Transportation and Public Works\",\"Government Operations and Politics\",\"Public Lands and Natural Resources\",\"Government Operations and Politics\",\"Government Operations and Politics\",\"Government Operations and Politics\",\"Public Lands and Natural Resources\",\"Government Operations and Politics\",\"Government Operations and Politics\",\"Government Operations and Politics\",\"Government Operations and Politics\",\"Government Operations and Politics\",\"Government Operations and Politics\",\"Government Operations and Politics\",\"Government Operations and Politics\",\"Government Operations and Politics\",\"Government Operations and Politics\",\"Health\",\"Government Operations and Politics\",\"Health\",\"Crime and Law Enforcement\",\"Government Operations and Politics\",\"Economics and Public Finance\",\"Native Americans\",\"Government Operations and Politics\",\"Government Operations and Politics\",\"Government Operations and Politics\",\"Armed Forces and National Security\",\"Finance and Financial Sector\",\"Government Operations and Politics\",\"Government Operations and Politics\",\"Science, Technology, Communications\",\"Native Americans\",\"International Affairs\",\"Public Lands and Natural Resources\",\"Armed Forces and National Security\",\"Commerce\",\"Government Operations and Politics\",\"Finance and Financial Sector\",\"Finance and Financial Sector\",\"Government Operations and Politics\",\"Transportation and Public Works\",\"Government Operations and Politics\",\"Government Operations and Politics\",\"Commerce\",\"Government Operations and Politics\",\"Native Americans\",\"Government Operations and Politics\",\"Public Lands and Natural Resources\",\"Health\",\"Economics and Public Finance\",\"Government Operations and Politics\",\"Government Operations and Politics\",\"International Affairs\",\"Government Operations and Politics\",\"Commerce\",\"Government Operations and Politics\",\"Government Operations and Politics\",\"Economics and Public Finance\",\"Congress\",\"Government Operations and Politics\",\"Crime and Law Enforcement\",\"International Affairs\",\"Government Operations and Politics\",\"Crime and Law Enforcement\",\"Crime and Law Enforcement\",\"Foreign Trade and International Finance\",\"Commerce\",\"Government Operations and Politics\",\"Armed Forces and National Security\",\"Foreign Trade and International Finance\",\"Government Operations and Politics\",\"Government Operations and Politics\",\"Government Operations and Politics\",\"Commerce\",\"Environmental Protection\",\"Emergency Management\",\"Armed Forces and National Security\",\"Commerce\",\"International Affairs\",\"Public Lands and Natural Resources\",\"Armed Forces and National Security\",\"Government Operations and Politics\",\"International Affairs\",\"Armed Forces and National Security\",\"Agriculture and Food\",\"Government Operations and Politics\",\"Armed Forces and National Security\",\"Health\",\"Armed Forces and National Security\",\"Armed Forces and National Security\",\"Economics and Public Finance\",\"Foreign Trade and International Finance\",\"Civil Rights and Liberties, Minority Issues\",\"Education\",\"Government Operations and Politics\",\"Armed Forces and National Security\",\"Emergency Management\",\"Economics and Public Finance\",\"Health\",\"Foreign Trade and International Finance\"]],[\"session\",[115,115,115,117,117,117,116,117,117,116,115,116,117,115,115,115,115,115,115,116,116,116,116,116,117,116,116,116,116,116,116,116,116,117,115,116,116,117,117,115,115,116,116,115,115,116,116,115,117,116,116,116,117,115,117,115,115,117,117,115,115,116,115,117,116,116,115,117,116,117,116,115,115,116,115,116,116,116,117,116,115,117,117,115,116,115,116,116,116,115,115,115,115,115,115,115,117,116,116,117,115,115,115,115,115,115,116,116,115,117,117,116,117,117,117,117,116,116,116,115,115,115,115,115,115,115,116,116,116,117,116,116,116,115,117,116,116,116,115,116,117,115,115,115,115,116,115,116,115,116,117,116,116,117,115,116,116,116,115,115,115,115,117,115,116,115,115,117,116,116,115,115,117,115,116,116,117,116,116,116,115,115,116,117,117,115,115,115,115,116,116,115,116,117,115,117,116,116,116,116,116,116,117,117,116,116,116,116,115,116,116,116,116,117,115,116,116,116,115,117,115,115,117,117,116,116,116,117,117,116,116,115,116,115,116,116,116,117,115,115,117,116,117,116,115,115,115,115,117,117,117,115,116,116,116,115,116,116,116,115,117,115,117,116,116,116,116,115,115,115,115,115,116,116,117,115,115,115,117,115,116,116,116,115,117,115,115,115,115,115,117,115,115,117,117,117,116,116,115,116,115,116,115,116,116,115,116,117,117,116,116,115,117,117,116,115,117,117,117,117,116,116,116,115,115,117,115,115,116,116,115,117,115,115,115,115,117,117,116,117,117,117,116,116,116,115,116,116,115,115,115,116,117,115,115,115,116,117,116,116,117,116,116,116,116,117,116,115,115,115,116,116,116,117,116,116,117,117,115,117,117,115,117,117,115,116,116,117,116,115,116,116,117,116,115,115,115,117,117,115,117,116,115,117,115,115,115,116,115,115,116,116,116,116,116,116,116,117,115,116,115,115,115,116,116,115,115,116,115,115,115,116,117,117,115,115,117,115,117,116,115,116,116,116,115,115,116,116,116,115,116,116,115,116,115,117,117,116,115,115,117,117,116,116,117,117,115,115,117,117,117,117,117,115,115,115,115,117,116,116,116,115,115,116,116,117,115,116,116,115,117,116,116,115,115,115,115,115,116,116,117,116,116,116,115,117,116,116,115,116,115,117,116,115,115,115,115,116,116,117,117,116,117,115,115,117,115,115,116,116,116,117,117,115,117,115,115,116,116,116,116,115,115,115,115,115,117,117,115,116,116,117,116,116,116,117,115,116,116,116,116,116,117,116,115,116,115,117,117,115,115,117,117,115,115,116,116,116,116,117,117,115,115,116,116,116,117,115,116,116,115,115,117,117,117,115,117,117,115,117,117,116,116,116,117,116,115,117,115,116,117,116,116,117,115,116,115,116,115,116,115,115,115,115,115,116,116,116,116,115,117,117,115,115,117,117,115,116,115,115,117,115,116,115,117,116,116,117,116,116,115,116,117,116,116,117,117,117,116,116,116,117,116,115,115,116,116,116,116,115,115,115,115,116,117,117,116,115,115,117,115,117,115,117,115,115,115,116,115,117,115,115,116,116,115,117,117,115,115,116,116,115,116,116,116,116,116,116,116,116,115,115,115,115,116,117,115,117,115,115,116,115,115,115,115,116,116,116,116,117,117,117,116,117,116,116,115,117,117,117,117,115,116,115,117,116,117,117,116,117,116,116,115,116,117,116,115,115,115,117,117,117,117,117,115,115,115,115,117,115,117,117,116,117,116,117,115,115,117,115,117,115,115,115,115,117,117,115,116,115,116,115,117,117,117,115,117,115,115,116,117,115,117,115,115,117,115,116,117,115,115,115,117,117,116,116,115,115,115,115,115,115,117,115,117,115,117,115,116,115,117,115,115,115,115,115,115,115,117,115,115,115,117,115,117,115,117,116,117,117,117,115,115,115,117,116,115,117,117,116,117,117,117,117,117,117,117,117,117,116,116,116,117,117,116,117,117,117,116,117,117]],[\"cluster\",[\"-1_sec_funds_act_provides\",\"-1_sec_funds_act_provides\",\"4_shall_faa_sec_tsa\",\"-1_sec_funds_act_provides\",\"-1_sec_funds_act_provides\",\"-1_sec_funds_act_provides\",\"-1_sec_funds_act_provides\",\"-1_sec_funds_act_provides\",\"17_regent_regents_smithsonian_citizen\",\"2_sec_section_funds_division\",\"17_regent_regents_smithsonian_citizen\",\"2_sec_section_funds_division\",\"2_sec_section_funds_division\",\"5_land_interior_tribe_national\",\"5_land_interior_tribe_national\",\"17_regent_regents_smithsonian_citizen\",\"-1_sec_funds_act_provides\",\"4_shall_faa_sec_tsa\",\"5_land_interior_tribe_national\",\"5_land_interior_tribe_national\",\"7_clinic_affairs_veterans_designates\",\"7_clinic_affairs_veterans_designates\",\"7_clinic_affairs_veterans_designates\",\"5_land_interior_tribe_national\",\"14_trafficking_human_victims_abuse\",\"10_memorial_commemorative_national_establishment\",\"10_memorial_commemorative_national_establishment\",\"17_regent_regents_smithsonian_citizen\",\"17_regent_regents_smithsonian_citizen\",\"17_regent_regents_smithsonian_citizen\",\"17_regent_regents_smithsonian_citizen\",\"17_regent_regents_smithsonian_citizen\",\"17_regent_regents_smithsonian_citizen\",\"2_sec_section_funds_division\",\"-1_sec_funds_act_provides\",\"17_regent_regents_smithsonian_citizen\",\"17_regent_regents_smithsonian_citizen\",\"0_postal_post_designates_located\",\"0_postal_post_designates_located\",\"3_information_agency_data_shall\",\"-1_sec_funds_act_provides\",\"2_sec_section_funds_division\",\"2_sec_section_funds_division\",\"1_va_veterans_care_veteran\",\"-1_sec_funds_act_provides\",\"2_sec_section_funds_division\",\"14_trafficking_human_victims_abuse\",\"3_information_agency_data_shall\",\"5_land_interior_tribe_national\",\"3_information_agency_data_shall\",\"3_information_agency_data_shall\",\"15_science_stem_cnmi_nsf\",\"13_drug_fda_generic_drugs\",\"10_memorial_commemorative_national_establishment\",\"-1_sec_funds_act_provides\",\"9_justice_dna_elder_doj\",\"3_information_agency_data_shall\",\"4_shall_faa_sec_tsa\",\"4_shall_faa_sec_tsa\",\"-1_sec_funds_act_provides\",\"3_information_agency_data_shall\",\"5_land_interior_tribe_national\",\"13_drug_fda_generic_drugs\",\"0_postal_post_designates_located\",\"5_land_interior_tribe_national\",\"5_land_interior_tribe_national\",\"-1_sec_funds_act_provides\",\"8_sanctions_president_hong_kong\",\"9_justice_dna_elder_doj\",\"0_postal_post_designates_located\",\"16_coins_coin_treasury_issue\",\"-1_sec_funds_act_provides\",\"5_land_interior_tribe_national\",\"2_sec_section_funds_division\",\"15_science_stem_cnmi_nsf\",\"-1_sec_funds_act_provides\",\"4_shall_faa_sec_tsa\",\"-1_sec_funds_act_provides\",\"0_postal_post_designates_located\",\"12_loan_small_act_billion\",\"-1_sec_funds_act_provides\",\"5_land_interior_tribe_national\",\"3_information_agency_data_shall\",\"6_noaa_weather_marine_debris\",\"1_va_veterans_care_veteran\",\"-1_sec_funds_act_provides\",\"5_land_interior_tribe_national\",\"5_land_interior_tribe_national\",\"1_va_veterans_care_veteran\",\"4_shall_faa_sec_tsa\",\"-1_sec_funds_act_provides\",\"1_va_veterans_care_veteran\",\"4_shall_faa_sec_tsa\",\"15_science_stem_cnmi_nsf\",\"15_science_stem_cnmi_nsf\",\"1_va_veterans_care_veteran\",\"5_land_interior_tribe_national\",\"1_va_veterans_care_veteran\",\"1_va_veterans_care_veteran\",\"-1_sec_funds_act_provides\",\"15_science_stem_cnmi_nsf\",\"6_noaa_weather_marine_debris\",\"-1_sec_funds_act_provides\",\"8_sanctions_president_hong_kong\",\"8_sanctions_president_hong_kong\",\"6_noaa_weather_marine_debris\",\"3_information_agency_data_shall\",\"3_information_agency_data_shall\",\"5_land_interior_tribe_national\",\"0_postal_post_designates_located\",\"0_postal_post_designates_located\",\"3_information_agency_data_shall\",\"0_postal_post_designates_located\",\"-1_sec_funds_act_provides\",\"13_drug_fda_generic_drugs\",\"-1_sec_funds_act_provides\",\"2_sec_section_funds_division\",\"5_land_interior_tribe_national\",\"2_sec_section_funds_division\",\"5_land_interior_tribe_national\",\"-1_sec_funds_act_provides\",\"2_sec_section_funds_division\",\"-1_sec_funds_act_provides\",\"-1_sec_funds_act_provides\",\"0_postal_post_designates_located\",\"0_postal_post_designates_located\",\"16_coins_coin_treasury_issue\",\"-1_sec_funds_act_provides\",\"10_memorial_commemorative_national_establishment\",\"-1_sec_funds_act_provides\",\"13_drug_fda_generic_drugs\",\"-1_sec_funds_act_provides\",\"-1_sec_funds_act_provides\",\"6_noaa_weather_marine_debris\",\"6_noaa_weather_marine_debris\",\"1_va_veterans_care_veteran\",\"1_va_veterans_care_veteran\",\"1_va_veterans_care_veteran\",\"9_justice_dna_elder_doj\",\"-1_sec_funds_act_provides\",\"6_noaa_weather_marine_debris\",\"-1_sec_funds_act_provides\",\"14_trafficking_human_victims_abuse\",\"14_trafficking_human_victims_abuse\",\"8_sanctions_president_hong_kong\",\"0_postal_post_designates_located\",\"1_va_veterans_care_veteran\",\"15_science_stem_cnmi_nsf\",\"6_noaa_weather_marine_debris\",\"1_va_veterans_care_veteran\",\"0_postal_post_designates_located\",\"-1_sec_funds_act_provides\",\"-1_sec_funds_act_provides\",\"-1_sec_funds_act_provides\",\"3_information_agency_data_shall\",\"-1_sec_funds_act_provides\",\"-1_sec_funds_act_provides\",\"-1_sec_funds_act_provides\",\"-1_sec_funds_act_provides\",\"-1_sec_funds_act_provides\",\"0_postal_post_designates_located\",\"7_clinic_affairs_veterans_designates\",\"-1_sec_funds_act_provides\",\"-1_sec_funds_act_provides\",\"2_sec_section_funds_division\",\"4_shall_faa_sec_tsa\",\"3_information_agency_data_shall\",\"-1_sec_funds_act_provides\",\"-1_sec_funds_act_provides\",\"-1_sec_funds_act_provides\",\"5_land_interior_tribe_national\",\"5_land_interior_tribe_national\",\"1_va_veterans_care_veteran\",\"9_justice_dna_elder_doj\",\"14_trafficking_human_victims_abuse\",\"0_postal_post_designates_located\",\"0_postal_post_designates_located\",\"15_science_stem_cnmi_nsf\",\"11_medal_gold_congressional_world\",\"13_drug_fda_generic_drugs\",\"11_medal_gold_congressional_world\",\"-1_sec_funds_act_provides\",\"1_va_veterans_care_veteran\",\"0_postal_post_designates_located\",\"0_postal_post_designates_located\",\"-1_sec_funds_act_provides\",\"3_information_agency_data_shall\",\"-1_sec_funds_act_provides\",\"-1_sec_funds_act_provides\",\"4_shall_faa_sec_tsa\",\"9_justice_dna_elder_doj\",\"3_information_agency_data_shall\",\"1_va_veterans_care_veteran\",\"1_va_veterans_care_veteran\",\"-1_sec_funds_act_provides\",\"8_sanctions_president_hong_kong\",\"0_postal_post_designates_located\",\"0_postal_post_designates_located\",\"6_noaa_weather_marine_debris\",\"6_noaa_weather_marine_debris\",\"5_land_interior_tribe_national\",\"14_trafficking_human_victims_abuse\",\"-1_sec_funds_act_provides\",\"13_drug_fda_generic_drugs\",\"12_loan_small_act_billion\",\"1_va_veterans_care_veteran\",\"1_va_veterans_care_veteran\",\"-1_sec_funds_act_provides\",\"10_memorial_commemorative_national_establishment\",\"6_noaa_weather_marine_debris\",\"1_va_veterans_care_veteran\",\"0_postal_post_designates_located\",\"3_information_agency_data_shall\",\"1_va_veterans_care_veteran\",\"1_va_veterans_care_veteran\",\"7_clinic_affairs_veterans_designates\",\"6_noaa_weather_marine_debris\",\"6_noaa_weather_marine_debris\",\"4_shall_faa_sec_tsa\",\"-1_sec_funds_act_provides\",\"0_postal_post_designates_located\",\"0_postal_post_designates_located\",\"9_justice_dna_elder_doj\",\"4_shall_faa_sec_tsa\",\"-1_sec_funds_act_provides\",\"10_memorial_commemorative_national_establishment\",\"8_sanctions_president_hong_kong\",\"4_shall_faa_sec_tsa\",\"0_postal_post_designates_located\",\"2_sec_section_funds_division\",\"9_justice_dna_elder_doj\",\"5_land_interior_tribe_national\",\"2_sec_section_funds_division\",\"-1_sec_funds_act_provides\",\"4_shall_faa_sec_tsa\",\"-1_sec_funds_act_provides\",\"-1_sec_funds_act_provides\",\"1_va_veterans_care_veteran\",\"10_memorial_commemorative_national_establishment\",\"11_medal_gold_congressional_world\",\"16_coins_coin_treasury_issue\",\"4_shall_faa_sec_tsa\",\"8_sanctions_president_hong_kong\",\"6_noaa_weather_marine_debris\",\"5_land_interior_tribe_national\",\"-1_sec_funds_act_provides\",\"4_shall_faa_sec_tsa\",\"1_va_veterans_care_veteran\",\"1_va_veterans_care_veteran\",\"3_information_agency_data_shall\",\"12_loan_small_act_billion\",\"-1_sec_funds_act_provides\",\"1_va_veterans_care_veteran\",\"4_shall_faa_sec_tsa\",\"1_va_veterans_care_veteran\",\"-1_sec_funds_act_provides\",\"-1_sec_funds_act_provides\",\"2_sec_section_funds_division\",\"2_sec_section_funds_division\",\"1_va_veterans_care_veteran\",\"0_postal_post_designates_located\",\"2_sec_section_funds_division\",\"-1_sec_funds_act_provides\",\"0_postal_post_designates_located\",\"0_postal_post_designates_located\",\"0_postal_post_designates_located\",\"1_va_veterans_care_veteran\",\"0_postal_post_designates_located\",\"0_postal_post_designates_located\",\"0_postal_post_designates_located\",\"0_postal_post_designates_located\",\"0_postal_post_designates_located\",\"2_sec_section_funds_division\",\"2_sec_section_funds_division\",\"0_postal_post_designates_located\",\"-1_sec_funds_act_provides\",\"16_coins_coin_treasury_issue\",\"-1_sec_funds_act_provides\",\"6_noaa_weather_marine_debris\",\"-1_sec_funds_act_provides\",\"0_postal_post_designates_located\",\"0_postal_post_designates_located\",\"0_postal_post_designates_located\",\"1_va_veterans_care_veteran\",\"7_clinic_affairs_veterans_designates\",\"7_clinic_affairs_veterans_designates\",\"5_land_interior_tribe_national\",\"2_sec_section_funds_division\",\"2_sec_section_funds_division\",\"5_land_interior_tribe_national\",\"-1_sec_funds_act_provides\",\"14_trafficking_human_victims_abuse\",\"14_trafficking_human_victims_abuse\",\"6_noaa_weather_marine_debris\",\"6_noaa_weather_marine_debris\",\"-1_sec_funds_act_provides\",\"3_information_agency_data_shall\",\"-1_sec_funds_act_provides\",\"1_va_veterans_care_veteran\",\"6_noaa_weather_marine_debris\",\"7_clinic_affairs_veterans_designates\",\"2_sec_section_funds_division\",\"2_sec_section_funds_division\",\"-1_sec_funds_act_provides\",\"-1_sec_funds_act_provides\",\"1_va_veterans_care_veteran\",\"11_medal_gold_congressional_world\",\"11_medal_gold_congressional_world\",\"-1_sec_funds_act_provides\",\"10_memorial_commemorative_national_establishment\",\"-1_sec_funds_act_provides\",\"5_land_interior_tribe_national\",\"0_postal_post_designates_located\",\"1_va_veterans_care_veteran\",\"0_postal_post_designates_located\",\"0_postal_post_designates_located\",\"9_justice_dna_elder_doj\",\"13_drug_fda_generic_drugs\",\"1_va_veterans_care_veteran\",\"4_shall_faa_sec_tsa\",\"2_sec_section_funds_division\",\"2_sec_section_funds_division\",\"0_postal_post_designates_located\",\"14_trafficking_human_victims_abuse\",\"14_trafficking_human_victims_abuse\",\"-1_sec_funds_act_provides\",\"1_va_veterans_care_veteran\",\"-1_sec_funds_act_provides\",\"-1_sec_funds_act_provides\",\"-1_sec_funds_act_provides\",\"8_sanctions_president_hong_kong\",\"-1_sec_funds_act_provides\",\"3_information_agency_data_shall\",\"3_information_agency_data_shall\",\"-1_sec_funds_act_provides\",\"2_sec_section_funds_division\",\"12_loan_small_act_billion\",\"-1_sec_funds_act_provides\",\"-1_sec_funds_act_provides\",\"4_shall_faa_sec_tsa\",\"10_memorial_commemorative_national_establishment\",\"4_shall_faa_sec_tsa\",\"3_information_agency_data_shall\",\"3_information_agency_data_shall\",\"8_sanctions_president_hong_kong\",\"2_sec_section_funds_division\",\"6_noaa_weather_marine_debris\",\"-1_sec_funds_act_provides\",\"5_land_interior_tribe_national\",\"1_va_veterans_care_veteran\",\"-1_sec_funds_act_provides\",\"1_va_veterans_care_veteran\",\"7_clinic_affairs_veterans_designates\",\"9_justice_dna_elder_doj\",\"9_justice_dna_elder_doj\",\"2_sec_section_funds_division\",\"11_medal_gold_congressional_world\",\"12_loan_small_act_billion\",\"1_va_veterans_care_veteran\",\"3_information_agency_data_shall\",\"4_shall_faa_sec_tsa\",\"16_coins_coin_treasury_issue\",\"0_postal_post_designates_located\",\"8_sanctions_president_hong_kong\",\"4_shall_faa_sec_tsa\",\"16_coins_coin_treasury_issue\",\"0_postal_post_designates_located\",\"0_postal_post_designates_located\",\"0_postal_post_designates_located\",\"11_medal_gold_congressional_world\",\"-1_sec_funds_act_provides\",\"2_sec_section_funds_division\",\"2_sec_section_funds_division\",\"-1_sec_funds_act_provides\",\"3_information_agency_data_shall\",\"-1_sec_funds_act_provides\",\"11_medal_gold_congressional_world\",\"11_medal_gold_congressional_world\",\"2_sec_section_funds_division\",\"1_va_veterans_care_veteran\",\"3_information_agency_data_shall\",\"8_sanctions_president_hong_kong\",\"16_coins_coin_treasury_issue\",\"7_clinic_affairs_veterans_designates\",\"5_land_interior_tribe_national\",\"-1_sec_funds_act_provides\",\"6_noaa_weather_marine_debris\",\"1_va_veterans_care_veteran\",\"6_noaa_weather_marine_debris\",\"0_postal_post_designates_located\",\"-1_sec_funds_act_provides\",\"-1_sec_funds_act_provides\",\"0_postal_post_designates_located\",\"4_shall_faa_sec_tsa\",\"8_sanctions_president_hong_kong\",\"5_land_interior_tribe_national\",\"4_shall_faa_sec_tsa\",\"-1_sec_funds_act_provides\",\"1_va_veterans_care_veteran\",\"11_medal_gold_congressional_world\",\"1_va_veterans_care_veteran\",\"-1_sec_funds_act_provides\",\"-1_sec_funds_act_provides\",\"0_postal_post_designates_located\",\"-1_sec_funds_act_provides\",\"-1_sec_funds_act_provides\",\"1_va_veterans_care_veteran\",\"0_postal_post_designates_located\",\"14_trafficking_human_victims_abuse\",\"12_loan_small_act_billion\",\"2_sec_section_funds_division\",\"1_va_veterans_care_veteran\",\"9_justice_dna_elder_doj\",\"-1_sec_funds_act_provides\",\"1_va_veterans_care_veteran\",\"14_trafficking_human_victims_abuse\",\"14_trafficking_human_victims_abuse\",\"3_information_agency_data_shall\",\"7_clinic_affairs_veterans_designates\",\"1_va_veterans_care_veteran\",\"9_justice_dna_elder_doj\",\"3_information_agency_data_shall\",\"15_science_stem_cnmi_nsf\",\"0_postal_post_designates_located\",\"0_postal_post_designates_located\",\"1_va_veterans_care_veteran\",\"0_postal_post_designates_located\",\"-1_sec_funds_act_provides\",\"8_sanctions_president_hong_kong\",\"2_sec_section_funds_division\",\"-1_sec_funds_act_provides\",\"3_information_agency_data_shall\",\"10_memorial_commemorative_national_establishment\",\"10_memorial_commemorative_national_establishment\",\"1_va_veterans_care_veteran\",\"-1_sec_funds_act_provides\",\"2_sec_section_funds_division\",\"0_postal_post_designates_located\",\"0_postal_post_designates_located\",\"14_trafficking_human_victims_abuse\",\"3_information_agency_data_shall\",\"-1_sec_funds_act_provides\",\"-1_sec_funds_act_provides\",\"12_loan_small_act_billion\",\"-1_sec_funds_act_provides\",\"-1_sec_funds_act_provides\",\"1_va_veterans_care_veteran\",\"1_va_veterans_care_veteran\",\"1_va_veterans_care_veteran\",\"0_postal_post_designates_located\",\"1_va_veterans_care_veteran\",\"1_va_veterans_care_veteran\",\"4_shall_faa_sec_tsa\",\"16_coins_coin_treasury_issue\",\"13_drug_fda_generic_drugs\",\"1_va_veterans_care_veteran\",\"8_sanctions_president_hong_kong\",\"0_postal_post_designates_located\",\"0_postal_post_designates_located\",\"4_shall_faa_sec_tsa\",\"4_shall_faa_sec_tsa\",\"2_sec_section_funds_division\",\"7_clinic_affairs_veterans_designates\",\"-1_sec_funds_act_provides\",\"-1_sec_funds_act_provides\",\"5_land_interior_tribe_national\",\"6_noaa_weather_marine_debris\",\"16_coins_coin_treasury_issue\",\"3_information_agency_data_shall\",\"1_va_veterans_care_veteran\",\"1_va_veterans_care_veteran\",\"1_va_veterans_care_veteran\",\"3_information_agency_data_shall\",\"13_drug_fda_generic_drugs\",\"13_drug_fda_generic_drugs\",\"-1_sec_funds_act_provides\",\"5_land_interior_tribe_national\",\"9_justice_dna_elder_doj\",\"-1_sec_funds_act_provides\",\"11_medal_gold_congressional_world\",\"-1_sec_funds_act_provides\",\"0_postal_post_designates_located\",\"0_postal_post_designates_located\",\"-1_sec_funds_act_provides\",\"9_justice_dna_elder_doj\",\"1_va_veterans_care_veteran\",\"0_postal_post_designates_located\",\"8_sanctions_president_hong_kong\",\"6_noaa_weather_marine_debris\",\"-1_sec_funds_act_provides\",\"-1_sec_funds_act_provides\",\"-1_sec_funds_act_provides\",\"-1_sec_funds_act_provides\",\"1_va_veterans_care_veteran\",\"-1_sec_funds_act_provides\",\"2_sec_section_funds_division\",\"0_postal_post_designates_located\",\"0_postal_post_designates_located\",\"9_justice_dna_elder_doj\",\"3_information_agency_data_shall\",\"1_va_veterans_care_veteran\",\"1_va_veterans_care_veteran\",\"1_va_veterans_care_veteran\",\"2_sec_section_funds_division\",\"8_sanctions_president_hong_kong\",\"2_sec_section_funds_division\",\"9_justice_dna_elder_doj\",\"0_postal_post_designates_located\",\"0_postal_post_designates_located\",\"2_sec_section_funds_division\",\"-1_sec_funds_act_provides\",\"4_shall_faa_sec_tsa\",\"0_postal_post_designates_located\",\"-1_sec_funds_act_provides\",\"4_shall_faa_sec_tsa\",\"-1_sec_funds_act_provides\",\"-1_sec_funds_act_provides\",\"-1_sec_funds_act_provides\",\"2_sec_section_funds_division\",\"3_information_agency_data_shall\",\"0_postal_post_designates_located\",\"1_va_veterans_care_veteran\",\"14_trafficking_human_victims_abuse\",\"0_postal_post_designates_located\",\"-1_sec_funds_act_provides\",\"-1_sec_funds_act_provides\",\"6_noaa_weather_marine_debris\",\"1_va_veterans_care_veteran\",\"0_postal_post_designates_located\",\"1_va_veterans_care_veteran\",\"-1_sec_funds_act_provides\",\"4_shall_faa_sec_tsa\",\"15_science_stem_cnmi_nsf\",\"3_information_agency_data_shall\",\"13_drug_fda_generic_drugs\",\"0_postal_post_designates_located\",\"0_postal_post_designates_located\",\"3_information_agency_data_shall\",\"7_clinic_affairs_veterans_designates\",\"-1_sec_funds_act_provides\",\"0_postal_post_designates_located\",\"0_postal_post_designates_located\",\"3_information_agency_data_shall\",\"3_information_agency_data_shall\",\"1_va_veterans_care_veteran\",\"0_postal_post_designates_located\",\"2_sec_section_funds_division\",\"2_sec_section_funds_division\",\"3_information_agency_data_shall\",\"-1_sec_funds_act_provides\",\"-1_sec_funds_act_provides\",\"5_land_interior_tribe_national\",\"4_shall_faa_sec_tsa\",\"0_postal_post_designates_located\",\"0_postal_post_designates_located\",\"10_memorial_commemorative_national_establishment\",\"-1_sec_funds_act_provides\",\"12_loan_small_act_billion\",\"0_postal_post_designates_located\",\"12_loan_small_act_billion\",\"-1_sec_funds_act_provides\",\"0_postal_post_designates_located\",\"11_medal_gold_congressional_world\",\"0_postal_post_designates_located\",\"8_sanctions_president_hong_kong\",\"10_memorial_commemorative_national_establishment\",\"9_justice_dna_elder_doj\",\"9_justice_dna_elder_doj\",\"9_justice_dna_elder_doj\",\"8_sanctions_president_hong_kong\",\"0_postal_post_designates_located\",\"1_va_veterans_care_veteran\",\"2_sec_section_funds_division\",\"7_clinic_affairs_veterans_designates\",\"15_science_stem_cnmi_nsf\",\"-1_sec_funds_act_provides\",\"2_sec_section_funds_division\",\"1_va_veterans_care_veteran\",\"1_va_veterans_care_veteran\",\"2_sec_section_funds_division\",\"0_postal_post_designates_located\",\"0_postal_post_designates_located\",\"-1_sec_funds_act_provides\",\"-1_sec_funds_act_provides\",\"0_postal_post_designates_located\",\"10_memorial_commemorative_national_establishment\",\"7_clinic_affairs_veterans_designates\",\"1_va_veterans_care_veteran\",\"1_va_veterans_care_veteran\",\"1_va_veterans_care_veteran\",\"6_noaa_weather_marine_debris\",\"6_noaa_weather_marine_debris\",\"-1_sec_funds_act_provides\",\"10_memorial_commemorative_national_establishment\",\"1_va_veterans_care_veteran\",\"-1_sec_funds_act_provides\",\"-1_sec_funds_act_provides\",\"0_postal_post_designates_located\",\"1_va_veterans_care_veteran\",\"0_postal_post_designates_located\",\"6_noaa_weather_marine_debris\",\"1_va_veterans_care_veteran\",\"11_medal_gold_congressional_world\",\"4_shall_faa_sec_tsa\",\"0_postal_post_designates_located\",\"1_va_veterans_care_veteran\",\"0_postal_post_designates_located\",\"11_medal_gold_congressional_world\",\"0_postal_post_designates_located\",\"10_memorial_commemorative_national_establishment\",\"7_clinic_affairs_veterans_designates\",\"0_postal_post_designates_located\",\"9_justice_dna_elder_doj\",\"2_sec_section_funds_division\",\"-1_sec_funds_act_provides\",\"8_sanctions_president_hong_kong\",\"-1_sec_funds_act_provides\",\"-1_sec_funds_act_provides\",\"4_shall_faa_sec_tsa\",\"1_va_veterans_care_veteran\",\"1_va_veterans_care_veteran\",\"0_postal_post_designates_located\",\"-1_sec_funds_act_provides\",\"-1_sec_funds_act_provides\",\"11_medal_gold_congressional_world\",\"0_postal_post_designates_located\",\"0_postal_post_designates_located\",\"2_sec_section_funds_division\",\"-1_sec_funds_act_provides\",\"0_postal_post_designates_located\",\"-1_sec_funds_act_provides\",\"3_information_agency_data_shall\",\"7_clinic_affairs_veterans_designates\",\"1_va_veterans_care_veteran\",\"1_va_veterans_care_veteran\",\"0_postal_post_designates_located\",\"6_noaa_weather_marine_debris\",\"-1_sec_funds_act_provides\",\"3_information_agency_data_shall\",\"10_memorial_commemorative_national_establishment\",\"6_noaa_weather_marine_debris\",\"5_land_interior_tribe_national\",\"0_postal_post_designates_located\",\"0_postal_post_designates_located\",\"6_noaa_weather_marine_debris\",\"7_clinic_affairs_veterans_designates\",\"-1_sec_funds_act_provides\",\"1_va_veterans_care_veteran\",\"2_sec_section_funds_division\",\"16_coins_coin_treasury_issue\",\"12_loan_small_act_billion\",\"12_loan_small_act_billion\",\"2_sec_section_funds_division\",\"0_postal_post_designates_located\",\"-1_sec_funds_act_provides\",\"-1_sec_funds_act_provides\",\"0_postal_post_designates_located\",\"7_clinic_affairs_veterans_designates\",\"3_information_agency_data_shall\",\"1_va_veterans_care_veteran\",\"0_postal_post_designates_located\",\"-1_sec_funds_act_provides\",\"-1_sec_funds_act_provides\",\"-1_sec_funds_act_provides\",\"15_science_stem_cnmi_nsf\",\"-1_sec_funds_act_provides\",\"0_postal_post_designates_located\",\"1_va_veterans_care_veteran\",\"1_va_veterans_care_veteran\",\"10_memorial_commemorative_national_establishment\",\"0_postal_post_designates_located\",\"2_sec_section_funds_division\",\"0_postal_post_designates_located\",\"4_shall_faa_sec_tsa\",\"-1_sec_funds_act_provides\",\"1_va_veterans_care_veteran\",\"2_sec_section_funds_division\",\"0_postal_post_designates_located\",\"0_postal_post_designates_located\",\"-1_sec_funds_act_provides\",\"1_va_veterans_care_veteran\",\"3_information_agency_data_shall\",\"0_postal_post_designates_located\",\"-1_sec_funds_act_provides\",\"6_noaa_weather_marine_debris\",\"7_clinic_affairs_veterans_designates\",\"4_shall_faa_sec_tsa\",\"1_va_veterans_care_veteran\",\"0_postal_post_designates_located\",\"1_va_veterans_care_veteran\",\"0_postal_post_designates_located\",\"2_sec_section_funds_division\",\"0_postal_post_designates_located\",\"0_postal_post_designates_located\",\"0_postal_post_designates_located\",\"-1_sec_funds_act_provides\",\"4_shall_faa_sec_tsa\",\"14_trafficking_human_victims_abuse\",\"0_postal_post_designates_located\",\"0_postal_post_designates_located\",\"0_postal_post_designates_located\",\"12_loan_small_act_billion\",\"-1_sec_funds_act_provides\",\"0_postal_post_designates_located\",\"1_va_veterans_care_veteran\",\"3_information_agency_data_shall\",\"0_postal_post_designates_located\",\"0_postal_post_designates_located\",\"0_postal_post_designates_located\",\"1_va_veterans_care_veteran\",\"-1_sec_funds_act_provides\",\"0_postal_post_designates_located\",\"10_memorial_commemorative_national_establishment\",\"9_justice_dna_elder_doj\",\"0_postal_post_designates_located\",\"-1_sec_funds_act_provides\",\"0_postal_post_designates_located\",\"-1_sec_funds_act_provides\",\"1_va_veterans_care_veteran\",\"0_postal_post_designates_located\",\"1_va_veterans_care_veteran\",\"3_information_agency_data_shall\",\"0_postal_post_designates_located\",\"1_va_veterans_care_veteran\",\"0_postal_post_designates_located\",\"0_postal_post_designates_located\",\"0_postal_post_designates_located\",\"0_postal_post_designates_located\",\"0_postal_post_designates_located\",\"7_clinic_affairs_veterans_designates\",\"0_postal_post_designates_located\",\"12_loan_small_act_billion\",\"3_information_agency_data_shall\",\"7_clinic_affairs_veterans_designates\",\"0_postal_post_designates_located\",\"0_postal_post_designates_located\",\"-1_sec_funds_act_provides\",\"2_sec_section_funds_division\",\"0_postal_post_designates_located\",\"6_noaa_weather_marine_debris\",\"11_medal_gold_congressional_world\",\"0_postal_post_designates_located\",\"3_information_agency_data_shall\",\"0_postal_post_designates_located\",\"-1_sec_funds_act_provides\",\"-1_sec_funds_act_provides\",\"1_va_veterans_care_veteran\",\"2_sec_section_funds_division\",\"0_postal_post_designates_located\",\"13_drug_fda_generic_drugs\",\"0_postal_post_designates_located\",\"0_postal_post_designates_located\",\"0_postal_post_designates_located\",\"-1_sec_funds_act_provides\",\"-1_sec_funds_act_provides\",\"0_postal_post_designates_located\",\"4_shall_faa_sec_tsa\",\"0_postal_post_designates_located\",\"0_postal_post_designates_located\",\"6_noaa_weather_marine_debris\",\"0_postal_post_designates_located\",\"5_land_interior_tribe_national\",\"5_land_interior_tribe_national\",\"5_land_interior_tribe_national\",\"0_postal_post_designates_located\",\"0_postal_post_designates_located\",\"15_science_stem_cnmi_nsf\",\"2_sec_section_funds_division\",\"15_science_stem_cnmi_nsf\",\"13_drug_fda_generic_drugs\",\"0_postal_post_designates_located\",\"0_postal_post_designates_located\",\"5_land_interior_tribe_national\",\"13_drug_fda_generic_drugs\",\"11_medal_gold_congressional_world\",\"-1_sec_funds_act_provides\",\"3_information_agency_data_shall\",\"0_postal_post_designates_located\",\"1_va_veterans_care_veteran\",\"3_information_agency_data_shall\",\"6_noaa_weather_marine_debris\",\"0_postal_post_designates_located\",\"6_noaa_weather_marine_debris\",\"0_postal_post_designates_located\",\"0_postal_post_designates_located\",\"0_postal_post_designates_located\",\"5_land_interior_tribe_national\",\"0_postal_post_designates_located\",\"3_information_agency_data_shall\",\"0_postal_post_designates_located\",\"0_postal_post_designates_located\",\"15_science_stem_cnmi_nsf\",\"0_postal_post_designates_located\",\"0_postal_post_designates_located\",\"0_postal_post_designates_located\",\"0_postal_post_designates_located\",\"-1_sec_funds_act_provides\",\"4_shall_faa_sec_tsa\",\"0_postal_post_designates_located\",\"2_sec_section_funds_division\",\"14_trafficking_human_victims_abuse\",\"0_postal_post_designates_located\",\"2_sec_section_funds_division\",\"5_land_interior_tribe_national\",\"1_va_veterans_care_veteran\",\"0_postal_post_designates_located\",\"0_postal_post_designates_located\",\"1_va_veterans_care_veteran\",\"16_coins_coin_treasury_issue\",\"0_postal_post_designates_located\",\"0_postal_post_designates_located\",\"-1_sec_funds_act_provides\",\"-1_sec_funds_act_provides\",\"8_sanctions_president_hong_kong\",\"10_memorial_commemorative_national_establishment\",\"1_va_veterans_care_veteran\",\"12_loan_small_act_billion\",\"0_postal_post_designates_located\",\"12_loan_small_act_billion\",\"12_loan_small_act_billion\",\"0_postal_post_designates_located\",\"-1_sec_funds_act_provides\",\"0_postal_post_designates_located\",\"0_postal_post_designates_located\",\"3_information_agency_data_shall\",\"0_postal_post_designates_located\",\"-1_sec_funds_act_provides\",\"0_postal_post_designates_located\",\"6_noaa_weather_marine_debris\",\"4_shall_faa_sec_tsa\",\"2_sec_section_funds_division\",\"0_postal_post_designates_located\",\"0_postal_post_designates_located\",\"2_sec_section_funds_division\",\"0_postal_post_designates_located\",\"15_science_stem_cnmi_nsf\",\"0_postal_post_designates_located\",\"0_postal_post_designates_located\",\"2_sec_section_funds_division\",\"-1_sec_funds_act_provides\",\"3_information_agency_data_shall\",\"-1_sec_funds_act_provides\",\"8_sanctions_president_hong_kong\",\"0_postal_post_designates_located\",\"4_shall_faa_sec_tsa\",\"9_justice_dna_elder_doj\",\"8_sanctions_president_hong_kong\",\"12_loan_small_act_billion\",\"0_postal_post_designates_located\",\"1_va_veterans_care_veteran\",\"8_sanctions_president_hong_kong\",\"-1_sec_funds_act_provides\",\"0_postal_post_designates_located\",\"0_postal_post_designates_located\",\"15_science_stem_cnmi_nsf\",\"-1_sec_funds_act_provides\",\"3_information_agency_data_shall\",\"7_clinic_affairs_veterans_designates\",\"12_loan_small_act_billion\",\"8_sanctions_president_hong_kong\",\"-1_sec_funds_act_provides\",\"1_va_veterans_care_veteran\",\"0_postal_post_designates_located\",\"2_sec_section_funds_division\",\"7_clinic_affairs_veterans_designates\",\"13_drug_fda_generic_drugs\",\"0_postal_post_designates_located\",\"1_va_veterans_care_veteran\",\"3_information_agency_data_shall\",\"1_va_veterans_care_veteran\",\"11_medal_gold_congressional_world\",\"2_sec_section_funds_division\",\"13_drug_fda_generic_drugs\",\"9_justice_dna_elder_doj\",\"-1_sec_funds_act_provides\",\"0_postal_post_designates_located\",\"7_clinic_affairs_veterans_designates\",\"2_sec_section_funds_division\",\"-1_sec_funds_act_provides\",\"4_shall_faa_sec_tsa\",\"13_drug_fda_generic_drugs\"]]]}}},\"view\":{\"type\":\"object\",\"name\":\"CDSView\",\"id\":\"p1769\",\"attributes\":{\"filter\":{\"type\":\"object\",\"name\":\"AllIndices\",\"id\":\"p1770\"}}},\"glyph\":{\"type\":\"object\",\"name\":\"Circle\",\"id\":\"p1765\",\"attributes\":{\"x\":{\"type\":\"field\",\"field\":\"x\"},\"y\":{\"type\":\"field\",\"field\":\"y\"},\"line_color\":{\"type\":\"value\",\"value\":\"grey\"},\"line_alpha\":{\"type\":\"value\",\"value\":0.6},\"fill_color\":{\"type\":\"field\",\"field\":\"cosponsor_D_perc\",\"transform\":{\"type\":\"object\",\"name\":\"LinearColorMapper\",\"id\":\"p1720\",\"attributes\":{\"palette\":[\"#440154\",\"#440255\",\"#440357\",\"#450558\",\"#45065A\",\"#45085B\",\"#46095C\",\"#460B5E\",\"#460C5F\",\"#460E61\",\"#470F62\",\"#471163\",\"#471265\",\"#471466\",\"#471567\",\"#471669\",\"#47186A\",\"#48196B\",\"#481A6C\",\"#481C6E\",\"#481D6F\",\"#481E70\",\"#482071\",\"#482172\",\"#482273\",\"#482374\",\"#472575\",\"#472676\",\"#472777\",\"#472878\",\"#472A79\",\"#472B7A\",\"#472C7B\",\"#462D7C\",\"#462F7C\",\"#46307D\",\"#46317E\",\"#45327F\",\"#45347F\",\"#453580\",\"#453681\",\"#443781\",\"#443982\",\"#433A83\",\"#433B83\",\"#433C84\",\"#423D84\",\"#423E85\",\"#424085\",\"#414186\",\"#414286\",\"#404387\",\"#404487\",\"#3F4587\",\"#3F4788\",\"#3E4888\",\"#3E4989\",\"#3D4A89\",\"#3D4B89\",\"#3D4C89\",\"#3C4D8A\",\"#3C4E8A\",\"#3B508A\",\"#3B518A\",\"#3A528B\",\"#3A538B\",\"#39548B\",\"#39558B\",\"#38568B\",\"#38578C\",\"#37588C\",\"#37598C\",\"#365A8C\",\"#365B8C\",\"#355C8C\",\"#355D8C\",\"#345E8D\",\"#345F8D\",\"#33608D\",\"#33618D\",\"#32628D\",\"#32638D\",\"#31648D\",\"#31658D\",\"#31668D\",\"#30678D\",\"#30688D\",\"#2F698D\",\"#2F6A8D\",\"#2E6B8E\",\"#2E6C8E\",\"#2E6D8E\",\"#2D6E8E\",\"#2D6F8E\",\"#2C708E\",\"#2C718E\",\"#2C728E\",\"#2B738E\",\"#2B748E\",\"#2A758E\",\"#2A768E\",\"#2A778E\",\"#29788E\",\"#29798E\",\"#287A8E\",\"#287A8E\",\"#287B8E\",\"#277C8E\",\"#277D8E\",\"#277E8E\",\"#267F8E\",\"#26808E\",\"#26818E\",\"#25828E\",\"#25838D\",\"#24848D\",\"#24858D\",\"#24868D\",\"#23878D\",\"#23888D\",\"#23898D\",\"#22898D\",\"#228A8D\",\"#228B8D\",\"#218C8D\",\"#218D8C\",\"#218E8C\",\"#208F8C\",\"#20908C\",\"#20918C\",\"#1F928C\",\"#1F938B\",\"#1F948B\",\"#1F958B\",\"#1F968B\",\"#1E978A\",\"#1E988A\",\"#1E998A\",\"#1E998A\",\"#1E9A89\",\"#1E9B89\",\"#1E9C89\",\"#1E9D88\",\"#1E9E88\",\"#1E9F88\",\"#1EA087\",\"#1FA187\",\"#1FA286\",\"#1FA386\",\"#20A485\",\"#20A585\",\"#21A685\",\"#21A784\",\"#22A784\",\"#23A883\",\"#23A982\",\"#24AA82\",\"#25AB81\",\"#26AC81\",\"#27AD80\",\"#28AE7F\",\"#29AF7F\",\"#2AB07E\",\"#2BB17D\",\"#2CB17D\",\"#2EB27C\",\"#2FB37B\",\"#30B47A\",\"#32B57A\",\"#33B679\",\"#35B778\",\"#36B877\",\"#38B976\",\"#39B976\",\"#3BBA75\",\"#3DBB74\",\"#3EBC73\",\"#40BD72\",\"#42BE71\",\"#44BE70\",\"#45BF6F\",\"#47C06E\",\"#49C16D\",\"#4BC26C\",\"#4DC26B\",\"#4FC369\",\"#51C468\",\"#53C567\",\"#55C666\",\"#57C665\",\"#59C764\",\"#5BC862\",\"#5EC961\",\"#60C960\",\"#62CA5F\",\"#64CB5D\",\"#67CC5C\",\"#69CC5B\",\"#6BCD59\",\"#6DCE58\",\"#70CE56\",\"#72CF55\",\"#74D054\",\"#77D052\",\"#79D151\",\"#7CD24F\",\"#7ED24E\",\"#81D34C\",\"#83D34B\",\"#86D449\",\"#88D547\",\"#8BD546\",\"#8DD644\",\"#90D643\",\"#92D741\",\"#95D73F\",\"#97D83E\",\"#9AD83C\",\"#9DD93A\",\"#9FD938\",\"#A2DA37\",\"#A5DA35\",\"#A7DB33\",\"#AADB32\",\"#ADDC30\",\"#AFDC2E\",\"#B2DD2C\",\"#B5DD2B\",\"#B7DD29\",\"#BADE27\",\"#BDDE26\",\"#BFDF24\",\"#C2DF22\",\"#C5DF21\",\"#C7E01F\",\"#CAE01E\",\"#CDE01D\",\"#CFE11C\",\"#D2E11B\",\"#D4E11A\",\"#D7E219\",\"#DAE218\",\"#DCE218\",\"#DFE318\",\"#E1E318\",\"#E4E318\",\"#E7E419\",\"#E9E419\",\"#ECE41A\",\"#EEE51B\",\"#F1E51C\",\"#F3E51E\",\"#F6E61F\",\"#F8E621\",\"#FAE622\",\"#FDE724\"],\"low\":0.0,\"high\":1.0}}},\"fill_alpha\":{\"type\":\"value\",\"value\":0.6},\"hatch_color\":{\"type\":\"field\",\"field\":\"cosponsor_D_perc\",\"transform\":{\"id\":\"p1720\"}}}},\"nonselection_glyph\":{\"type\":\"object\",\"name\":\"Circle\",\"id\":\"p1766\",\"attributes\":{\"x\":{\"type\":\"field\",\"field\":\"x\"},\"y\":{\"type\":\"field\",\"field\":\"y\"},\"line_color\":{\"type\":\"value\",\"value\":\"grey\"},\"line_alpha\":{\"type\":\"value\",\"value\":0.1},\"fill_color\":{\"type\":\"field\",\"field\":\"cosponsor_D_perc\",\"transform\":{\"id\":\"p1720\"}},\"fill_alpha\":{\"type\":\"value\",\"value\":0.1},\"hatch_color\":{\"type\":\"field\",\"field\":\"cosponsor_D_perc\",\"transform\":{\"id\":\"p1720\"}},\"hatch_alpha\":{\"type\":\"value\",\"value\":0.1}}},\"muted_glyph\":{\"type\":\"object\",\"name\":\"Circle\",\"id\":\"p1767\",\"attributes\":{\"x\":{\"type\":\"field\",\"field\":\"x\"},\"y\":{\"type\":\"field\",\"field\":\"y\"},\"line_color\":{\"type\":\"value\",\"value\":\"grey\"},\"line_alpha\":{\"type\":\"value\",\"value\":0.2},\"fill_color\":{\"type\":\"field\",\"field\":\"cosponsor_D_perc\",\"transform\":{\"id\":\"p1720\"}},\"fill_alpha\":{\"type\":\"value\",\"value\":0.2},\"hatch_color\":{\"type\":\"field\",\"field\":\"cosponsor_D_perc\",\"transform\":{\"id\":\"p1720\"}},\"hatch_alpha\":{\"type\":\"value\",\"value\":0.2}}}}}],\"toolbar\":{\"type\":\"object\",\"name\":\"Toolbar\",\"id\":\"p1728\",\"attributes\":{\"tools\":[{\"type\":\"object\",\"name\":\"PanTool\",\"id\":\"p1753\"},{\"type\":\"object\",\"name\":\"WheelZoomTool\",\"id\":\"p1754\"},{\"type\":\"object\",\"name\":\"ResetTool\",\"id\":\"p1755\"},{\"type\":\"object\",\"name\":\"HoverTool\",\"id\":\"p1756\",\"attributes\":{\"renderers\":\"auto\",\"tooltips\":[[\"Title\",\"@title\"],[\"Session\",\"@session\"],[\"Cluster\",\"@cluster\"]]}}]}},\"left\":[{\"type\":\"object\",\"name\":\"LinearAxis\",\"id\":\"p1746\",\"attributes\":{\"ticker\":{\"type\":\"object\",\"name\":\"BasicTicker\",\"id\":\"p1747\",\"attributes\":{\"mantissas\":[1,2,5]}},\"formatter\":{\"type\":\"object\",\"name\":\"BasicTickFormatter\",\"id\":\"p1749\"},\"major_label_policy\":{\"type\":\"object\",\"name\":\"AllLabels\",\"id\":\"p1748\"}}}],\"below\":[{\"type\":\"object\",\"name\":\"LinearAxis\",\"id\":\"p1739\",\"attributes\":{\"ticker\":{\"type\":\"object\",\"name\":\"BasicTicker\",\"id\":\"p1740\",\"attributes\":{\"mantissas\":[1,2,5]}},\"formatter\":{\"type\":\"object\",\"name\":\"BasicTickFormatter\",\"id\":\"p1742\"},\"major_label_policy\":{\"type\":\"object\",\"name\":\"AllLabels\",\"id\":\"p1741\"}}}],\"center\":[{\"type\":\"object\",\"name\":\"Grid\",\"id\":\"p1745\",\"attributes\":{\"axis\":{\"id\":\"p1739\"}}},{\"type\":\"object\",\"name\":\"Grid\",\"id\":\"p1752\",\"attributes\":{\"dimension\":1,\"axis\":{\"id\":\"p1746\"}}}]}}]}};\n  const render_items = [{\"docid\":\"00972cc8-e4b4-44f1-bdb1-d403e7152bf2\",\"roots\":{\"p1721\":\"ee5b3b3b-c1c9-4519-a8eb-cb7afb48a295\"},\"root_ids\":[\"p1721\"]}];\n  root.Bokeh.embed.embed_items_notebook(docs_json, render_items);\n  }\n  if (root.Bokeh !== undefined) {\n    embed_document(root);\n  } else {\n    let attempts = 0;\n    const timer = setInterval(function(root) {\n      if (root.Bokeh !== undefined) {\n        clearInterval(timer);\n        embed_document(root);\n      } else {\n        attempts++;\n        if (attempts > 100) {\n          clearInterval(timer);\n          console.log(\"Bokeh: ERROR: Unable to run BokehJS code because BokehJS library is missing\");\n        }\n      }\n    }, 10, root)\n  }\n})(window);",
      "application/vnd.bokehjs_exec.v0+json": ""
     },
     "metadata": {
      "application/vnd.bokehjs_exec.v0+json": {
       "id": "p1721"
      }
     },
     "output_type": "display_data"
    }
   ],
   "source": [
    "show(fig)"
   ]
  },
  {
   "cell_type": "code",
   "execution_count": null,
   "metadata": {},
   "outputs": [],
   "source": [
    "    umap_data = umap.UMAP(n_neighbors=15, n_components=2, min_dist=0.0, metric='cosine').fit_transform(german_embeds)\n",
    "    \n",
    "    result = pd.DataFrame(umap_data, columns=['x', 'y'])\n",
    "    \n",
    "    labels = [german_model.topic_mapper_.get_mappings()[i] for i in german_model.hdbscan_model.labels_]\n",
    "    result['labels'] = [german_model.topic_labels_[i] for i in labels]\n",
    "\n",
    "    datasource = ColumnDataSource(\n",
    "        data=dict(\n",
    "            x=result['x'].to_list(),\n",
    "            y=result['y'].to_list(),\n",
    "            title=data['title'].to_list(),\n",
    "            cosponsor_D_perc=data['cosponsor_D_perc'].to_list(),\n",
    "            policyarea=data['policy_area'].to_list(),\n",
    "            # bill=data['number'].to_list(),\n",
    "            session=data['session'].to_list(),\n",
    "            # party=data['partyabbrev'].to_list(),\n",
    "            cluster=result['labels'].to_list()\n",
    "        )\n",
    "    )\n",
    "    \n",
    "    color_dict = {\n",
    "        '90/Greens' : 'green',\n",
    "        'LINKE' : 'blueviolet',\n",
    "    }\n",
    "    \n",
    "    color_map = LinearColorMapper(low=min(data[\"cosponsor_D_perc\"]), high=max(data[\"cosponsor_D_perc\"]), high_color='blue', low_color='red')\n",
    "    \n",
    "    colormapper = linear_cmap(field_name = \"cosponsor_D_perc\", low=min(data[\"cosponsor_D_perc\"]), high=max(data[\"cosponsor_D_perc\"]), palette=palette)\n",
    "    \n",
    "    tooltips = [\n",
    "        ('Title', '@title'),\n",
    "        # ('Party', \"@party\"),\n",
    "        ('Session', '@session'),\n",
    "        # ('Bill', \"@bill\"),\n",
    "        ('Cluster', '@cluster')\n",
    "    ]\n",
    "    \n",
    "    plot_figure = figure(\n",
    "        title=\"UMAP Projection of US Congress bill summaries 115-117\",\n",
    "        width=800, \n",
    "        height=600,\n",
    "        tools=('pan, wheel_zoom, reset, hover'),\n",
    "        tooltips=tooltips\n",
    "    )\n",
    "    \n",
    "    plot_figure.circle(\n",
    "        'x', 'y', source=datasource,\n",
    "        # fill_color=dict(field='cosponsor_D_perc', transform=color_map),\n",
    "        color=colormapper,\n",
    "        line_color=\"grey\", line_alpha=0.6, fill_alpha=0.6, size=4\n",
    "    )"
   ]
  }
 ],
 "metadata": {
  "kernelspec": {
   "display_name": "Python 3.8.5 ('tad_venv3': venv)",
   "language": "python",
   "name": "python3"
  },
  "language_info": {
   "codemirror_mode": {
    "name": "ipython",
    "version": 3
   },
   "file_extension": ".py",
   "mimetype": "text/x-python",
   "name": "python",
   "nbconvert_exporter": "python",
   "pygments_lexer": "ipython3",
   "version": "3.8.5"
  },
  "orig_nbformat": 4,
  "vscode": {
   "interpreter": {
    "hash": "d5cfd89f6a6dfcac9e540512e3a8c085cf6562e04bb9c4c02a1a10c249a9c841"
   }
  }
 },
 "nbformat": 4,
 "nbformat_minor": 2
}
